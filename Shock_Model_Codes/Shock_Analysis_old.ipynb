{
 "cells": [
  {
   "cell_type": "code",
   "execution_count": 7,
   "metadata": {
    "collapsed": true
   },
   "outputs": [],
   "source": [
    "# NEW IRON (12566.768) NEW H (12818.07)"
   ]
  },
  {
   "cell_type": "code",
   "execution_count": 8,
   "metadata": {
    "collapsed": false
   },
   "outputs": [],
   "source": [
    "import scipy.optimize as optimize\n",
    "from scipy.interpolate import griddata\n",
    "import matplotlib as mpl\n",
    "import matplotlib.pyplot as plt\n",
    "import numpy as np\n",
    "import pandas as pd\n",
    "import operator\n",
    "import glob\n",
    "import os\n",
    "%matplotlib inline"
   ]
  },
  {
   "cell_type": "code",
   "execution_count": 9,
   "metadata": {
    "collapsed": false
   },
   "outputs": [],
   "source": [
    "rawobsflux = pd.read_excel(\"nallen/Dered_Fluxes.xlsx\")  # observational data read in\n",
    "obsflux = rawobsflux[-18:]\n",
    "rawunc = pd.read_excel(\"nallen/Dered_Uncertanties.xlsx\")\n",
    "obsunc = rawunc[-18:]\n",
    "\n",
    "obsflux = obsflux.values  # usable values: flux and uncertainty\n",
    "obsunc = obsunc.values"
   ]
  },
  {
   "cell_type": "code",
   "execution_count": 10,
   "metadata": {
    "collapsed": false
   },
   "outputs": [],
   "source": [
    "obsSi = obsflux[:1]  # separating data by spectral line\n",
    "obsFe26 = obsflux[1:2]\n",
    "obsS = obsflux[2:3]\n",
    "obsFe179 = obsflux[3:4]\n",
    "obsNe = obsflux[4:5]\n",
    "obsFe16 = obsflux[13:14]"
   ]
  },
  {
   "cell_type": "code",
   "execution_count": 11,
   "metadata": {
    "collapsed": true
   },
   "outputs": [],
   "source": [
    "runcSi = obsunc[:1]  # raw, same for uncertainties\n",
    "runcFe26 = obsunc[1:2]\n",
    "runcS = obsunc[2:3]\n",
    "runcFe179 = obsunc[3:4]\n",
    "runcNe = obsunc[4:5]\n",
    "runcFe16 = obsunc[13:14]"
   ]
  },
  {
   "cell_type": "code",
   "execution_count": 12,
   "metadata": {
    "collapsed": false
   },
   "outputs": [],
   "source": [
    "def nonzero(full,obs):  # setting zero uncertainty values (1/3 upper limit)\n",
    "    new = []\n",
    "    for i in range(len(full[0])):\n",
    "        if full[0][i] == 0:\n",
    "            use = obs[0][i]/3.\n",
    "            new.append(use)\n",
    "            continue\n",
    "        else:\n",
    "            new.append(full[0][i])\n",
    "            continue\n",
    "    return(new)\n",
    "            "
   ]
  },
  {
   "cell_type": "code",
   "execution_count": 13,
   "metadata": {
    "collapsed": false
   },
   "outputs": [],
   "source": [
    "uncSi = nonzero(runcSi, obsSi)  # final uncertainties by line\n",
    "uncFe26 = nonzero(runcFe26, obsFe26)\n",
    "uncS = nonzero(runcS, obsS)\n",
    "uncFe179 = nonzero(runcFe179, obsFe179)\n",
    "uncNe = nonzero(runcNe, obsNe)\n",
    "uncFe16 = nonzero(runcFe16, obsFe16)"
   ]
  },
  {
   "cell_type": "code",
   "execution_count": 14,
   "metadata": {
    "collapsed": false
   },
   "outputs": [],
   "source": [
    "length = [\"1\",'2','3','4','5','6','7','8']  #bad old method\n",
    "\n",
    "#lenmid = 3311  # importing shock simulation grids\n",
    "#newmid = []\n",
    "#for i in range(1,lenmid+1):\n",
    "#    name = \"S5_Shocks/NewMid/ShockFiles/ShockSpectrum\" + str(i) + \".csv\"\n",
    "#    data = pd.read_csv(name, names = length, engine = 'python')\n",
    "#    newmid.append(data)\n"
   ]
  },
  {
   "cell_type": "code",
   "execution_count": 15,
   "metadata": {
    "collapsed": false
   },
   "outputs": [],
   "source": [
    "#lenmid2 = 3311\n",
    "#newmid2 = []\n",
    "#for i in range(1,lenmid2+1):\n",
    "#    name2 = \"S5_Shocks/NewMid2/ShockFiles/ShockSpectrum\" + str(i) + \".csv\"\n",
    "#    data2 = pd.read_csv(name2, names = length, engine = 'python')\n",
    "#    newmid2.append(data2)"
   ]
  },
  {
   "cell_type": "code",
   "execution_count": 16,
   "metadata": {
    "collapsed": true
   },
   "outputs": [],
   "source": [
    "# implementing natural sorting (ref: https://stackoverflow.com/questions/5967500/how-to-correctly-sort-a-string-with-a-number-inside)\n",
    "\n",
    "import re\n",
    "\n",
    "def atoi(text):\n",
    "    return int(text) if text.isdigit() else text\n",
    "\n",
    "def natural_keys(text):\n",
    "    '''\n",
    "    alist.sort(key=natural_keys) sorts in human order\n",
    "    http://nedbatchelder.com/blog/200712/human_sorting.html\n",
    "    (See Toothy's implementation in the comments)\n",
    "    '''\n",
    "    return [ atoi(c) for c in re.split(r'(\\d+)', text) ]"
   ]
  },
  {
   "cell_type": "code",
   "execution_count": 17,
   "metadata": {
    "collapsed": true
   },
   "outputs": [],
   "source": [
    "def fileread(path): #read in the path to the shock files directory, form \"S5_Shocks/NewMid/ShockFiles/ShockSpectrum*.csv\"\n",
    "    directory = glob.glob(path)\n",
    "    directory.sort(key=natural_keys) #key=os.path.getmtime\n",
    "    files = []\n",
    "    length = ['1','2','3','4','5','6','7','8']\n",
    "    for i in directory:\n",
    "        data = pd.read_csv(i, names = length, engine = 'python')\n",
    "        files.append(data)\n",
    "    \n",
    "    return files\n"
   ]
  },
  {
   "cell_type": "code",
   "execution_count": 18,
   "metadata": {
    "collapsed": true
   },
   "outputs": [],
   "source": [
    "def initial(file):  # taking the important information out of the file (wavelengths and fluxes)\n",
    "    rawdata = file[-len(file)+88:]\n",
    "    rawwl = rawdata[\"1\"]\n",
    "    wl = []\n",
    "    for j in rawwl:\n",
    "        num = float(j)\n",
    "        u = num/10000  # converting to microns\n",
    "        wl.append(u)\n",
    "    raweps = rawdata[\"3\"]\n",
    "    eps = []\n",
    "    for k in raweps:\n",
    "        nums = float(k)\n",
    "        eps.append(nums)\n",
    "    uses = []\n",
    "    for a in range(len(eps)):\n",
    "        vals = [eps[a],wl[a]]\n",
    "        uses.append(vals)\n",
    "    return uses"
   ]
  },
  {
   "cell_type": "code",
   "execution_count": 19,
   "metadata": {
    "collapsed": true
   },
   "outputs": [],
   "source": [
    "def pointlistmake(filelist):  # making a point of (velocity,density) that maps to each wavelength intensity\n",
    "    pointlist = []\n",
    "    \n",
    "    for file in filelist:\n",
    "        fslice = file.values[5][0]\n",
    "        unlist = []\n",
    "        for i in (i for i,x in enumerate(fslice) if x == '_'): # finding the file points containing the velocity\n",
    "            unlist.append(i)\n",
    "        fvel = unlist[0] + 1\n",
    "\n",
    "        for i in (i for i,x in enumerate(fslice) if x == 'k'):\n",
    "            lvel = i\n",
    "        \n",
    "        vel = fslice[fvel:lvel] \n",
    "\n",
    "        fden = unlist[1] + 1\n",
    "\n",
    "        for i in (i for i,x in enumerate(fslice) if x == 'g'):  # same for density\n",
    "            lden = i\n",
    "\n",
    "        den = fslice[fden:lden]\n",
    "\n",
    "        point = [vel, den]\n",
    "        pointlist.append(point)\n",
    "    \n",
    "    return(pointlist)"
   ]
  },
  {
   "cell_type": "code",
   "execution_count": 20,
   "metadata": {
    "collapsed": false
   },
   "outputs": [],
   "source": [
    "def modlistmake(file):\n",
    "    modlist = []\n",
    "    t = 0\n",
    "    while t < len(file):\n",
    "        lst = file[t]\n",
    "        listup = initial(lst)\n",
    "        \n",
    "        muep = [item[0] for item in listup]\n",
    "        muwl = [item[1] for item in listup]\n",
    "        \n",
    "        for i in (i for i,x in enumerate(muwl) if x == 34.8140927):  # 34.8 Si line\n",
    "            usi = muep[i]\n",
    "        \n",
    "        for i in (i for i,x in enumerate(muwl) if x == 25.988404):  # 26 Fe line\n",
    "            ufe1 = muep[i]\n",
    "            \n",
    "        for i in (i for i,x in enumerate(muwl) if x == 25.2490184):  # Sulfur line 1\n",
    "            us1 = muep[i]\n",
    "        \n",
    "        for i in (i for i,x in enumerate(muwl) if x == 25.2):  # Sulfur line 2\n",
    "            us2 = muep[i]\n",
    "            \n",
    "        us = us1 + us2\n",
    "        \n",
    "        for i in (i for i,x in enumerate(muwl) if x == 17.9360294):  # 17.9 Fe line\n",
    "            ufe2 = muep[i] * (2/3)\n",
    "        \n",
    "        for i in (i for i,x in enumerate(muwl) if x == 12.8135475):  # Neon line\n",
    "            une = muep[i]\n",
    "            \n",
    "        for i in (i for i,x in enumerate(muwl) if x == 1.6435526999999999):  # 1.644 Fe line\n",
    "            ufe3 = muep[i]\n",
    "        \n",
    "        modlist.append([usi, ufe1, us, ufe2, une, ufe3])\n",
    "        t = t+1\n",
    "    \n",
    "    return(modlist)"
   ]
  },
  {
   "cell_type": "code",
   "execution_count": 21,
   "metadata": {
    "collapsed": true
   },
   "outputs": [],
   "source": [
    "def plotmodlistmake(file):  # finding the important lines for plotting\n",
    "    modlist = []\n",
    "    listup = initial(file)\n",
    "        \n",
    "    muep = [item[0] for item in listup]\n",
    "    muwl = [item[1] for item in listup]\n",
    "    \n",
    "    for i in (i for i,x in enumerate(muwl) if x == 34.8140927):  # 34.8 Si line\n",
    "        usi = muep[i]\n",
    "        \n",
    "    for i in (i for i,x in enumerate(muwl) if x == 25.988404):  # 26 Fe line\n",
    "        ufe1 = muep[i]\n",
    "            \n",
    "    for i in (i for i,x in enumerate(muwl) if x == 25.2490184):  # Sulfur line 1\n",
    "        us1 = muep[i]\n",
    "        \n",
    "    for i in (i for i,x in enumerate(muwl) if x == 25.2):  # Sulfur line 2  \n",
    "        us2 = muep[i]\n",
    "            \n",
    "    us = us1 + us2  # for some reason it splits this sulfur line into two so we have to add\n",
    "        \n",
    "    for i in (i for i,x in enumerate(muwl) if x == 17.9360294):  # 17.9 Fe line\n",
    "        ufe2 = muep[i] * (2/3)\n",
    "        \n",
    "    for i in (i for i,x in enumerate(muwl) if x == 12.8135475):  # Neon line\n",
    "        une = muep[i]\n",
    "            \n",
    "    for i in (i for i,x in enumerate(muwl) if x == 1.6435526999999999):  # 1.644 Fe line\n",
    "        ufe3 = muep[i]\n",
    "     \n",
    "    modlist.append([usi, ufe1, us, ufe2, une, ufe3])\n",
    "    \n",
    "    return(modlist)"
   ]
  },
  {
   "cell_type": "code",
   "execution_count": 22,
   "metadata": {
    "collapsed": true
   },
   "outputs": [],
   "source": [
    "def initialize(path): #\"Documents/GGD37/Odd_Vel/ShockSpectrum*.csv\", all you should need to do is run this function\n",
    "    files = fileread(path)\n",
    "    #felist = femodlistmake(files)\n",
    "    modlist = modlistmake(files)\n",
    "    pointlist = pointlistmake(files)\n",
    "    #ratiolist = fe_ratios(felist)\n",
    "    \n",
    "    return pointlist, modlist"
   ]
  },
  {
   "cell_type": "code",
   "execution_count": 23,
   "metadata": {
    "collapsed": false
   },
   "outputs": [],
   "source": [
    "pointnewmid, modnewmid = initialize(\"S5_Shocks/NewMid/ShockFiles/ShockSpectrum*.csv\")"
   ]
  },
  {
   "cell_type": "code",
   "execution_count": null,
   "metadata": {
    "collapsed": true
   },
   "outputs": [],
   "source": []
  },
  {
   "cell_type": "code",
   "execution_count": 24,
   "metadata": {
    "collapsed": false
   },
   "outputs": [],
   "source": [
    "#modnewtop = modlistmake(newtop)  # initializing lists from files (same can be done for any modlist/pointlist)\n",
    "#modnewtop2 = modlistmake(newtop2)\n",
    "#modnewmid = modlistmake(newmid)\n",
    "#modnewmid2 = modlistmake(newmid2)"
   ]
  },
  {
   "cell_type": "code",
   "execution_count": 25,
   "metadata": {
    "collapsed": true
   },
   "outputs": [],
   "source": [
    "#pointnewtop = pointlistmake(newtop)\n",
    "#pointnewtop2 = pointlistmake(newtop2)\n",
    "#pointnewmid = pointlistmake(newmid)\n",
    "#pointnewmid2 = pointlistmake(newmid2)"
   ]
  },
  {
   "cell_type": "code",
   "execution_count": 26,
   "metadata": {
    "collapsed": true
   },
   "outputs": [],
   "source": [
    "def matchfind(nplist, scalelist, idx, pointlist):  # finding the scale value, parameters of matched shock\n",
    "    ipos = nplist[idx]\n",
    "    print pointlist\n",
    "    \n",
    "    scale = scalelist[idx]\n",
    "    pos = pointlist[ipos]\n",
    "    need = [ipos, pos, scale]\n",
    "    return(need)\n",
    "    "
   ]
  },
  {
   "cell_type": "code",
   "execution_count": 27,
   "metadata": {
    "collapsed": false
   },
   "outputs": [],
   "source": [
    "def chisqAll(scale, obslist, unclist, modlist):  # finding chisquare value for all lines\n",
    "    slist = []\n",
    "    alpha, beta, delta, epsilon, zeta = obslist[0], obslist[1], obslist[2], obslist[3], obslist[4]\n",
    "    uncalpha, uncbeta, uncdelta, uncepsilon, unczeta = unclist[0], unclist[1], unclist[2], unclist[3], unclist[4]\n",
    "    \n",
    "    w = 0\n",
    "    while w < len(modlist):  # basic chisquared minimization\n",
    "        chisq = ((alpha - (modlist[w][0])*scale)/\n",
    "        uncalpha)**2 + ((beta - (modlist[w][1])*scale)/\n",
    "        uncbeta)**2  + ((delta - (modlist[w][3])*scale)/\n",
    "        uncdelta)**2 + ((epsilon - (modlist[w][4])*scale)/\n",
    "        uncepsilon)**2 + ((zeta - (modlist[w][5])*scale)/unczeta)**2\n",
    "        \n",
    "        slist.append(chisq)\n",
    "        w = w + 1\n",
    "    val = min(slist)\n",
    "    for i in (i for i,x in enumerate(slist) if x == val):  \n",
    "        idx = i\n",
    "    ret = [val, idx]\n",
    "    return(ret)\n"
   ]
  },
  {
   "cell_type": "code",
   "execution_count": 28,
   "metadata": {
    "collapsed": false
   },
   "outputs": [],
   "source": [
    "def allmatch(pos, modlist, pointlist): # getting all information about match, not including S\n",
    "    slist = []\n",
    "    nplist = []\n",
    "    scalelist = []\n",
    "    idxlist = []\n",
    "    \n",
    "    alpha = obsSi[0][pos]\n",
    "    beta = obsFe26[0][pos]\n",
    "    delta = obsFe179[0][pos]\n",
    "    epsilon = obsNe[0][pos]\n",
    "    zeta = obsFe16[0][pos]\n",
    "    \n",
    "    uncalpha = uncSi[pos]\n",
    "    uncbeta = uncFe26[pos]\n",
    "    uncdelta = uncFe179[pos]\n",
    "    uncepsilon = uncNe[pos]\n",
    "    unczeta = uncFe16[pos]\n",
    "    \n",
    "    obslist = [alpha, beta, delta, epsilon, zeta]\n",
    "    unclist = [uncalpha, uncbeta, uncdelta, uncepsilon, unczeta]\n",
    "    \n",
    "    scale = 10**(-15)\n",
    "    minim = 1000\n",
    "    while scale < 10**(-10):  # setting cutoff minimum chi squared value\n",
    "        nminit = chisqAll(scale, obslist, unclist, modlist)\n",
    "        nmin = nminit[0]\n",
    "        idxlist.append(nminit[1])\n",
    "        if nmin < minim:\n",
    "            minim = nmin\n",
    "            slist.append(nmin)\n",
    "            nplist.append(nminit[1])\n",
    "        else:\n",
    "            slist.append(float(\"inf\"))\n",
    "            nplist.append(float(\"inf\"))\n",
    "        \n",
    "        scalelist.append(scale)\n",
    "        scale = scale*1.005\n",
    "    val = min(slist)\n",
    "    for i in (i for i,x in enumerate(slist) if x == min(slist)):  \n",
    "        idx = i\n",
    "    \n",
    "    values = matchfind(nplist, scalelist, idx, pointlist)\n",
    "    return(val,values)\n",
    "        "
   ]
  },
  {
   "cell_type": "code",
   "execution_count": 29,
   "metadata": {
    "collapsed": true
   },
   "outputs": [],
   "source": [
    "def chisqAllred(scale, obslist, unclist, modlist):  # chisquare for just 4 important lines (Si, Ne, Fe26, Fe179)\n",
    "    slist = []\n",
    "    alpha, beta, delta, epsilon = obslist[0], obslist[1], obslist[2], obslist[3]\n",
    "    uncalpha, uncbeta, uncdelta, uncepsilon = unclist[0], unclist[1], unclist[2], unclist[3]\n",
    "    \n",
    "    w = 0\n",
    "    while w < len(modlist):\n",
    "        chisq = ((alpha - (modlist[w][0])*scale)/\n",
    "        uncalpha)**2 + ((beta - (modlist[w][1])*scale)/\n",
    "        uncbeta)**2 + ((delta - (modlist[w][3])*scale)/\n",
    "        uncdelta)**2 + ((epsilon - (modlist[w][4])*scale)/\n",
    "        uncepsilon)**2\n",
    "        \n",
    "        slist.append(chisq)\n",
    "        w = w + 1\n",
    "    val = min(slist)\n",
    "    idx = np.argmin(slist)\n",
    "    ret = [val, idx]\n",
    "    return(ret)"
   ]
  },
  {
   "cell_type": "code",
   "execution_count": 30,
   "metadata": {
    "collapsed": true
   },
   "outputs": [],
   "source": [
    "def allmatchred(pos, modlist, pointlist):  # match for just 4 important lines \n",
    "    slist = []\n",
    "    nplist = []\n",
    "    scalelist = []\n",
    "    idxlist = []\n",
    "    \n",
    "    alpha = obsSi[0][pos]  # important lines: Fe 26, 17.9, Si, Ne\n",
    "    beta = obsFe26[0][pos]\n",
    "    delta = obsFe179[0][pos]\n",
    "    epsilon = obsNe[0][pos]\n",
    "    \n",
    "    uncalpha = uncSi[pos]\n",
    "    uncbeta = uncFe26[pos]\n",
    "    uncdelta = uncFe179[pos]\n",
    "    uncepsilon = uncNe[pos]\n",
    "    \n",
    "    obslist = [alpha, beta, delta, epsilon]\n",
    "    unclist = [uncalpha, uncbeta, uncdelta, uncepsilon]\n",
    "    \n",
    "    scale = 10**(-15)\n",
    "    minim = 1000\n",
    "    while scale < 10**(-10):\n",
    "        nminit = chisqAllred(scale, obslist, unclist, modlist)\n",
    "        nmin = nminit[0]\n",
    "        idxlist.append(nminit[1])\n",
    "        if nmin <= minim:\n",
    "            minim = nmin\n",
    "            slist.append(nmin)\n",
    "            nplist.append(nminit[1])\n",
    "        else:\n",
    "            slist.append(float(\"inf\"))\n",
    "            nplist.append(float(\"inf\"))\n",
    "        \n",
    "        scalelist.append(scale)\n",
    "        scale = scale*1.005\n",
    "    \n",
    "    val = min(slist)\n",
    "    idx = np.argmin(slist)\n",
    "    values = matchfind(nplist, scalelist, idx, pointlist)\n",
    "    return(val,values)"
   ]
  },
  {
   "cell_type": "code",
   "execution_count": 31,
   "metadata": {
    "collapsed": true
   },
   "outputs": [],
   "source": [
    "def allmatch_g(pos, modlist, pointlist): # getting all information about match\n",
    "    slist = []\n",
    "    nplist = []\n",
    "    scalelist = []\n",
    "    idxlist = []\n",
    "    \n",
    "    alpha = obsSi[0][pos]\n",
    "    beta = obsFe26[0][pos]\n",
    "    #gamma = obsS[0][pos]\n",
    "    delta = obsFe179[0][pos]\n",
    "    epsilon = obsNe[0][pos]\n",
    "    zeta = obsFe16[0][pos]\n",
    "    \n",
    "    uncalpha = uncSi[pos]\n",
    "    uncbeta = uncFe26[pos]\n",
    "    #uncgamma = uncS[pos]\n",
    "    uncdelta = uncFe179[pos]\n",
    "    uncepsilon = uncNe[pos]\n",
    "    unczeta = uncFe16[pos]\n",
    "    \n",
    "    obslist = [alpha, beta, '''gamma''', delta, epsilon, zeta]\n",
    "    unclist = [uncalpha, uncbeta, '''uncgamma''', uncdelta, uncepsilon, unczeta]\n",
    "    \n",
    "    scale = 10**(-15)\n",
    "    minim = 1000\n",
    "    while scale < 10**(-10):\n",
    "        nminit = chisqAll(scale, obslist, unclist, modlist)\n",
    "        nmin = nminit[0]\n",
    "        idxlist.append(nminit[1])\n",
    "        if nmin < minim:\n",
    "            minim = nmin\n",
    "            slist.append(nmin)\n",
    "            nplist.append(nminit[1])\n",
    "        else:\n",
    "            slist.append(float(\"inf\"))\n",
    "            nplist.append(float(\"inf\"))\n",
    "        \n",
    "        scalelist.append(scale)\n",
    "        scale = scale*1.005\n",
    "    val = min(slist)\n",
    "    for i in (i for i,x in enumerate(slist) if x == min(slist)):  \n",
    "        idx = i\n",
    "    \n",
    "    values = matchfind(nplist, scalelist, idx, pointlist)\n",
    "    return(val,values)\n",
    "        "
   ]
  },
  {
   "cell_type": "code",
   "execution_count": 39,
   "metadata": {
    "collapsed": false
   },
   "outputs": [],
   "source": [
    "def plotspectra(file, pos, offset): # creating a wavelength vs. intensity plot for each file, with observational data\n",
    "    plot = initial(file)\n",
    "    ep = [item[0] for item in plot]\n",
    "    wl = [item[1] for item in plot]\n",
    "    \n",
    "    special = plotmodlistmake(file) # [si, fe26, s, fe179, ne, fe16]\n",
    "    sep = special[0]\n",
    "    swl = [34.8140927, 25.988404, 25.2490184, 17.9360294, 12.8135475, 1.6435527]\n",
    "    \n",
    "    feplot1 = (obsFe16[0][pos])/offset\n",
    "    feplot2 = (obsFe179[0][pos])/offset\n",
    "    feplot3 = (obsFe26[0][pos])/offset\n",
    "    siplot = (obsSi[0][pos])/offset\n",
    "    neplot = (obsNe[0][pos])/offset\n",
    "    splot = (obsS[0][pos])/offset\n",
    "    \n",
    "    ufeplot1 = (uncFe16[pos])/offset\n",
    "    ufeplot2 = (uncFe179[pos])/offset\n",
    "    ufeplot3 = (uncFe26[pos])/offset\n",
    "    usiplot = (uncSi[pos])/offset\n",
    "    uneplot = (uncNe[pos])/offset\n",
    "    usplot = (uncS[pos])/offset\n",
    "    \n",
    "    '''\n",
    "    plotfe1 = [1.6435527, feplot1]\n",
    "    plotfe2 = [17.9360294, feplot2]\n",
    "    plotfe3 = [25.988404, feplot3]\n",
    "    plotsi = [34.8140927, siplot]\n",
    "    plotne = [12.8135475, neplot]\n",
    "    plots = [25.2490184, splot]\n",
    "    '''\n",
    "    \n",
    "    obswl = [1.6435527, 17.9360294, 25.988404, 34.8140927, 12.8135475, 25.2490184]\n",
    "    obsep = [feplot1, feplot2, feplot3, siplot, neplot, splot]\n",
    "    interest = [siplot, feplot3, splot, feplot2, neplot, feplot1]\n",
    "    #plotting = [plotfe1, plotfe2, plotfe3, plotsi, plotne, plots]\n",
    "    \n",
    "    fig, ax = plt.subplots(figsize = (14,8))\n",
    "    \n",
    "    #ax.errorbar(obswl,obsep, yerr = obsun, fmt='o', capsize=5)\n",
    "    \n",
    "    ax.set_yscale('log')\n",
    "    ax.set_xscale('log')\n",
    "    ax.set_ylabel('Flux (HB = 1)')\n",
    "    ax.set_xlabel(r'$\\rm Wavelength (\\mu m)$')\n",
    "    ax.annotate(\"Fe 1.64\", xy=(1.6435527+.1, feplot1))\n",
    "    ax.annotate(\"Fe 17.9\", xy=(17.9360294-2.2, feplot2+.025))\n",
    "    ax.annotate(\"Fe 26\", xy=(25.988404-.7, feplot3+.025))\n",
    "    ax.annotate(\"Si\", xy=(34.8140927+1.5, siplot))\n",
    "    ax.annotate(\"Ne\", xy=(12.8135475-1, neplot+.015))\n",
    "    ax.annotate(\"S\", xy=(25.2490184+1.2, splot))\n",
    "    ax.stem(obswl, obsep, 'b', markerfmt='bo')\n",
    "    ax.stem(wl, ep, 'g', markerfmt='go')\n",
    "    ax.stem(swl, sep, 'r', markerfmt='ro')\n",
    "    plt.savefig(\"hh7large.jpg\")\n",
    "    plt.show()\n",
    "    \n",
    "    print(\"Observed:\", interest)\n",
    "    print(\"Simulated:\", sep)\n",
    "    print(\"Differences: Si\" ,interest[0]-sep[0], \", Fe26\", interest[1]-sep[1], \", S\", interest[2]-sep[2],\n",
    "          \", Fe179\", interest[3]-sep[3], \", Ne\", interest[4]-sep[4], \", Fe16\", interest[5]-sep[5])\n",
    "    "
   ]
  },
  {
   "cell_type": "code",
   "execution_count": 40,
   "metadata": {
    "collapsed": false
   },
   "outputs": [],
   "source": [
    "def plotspectrasmall(file, pos, offset): # creating a wavelength vs. intensity plot for each file, with observational data\n",
    "    plot = initial(file)\n",
    "    ep = [item[0] for item in plot]\n",
    "    wl = [item[1] for item in plot]\n",
    "    \n",
    "    special = plotmodlistmake(file) # [si, fe26, s, fe179, ne, fe16]\n",
    "    sep = special[0]\n",
    "    swl = [34.8140927, 25.988404, 25.2490184, 17.9360294, 12.8135475, 1.6435527]\n",
    "    \n",
    "    feplot1 = (obsFe16[0][pos])/offset\n",
    "    feplot2 = (obsFe179[0][pos])/offset\n",
    "    feplot3 = (obsFe26[0][pos])/offset\n",
    "    siplot = (obsSi[0][pos])/offset\n",
    "    neplot = (obsNe[0][pos])/offset\n",
    "    splot = (obsS[0][pos])/offset\n",
    "    \n",
    "    ufeplot1 = (uncFe16[pos])/offset\n",
    "    ufeplot2 = (uncFe179[pos])/offset\n",
    "    ufeplot3 = (uncFe26[pos])/offset\n",
    "    usiplot = (uncSi[pos])/offset\n",
    "    uneplot = (uncNe[pos])/offset\n",
    "    usplot = (uncS[pos])/offset\n",
    "    \n",
    "    '''\n",
    "    plotfe1 = [1.6435527, feplot1]\n",
    "    plotfe2 = [17.9360294, feplot2]\n",
    "    plotfe3 = [25.988404, feplot3]\n",
    "    plotsi = [34.8140927, siplot]\n",
    "    plotne = [12.8135475, neplot]\n",
    "    plots = [25.2490184, splot]\n",
    "    '''\n",
    "    \n",
    "    obswl = [1.6435527, 17.9360294, 25.988404, 34.8140927, 12.8135475, 25.2490184]\n",
    "    obsep = [feplot1, feplot2, feplot3, siplot, neplot, splot]\n",
    "    interest = [siplot, feplot3, splot, feplot2, neplot, feplot1]\n",
    "    #plotting = [plotfe1, plotfe2, plotfe3, plotsi, plotne, plots]\n",
    "    \n",
    "    rwl = wl[-120:]\n",
    "    rep = ep[-120:]\n",
    "    \n",
    "    obsun = [ufeplot1, ufeplot2, ufeplot3, usiplot, uneplot, usplot]\n",
    "    \n",
    "    fig, ax = plt.subplots(figsize = (14,8))\n",
    "    \n",
    "    ax.errorbar(obswl,obsep, yerr = obsun, fmt='o', capsize=100)\n",
    "    \n",
    "    ax.set_yscale('log')\n",
    "    ax.set_xscale('log')\n",
    "    ax.set_ylabel('Flux (HB = 1)')\n",
    "    ax.set_xlabel(r'$\\rm Wavelength (\\mu m)$')\n",
    "    ax.annotate(\"Fe 1.64\", xy=(1.6435527+.1, feplot1))\n",
    "    ax.annotate(\"Fe 17.9\", xy=(17.9360294+1.1, feplot2))\n",
    "    ax.annotate(\"Fe 26\", xy=(25.988404+1.2, feplot3))\n",
    "    ax.annotate(\"Si\", xy=(34.8140927+1.5, siplot))\n",
    "    ax.annotate(\"Ne\", xy=(12.8135475-.25, neplot+.015))\n",
    "    ax.annotate(\"S\", xy=(25.2490184+1.2, splot))\n",
    "    ax.stem(obswl, obsep, 'b', markerfmt='bo')\n",
    "    ax.stem(rwl, rep, 'g', markerfmt='go')\n",
    "    ax.stem(swl, sep, 'r', markerfmt='ro')\n",
    "    plt.savefig(\"HH7.jpg\")\n",
    "    plt.show()\n",
    "    \n",
    "    print(\"Observed:\", interest)\n",
    "    print(\"Simulated:\", sep)\n",
    "    print(\"Differences: Si\" ,interest[0]-sep[0], \", Fe26\", interest[1]-sep[1], \", S\", interest[2]-sep[2],\n",
    "          \", Fe179\", interest[3]-sep[3], \", Ne\", interest[4]-sep[4], \", Fe16\", interest[5]-sep[5])\n",
    "    "
   ]
  },
  {
   "cell_type": "code",
   "execution_count": 34,
   "metadata": {
    "collapsed": false
   },
   "outputs": [
    {
     "ename": "NameError",
     "evalue": "name 'modnewtop2' is not defined",
     "output_type": "error",
     "traceback": [
      "\u001b[1;31m---------------------------------------------------------------------------\u001b[0m",
      "\u001b[1;31mNameError\u001b[0m                                 Traceback (most recent call last)",
      "\u001b[1;32m<ipython-input-34-8b9757fc7193>\u001b[0m in \u001b[0;36m<module>\u001b[1;34m()\u001b[0m\n\u001b[1;32m----> 1\u001b[1;33m \u001b[1;32mprint\u001b[0m\u001b[1;33m(\u001b[0m\u001b[0mallmatch\u001b[0m\u001b[1;33m(\u001b[0m\u001b[1;36m3\u001b[0m\u001b[1;33m,\u001b[0m\u001b[0mmodnewtop2\u001b[0m\u001b[1;33m,\u001b[0m \u001b[0mpointnewtop2\u001b[0m\u001b[1;33m)\u001b[0m\u001b[1;33m)\u001b[0m\u001b[1;33m\u001b[0m\u001b[0m\n\u001b[0m",
      "\u001b[1;31mNameError\u001b[0m: name 'modnewtop2' is not defined"
     ]
    }
   ],
   "source": [
    "print(allmatch(3,modnewtop2, pointnewtop2))"
   ]
  },
  {
   "cell_type": "code",
   "execution_count": null,
   "metadata": {
    "collapsed": false
   },
   "outputs": [],
   "source": [
    "print(allmatch(3,modnewmid2, pointnewmid2))\n",
    "print(allmatch(3,modnewtop, pointnewtop))\n",
    "print(allmatch(3,modnewtop2, pointnewtop2))"
   ]
  },
  {
   "cell_type": "code",
   "execution_count": null,
   "metadata": {
    "collapsed": false
   },
   "outputs": [],
   "source": [
    "#print(allmatch(1,modnewmid, pointnewmid))\n",
    "#print(allmatch(1,modnewmid2, pointnewmid2))\n",
    "#print(allmatch(1,modnewtop, pointnewtop))\n",
    "#print(allmatch(1,modnewtop2, pointnewtop2))"
   ]
  },
  {
   "cell_type": "code",
   "execution_count": null,
   "metadata": {
    "collapsed": false
   },
   "outputs": [],
   "source": [
    "#print(allmatch(2,modnewmid, pointnewmid))\n",
    "#print(allmatch(2,modnewmid2, pointnewmid2))\n",
    "#print(allmatch(2,modnewtop, pointnewtop))\n",
    "#print(allmatch(2,modnewtop2, pointnewtop2))"
   ]
  },
  {
   "cell_type": "code",
   "execution_count": null,
   "metadata": {
    "collapsed": false
   },
   "outputs": [],
   "source": [
    "#print(allmatchred(3,modnewmid, pointnewmid))\n",
    "#print(allmatchred(3,modnewmid2, pointnewmid2))\n",
    "#print(allmatchred(3,modnewtop, pointnewtop))\n",
    "#print(allmatchred(3,modnewtop2, pointnewtop2))"
   ]
  },
  {
   "cell_type": "code",
   "execution_count": null,
   "metadata": {
    "collapsed": false
   },
   "outputs": [],
   "source": [
    "#print(allmatchred(4,modnewmid, pointnewmid))\n",
    "#print(allmatchred(4,modnewmid2, pointnewmid2))\n",
    "#print(allmatchred(4,modnewtop, pointnewtop))\n",
    "#print(allmatchred(4,modnewtop2, pointnewtop2))"
   ]
  },
  {
   "cell_type": "code",
   "execution_count": null,
   "metadata": {
    "collapsed": false
   },
   "outputs": [],
   "source": [
    "#print(allmatchred(5,modnewmid, pointnewmid))\n",
    "#print(allmatchred(5,modnewmid2, pointnewmid2))\n",
    "#print(allmatchred(5,modnewtop, pointnewtop))\n",
    "#print(allmatchred(5,modnewtop2, pointnewtop2))"
   ]
  },
  {
   "cell_type": "code",
   "execution_count": null,
   "metadata": {
    "collapsed": false
   },
   "outputs": [],
   "source": [
    "#print(allmatchred(6,modnewmid, pointnewmid))\n",
    "#print(allmatchred(6,modnewmid2, pointnewmid2))\n",
    "#print(allmatchred(6,modnewtop, pointnewtop))\n",
    "#print(allmatchred(6,modnewtop2, pointnewtop2))"
   ]
  },
  {
   "cell_type": "code",
   "execution_count": null,
   "metadata": {
    "collapsed": false
   },
   "outputs": [],
   "source": [
    "#print(allmatchred(7,modnewmid, pointnewmid))\n",
    "#print(allmatchred(7,modnewmid2, pointnewmid2))\n",
    "#print(allmatchred(7,modnewtop, pointnewtop))\n",
    "#print(allmatchred(7,modnewtop2, pointnewtop2))"
   ]
  },
  {
   "cell_type": "code",
   "execution_count": null,
   "metadata": {
    "collapsed": false
   },
   "outputs": [],
   "source": [
    "#print(allmatchred(8,modnewmid, pointnewmid))\n",
    "#print(allmatchred(8,modnewmid2, pointnewmid2))\n",
    "#print(allmatchred(8,modnewtop, pointnewtop))\n",
    "#print(allmatchred(8,modnewtop2, pointnewtop2))"
   ]
  },
  {
   "cell_type": "code",
   "execution_count": null,
   "metadata": {
    "collapsed": false
   },
   "outputs": [],
   "source": [
    "#print(allmatchred(9,modnewmid, pointnewmid))\n",
    "#print(allmatchred(9,modnewmid2, pointnewmid2))\n",
    "#print(allmatchred(9,modnewtop, pointnewtop))\n",
    "#print(allmatchred(9,modnewtop2, pointnewtop2))"
   ]
  },
  {
   "cell_type": "code",
   "execution_count": null,
   "metadata": {
    "collapsed": false
   },
   "outputs": [],
   "source": [
    "#print(allmatchred(10,modnewmid, pointnewmid))\n",
    "#print(allmatchred(10,modnewmid2, pointnewmid2))\n",
    "#print(allmatchred(10,modnewtop, pointnewtop))\n",
    "#print(allmatchred(10,modnewtop2, pointnewtop2))"
   ]
  },
  {
   "cell_type": "code",
   "execution_count": null,
   "metadata": {
    "collapsed": false
   },
   "outputs": [],
   "source": [
    "#print(allmatchred(11,modnewmid, pointnewmid))\n",
    "#print(allmatchred(11,modnewmid2, pointnewmid2))\n",
    "#print(allmatchred(11,modnewtop, pointnewtop))\n",
    "#print(allmatchred(11,modnewtop2, pointnewtop2))"
   ]
  },
  {
   "cell_type": "code",
   "execution_count": null,
   "metadata": {
    "collapsed": false
   },
   "outputs": [],
   "source": [
    "#print(allmatchred(12,modnewmid, pointnewmid))\n",
    "#print(allmatchred(12,modnewmid2, pointnewmid2))\n",
    "#print(allmatchred(12,modnewtop, pointnewtop))\n",
    "#print(allmatchred(12,modnewtop2, pointnewtop2))"
   ]
  },
  {
   "cell_type": "code",
   "execution_count": null,
   "metadata": {
    "collapsed": false
   },
   "outputs": [],
   "source": [
    "#print(allmatchred(13,modnewmid, pointnewmid))  # no match\n",
    "#print(allmatchred(13,modnewmid2, pointnewmid2))\n",
    "#print(allmatchred(13,modnewtop, pointnewtop))\n",
    "#print(allmatchred(13,modnewtop2, pointnewtop2))"
   ]
  },
  {
   "cell_type": "code",
   "execution_count": null,
   "metadata": {
    "collapsed": false
   },
   "outputs": [],
   "source": [
    "# print(allmatchred(14,modnewmid, pointnewmid))\n",
    "# print(allmatchred(14,modnewmid2, pointnewmid2))\n",
    "# print(allmatchred(14,modnewtop, pointnewtop))\n",
    "# print(allmatchred(14,modnewtop2, pointnewtop2))"
   ]
  },
  {
   "cell_type": "code",
   "execution_count": null,
   "metadata": {
    "collapsed": false
   },
   "outputs": [],
   "source": [
    "# print(allmatchred(15,modnewmid, pointnewmid))\n",
    "# print(allmatchred(15,modnewmid2, pointnewmid2))\n",
    "# print(allmatchred(15,modnewtop, pointnewtop))\n",
    "# print(allmatchred(15,modnewtop2, pointnewtop2))"
   ]
  },
  {
   "cell_type": "code",
   "execution_count": null,
   "metadata": {
    "collapsed": false
   },
   "outputs": [],
   "source": [
    "# print(allmatchred(16,modnewmid, pointnewmid))\n",
    "# print(allmatchred(16,modnewmid2, pointnewmid2))\n",
    "# print(allmatchred(16,modnewtop, pointnewtop))\n",
    "# print(allmatchred(16,modnewtop2, pointnewtop2))"
   ]
  },
  {
   "cell_type": "code",
   "execution_count": null,
   "metadata": {
    "collapsed": false
   },
   "outputs": [],
   "source": [
    "# print(allmatchred(17,modnewmid, pointnewmid))\n",
    "# print(allmatchred(17,modnewmid2, pointnewmid2))\n",
    "# print(allmatchred(17,modnewtop, pointnewtop))\n",
    "# print(allmatchred(17,modnewtop2, pointnewtop2))"
   ]
  },
  {
   "cell_type": "code",
   "execution_count": null,
   "metadata": {
    "collapsed": false
   },
   "outputs": [],
   "source": [
    "# print(allmatchred(18,modnewmid, pointnewmid))\n",
    "# print(allmatchred(18,modnewmid2, pointnewmid2))\n",
    "# print(allmatchred(18,modnewtop, pointnewtop))\n",
    "# print(allmatchred(18,modnewtop2, pointnewtop2))"
   ]
  },
  {
   "cell_type": "code",
   "execution_count": null,
   "metadata": {
    "collapsed": false
   },
   "outputs": [],
   "source": [
    "# print(allmatchred(19,modnewmid, pointnewmid))\n",
    "# print(allmatchred(19,modnewmid2, pointnewmid2))\n",
    "# print(allmatchred(19,modnewtop, pointnewtop))\n",
    "# print(allmatchred(19,modnewtop2, pointnewtop2))"
   ]
  },
  {
   "cell_type": "code",
   "execution_count": null,
   "metadata": {
    "collapsed": false
   },
   "outputs": [],
   "source": [
    "# print(allmatchred(20,modnewmid, pointnewmid))\n",
    "# print(allmatchred(20,modnewmid2, pointnewmid2))\n",
    "# print(allmatchred(20,modnewtop, pointnewtop))\n",
    "# print(allmatchred(20,modnewtop2, pointnewtop2))"
   ]
  },
  {
   "cell_type": "code",
   "execution_count": null,
   "metadata": {
    "collapsed": false
   },
   "outputs": [],
   "source": [
    "#plotspectrasmall(newtop[162], 0, 1.1441400818202383e-12)"
   ]
  },
  {
   "cell_type": "code",
   "execution_count": null,
   "metadata": {
    "collapsed": true
   },
   "outputs": [],
   "source": [
    "# plotspectrasmall(newtop[823], 2, 6.103169321818282e-13)"
   ]
  },
  {
   "cell_type": "code",
   "execution_count": null,
   "metadata": {
    "collapsed": true
   },
   "outputs": [],
   "source": []
  },
  {
   "cell_type": "code",
   "execution_count": null,
   "metadata": {
    "collapsed": false
   },
   "outputs": [],
   "source": [
    "# (1.0251734362683307, [1963, ['67', '15710'], 6.042592333673209e-13])\n",
    "# plotspectrasmall(newtop[1963], 3, 6.042592333673209e-13)"
   ]
  },
  {
   "cell_type": "code",
   "execution_count": null,
   "metadata": {
    "collapsed": false
   },
   "outputs": [],
   "source": [
    "# (0.026766943576049834, [4092, ['73', '47900'], 4.054509803388826e-13])\n",
    "# plotspectrasmall(newtop2[4092], 5, 4.054509803388826e-13)"
   ]
  },
  {
   "cell_type": "code",
   "execution_count": null,
   "metadata": {
    "collapsed": false
   },
   "outputs": [],
   "source": [
    "# (0.49830575399752475, [4081, ['73', '46800'], 7.029520140145591e-12])\n",
    "# plotspectrasmall(newtop2[4081],9,7.029520140145591e-12)"
   ]
  },
  {
   "cell_type": "code",
   "execution_count": null,
   "metadata": {
    "collapsed": false
   },
   "outputs": [],
   "source": [
    "lenmega = 5511\n",
    "mega = []\n",
    "for i in range(1,lenmega+1):\n",
    "    namem = \"S5_Shocks/Mega_Grid/ShockFiles/ShockSpectrum\" + str(i) + \".csv\"\n",
    "    datam = pd.read_csv(namem, names = length, engine = 'python')\n",
    "    mega.append(datam)"
   ]
  },
  {
   "cell_type": "code",
   "execution_count": null,
   "metadata": {
    "collapsed": true
   },
   "outputs": [],
   "source": [
    "modmega = modlistmake(mega)\n",
    "pointmega = pointlistmake(mega)"
   ]
  },
  {
   "cell_type": "code",
   "execution_count": null,
   "metadata": {
    "collapsed": false
   },
   "outputs": [],
   "source": [
    "print(allmatch(0,modmega, pointmega))"
   ]
  },
  {
   "cell_type": "code",
   "execution_count": null,
   "metadata": {
    "collapsed": false
   },
   "outputs": [],
   "source": [
    "lenden = 974\n",
    "extenddenlist = []\n",
    "for i in range(1,lenden+1):\n",
    "    nameden = \"S5_Shocks/ExtendDen/ShockFiles/ShockSpectrum\" + str(i) + \".csv\"\n",
    "    dataden = pd.read_csv(nameden, names = length, engine = 'python')\n",
    "    extenddenlist.append(dataden)"
   ]
  },
  {
   "cell_type": "code",
   "execution_count": null,
   "metadata": {
    "collapsed": true
   },
   "outputs": [],
   "source": [
    "modden = modlistmake(extenddenlist)\n",
    "pointden = pointlistmake(extenddenlist)"
   ]
  },
  {
   "cell_type": "code",
   "execution_count": null,
   "metadata": {
    "collapsed": false
   },
   "outputs": [],
   "source": [
    "print(allmatch(4,modden, pointden))"
   ]
  },
  {
   "cell_type": "code",
   "execution_count": null,
   "metadata": {
    "collapsed": false
   },
   "outputs": [],
   "source": [
    "#print(allmatchred(0,modmega, pointmega))\n",
    "#print(allmatchred(1,modmega, pointmega))\n",
    "#print(allmatchred(2,modmega, pointmega))\n",
    "#print(allmatchred(3,modmega, pointmega))\n",
    "#print(allmatchred(4,modmega, pointmega))\n",
    "#print(allmatchred(5,modmega, pointmega))\n",
    "#print(allmatchred(6,modmega, pointmega))"
   ]
  },
  {
   "cell_type": "code",
   "execution_count": null,
   "metadata": {
    "collapsed": false
   },
   "outputs": [],
   "source": [
    "#print(allmatchred(7,modmega, pointmega))\n",
    "#print(allmatchred(8,modmega, pointmega))\n",
    "#print(allmatchred(9,modmega, pointmega))\n",
    "#print(allmatchred(10,modmega, pointmega))\n",
    "#print(allmatchred(11,modmega, pointmega))\n",
    "#print(allmatchred(12,modmega, pointmega))"
   ]
  },
  {
   "cell_type": "code",
   "execution_count": null,
   "metadata": {
    "collapsed": false
   },
   "outputs": [],
   "source": [
    "#print(allmatchred(14,modmega, pointmega))\n",
    "#print(allmatchred(15,modmega, pointmega))\n",
    "#print(allmatchred(16,modmega, pointmega))\n",
    "#print(allmatchred(17,modmega, pointmega))\n",
    "#print(allmatchred(18,modmega, pointmega))\n",
    "#print(allmatchred(19,modmega, pointmega))\n",
    "#print(allmatchred(20,modmega, pointmega))"
   ]
  },
  {
   "cell_type": "code",
   "execution_count": null,
   "metadata": {
    "collapsed": false
   },
   "outputs": [],
   "source": [
    "#lenup = 4095  # not good matches\n",
    "#up = []\n",
    "#for i in range(1,lenup+1):\n",
    "#    nameu = \"Documents/Research/S5_Shocks/ExtendUp/ShockFiles/ShockSpectrum\" + str(i) + \".csv\"\n",
    "#    datau = pd.read_csv(nameu, names = length, engine = 'python')\n",
    "#    up.append(datau)"
   ]
  },
  {
   "cell_type": "code",
   "execution_count": null,
   "metadata": {
    "collapsed": false
   },
   "outputs": [],
   "source": [
    "lenbmf = 310\n",
    "bmf= []\n",
    "for i in range(1,lenbmf+1):\n",
    "    namebmf = \"S5_Shocks/BMF/ShockSpectrum\" + str(i) + \".csv\"\n",
    "    databmf = pd.read_csv(namebmf, names = length, engine = 'python')\n",
    "    bmf.append(databmf)\n",
    "    \n",
    "modbmf = modlistmake(bmf)\n",
    "pointbmf = pointlistmake(bmf)"
   ]
  },
  {
   "cell_type": "code",
   "execution_count": null,
   "metadata": {
    "collapsed": false
   },
   "outputs": [],
   "source": [
    "print(allmatchred(0,modbmf, pointbmf))"
   ]
  },
  {
   "cell_type": "code",
   "execution_count": null,
   "metadata": {
    "collapsed": false
   },
   "outputs": [],
   "source": [
    "plotspectra(bmf[157], 0, 8.150551591068386e-13)"
   ]
  },
  {
   "cell_type": "code",
   "execution_count": 35,
   "metadata": {
    "collapsed": false
   },
   "outputs": [],
   "source": [
    "lenbhigh = 155\n",
    "bhigh= []\n",
    "for i in range(1,lenbhigh+1):\n",
    "    namebhigh = \"S5_Shocks/NewMid/ShockFiles/ShockSpectrum\" + str(i) + \".csv\"\n",
    "    databhigh = pd.read_csv(namebhigh, names = length, engine = 'python')\n",
    "    bhigh.append(databhigh)\n",
    "    \n",
    "modbhigh = modlistmake(bhigh)\n",
    "pointbhigh = pointlistmake(bhigh)"
   ]
  },
  {
   "cell_type": "code",
   "execution_count": null,
   "metadata": {
    "collapsed": false
   },
   "outputs": [],
   "source": [
    "print(allmatch(4,modbhigh, pointbhigh))"
   ]
  },
  {
   "cell_type": "code",
   "execution_count": 41,
   "metadata": {
    "collapsed": false
   },
   "outputs": [
    {
     "data": {
      "image/png": "[encoded data removed]",
      "text/plain": [
       "<matplotlib.figure.Figure at 0x1e813d68>"
      ]
     },
     "metadata": {},
     "output_type": "display_data"
    },
    {
     "name": "stdout",
     "output_type": "stream",
     "text": [
      "('Observed:', [0.60385347928674671, 0.17365045056880379, 0.36036056065829125, 0.04015199684448395, 0.046893224276805125, 0.80720965804686828])\n",
      "('Simulated:', [0.16408, 0.040761, 0.0060586, 0.0, 0.74141, 0.03942])\n",
      "('Differences: Si', 0.4397734792867467, ', Fe26', 0.1328894505688038, ', S', 0.35430196065829123, ', Fe179', 0.04015199684448395, ', Ne', -0.69451677572319492, ', Fe16', 0.76778965804686827)\n"
     ]
    }
   ],
   "source": [
    "plotspectra(bhigh[130], 0, 8.150551591068386e-13)"
   ]
  },
  {
   "cell_type": "code",
   "execution_count": null,
   "metadata": {
    "collapsed": true
   },
   "outputs": [],
   "source": [
    "# 'S5_Shocks/NewMid/ShockFiles/ShockSpectrum*.csv'"
   ]
  }
 ],
 "metadata": {
  "anaconda-cloud": {},
  "kernelspec": {
   "display_name": "Python [conda root]",
   "language": "python",
   "name": "conda-root-py"
  },
  "language_info": {
   "codemirror_mode": {
    "name": "ipython",
    "version": 2
   },
   "file_extension": ".py",
   "mimetype": "text/x-python",
   "name": "python",
   "nbconvert_exporter": "python",
   "pygments_lexer": "ipython2",
   "version": "2.7.12"
  }
 },
 "nbformat": 4,
 "nbformat_minor": 2
}
