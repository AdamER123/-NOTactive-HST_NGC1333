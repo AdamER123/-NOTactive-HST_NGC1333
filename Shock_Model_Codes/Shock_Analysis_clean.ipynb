{
 "cells": [
  {
   "cell_type": "code",
   "execution_count": null,
   "metadata": {
    "collapsed": true
   },
   "outputs": [],
   "source": [
    "# NEW IRON (12566.768) NEW H (12818.07)"
   ]
  },
  {
   "cell_type": "code",
   "execution_count": 1,
   "metadata": {},
   "outputs": [],
   "source": [
    "from scipy.interpolate import griddata\n",
    "import matplotlib as mpl\n",
    "import matplotlib.pyplot as plt\n",
    "import numpy as np\n",
    "import pandas as pd\n",
    "import operator\n",
    "import glob\n",
    "import os\n",
    "%matplotlib inline"
   ]
  },
  {
   "cell_type": "code",
   "execution_count": 2,
   "metadata": {},
   "outputs": [],
   "source": [
    "rawobsflux = pd.read_excel(\"nallen_obs/Dered_Fluxes.xlsx\")  # observational data read in\n",
    "obsflux = rawobsflux[-18:]\n",
    "rawunc = pd.read_excel(\"nallen_obs/Dered_Uncertanties.xlsx\")\n",
    "obsunc = rawunc[-18:]\n",
    "\n",
    "obsflux = obsflux.values  # usable values: flux and uncertainty\n",
    "obsunc = obsunc.values"
   ]
  },
  {
   "cell_type": "code",
   "execution_count": 3,
   "metadata": {},
   "outputs": [],
   "source": [
    "obsSi = obsflux[:1]  # separating data by spectral line\n",
    "obsFe26 = obsflux[1:2]\n",
    "obsS = obsflux[2:3]\n",
    "obsFe179 = obsflux[3:4]\n",
    "obsNe = obsflux[4:5]\n",
    "obsFe16 = obsflux[13:14]"
   ]
  },
  {
   "cell_type": "code",
   "execution_count": 4,
   "metadata": {
    "collapsed": true
   },
   "outputs": [],
   "source": [
    "runcSi = obsunc[:1]  # raw, same for uncertainties\n",
    "runcFe26 = obsunc[1:2]\n",
    "runcS = obsunc[2:3]\n",
    "runcFe179 = obsunc[3:4]\n",
    "runcNe = obsunc[4:5]\n",
    "runcFe16 = obsunc[13:14]"
   ]
  },
  {
   "cell_type": "code",
   "execution_count": 5,
   "metadata": {},
   "outputs": [],
   "source": [
    "def nonzero(full,obs):  # setting zero uncertainty values (1/3 upper limit)\n",
    "    new = []\n",
    "    for i in range(len(full[0])):\n",
    "        if full[0][i] == 0:\n",
    "            use = obs[0][i]/3.\n",
    "            new.append(use)\n",
    "            continue\n",
    "        else:\n",
    "            new.append(full[0][i])\n",
    "            continue\n",
    "    return(new)\n",
    "            "
   ]
  },
  {
   "cell_type": "code",
   "execution_count": 6,
   "metadata": {},
   "outputs": [],
   "source": [
    "uncSi = nonzero(runcSi, obsSi)  # final uncertainties by line\n",
    "uncFe26 = nonzero(runcFe26, obsFe26)\n",
    "uncS = nonzero(runcS, obsS)\n",
    "uncFe179 = nonzero(runcFe179, obsFe179)\n",
    "uncNe = nonzero(runcNe, obsNe)\n",
    "uncFe16 = nonzero(runcFe16, obsFe16)"
   ]
  },
  {
   "cell_type": "code",
   "execution_count": 7,
   "metadata": {},
   "outputs": [],
   "source": [
    "#length = [\"1\",'2','3','4','5','6','7','8']  bad old method\n",
    "\n",
    "#lenmid = 3311  # importing shock simulation grids\n",
    "#newmid = []\n",
    "#for i in range(1,lenmid+1):\n",
    "#    name = \"S5_Shocks/NewMid/ShockFiles/ShockSpectrum\" + str(i) + \".csv\"\n",
    "#    data = pd.read_csv(name, names = length, engine = 'python')\n",
    "#    newmid.append(data)\n"
   ]
  },
  {
   "cell_type": "code",
   "execution_count": 8,
   "metadata": {},
   "outputs": [],
   "source": [
    "#lenmid2 = 3311\n",
    "#newmid2 = []\n",
    "#for i in range(1,lenmid2+1):\n",
    "#    name2 = \"S5_Shocks/NewMid2/ShockFiles/ShockSpectrum\" + str(i) + \".csv\"\n",
    "#    data2 = pd.read_csv(name2, names = length, engine = 'python')\n",
    "#    newmid2.append(data2)"
   ]
  },
  {
   "cell_type": "code",
   "execution_count": 9,
   "metadata": {
    "collapsed": true
   },
   "outputs": [],
   "source": [
    "# implementing natural sorting (ref: https://stackoverflow.com/questions/5967500/how-to-correctly-sort-a-string-with-a-number-inside)\n",
    "\n",
    "import re\n",
    "\n",
    "def atoi(text):\n",
    "    return int(text) if text.isdigit() else text\n",
    "\n",
    "def natural_keys(text):\n",
    "    '''\n",
    "    alist.sort(key=natural_keys) sorts in human order\n",
    "    http://nedbatchelder.com/blog/200712/human_sorting.html\n",
    "    (See Toothy's implementation in the comments)\n",
    "    '''\n",
    "    return [ atoi(c) for c in re.split(r'(\\d+)', text) ]"
   ]
  },
  {
   "cell_type": "code",
   "execution_count": 10,
   "metadata": {
    "collapsed": true
   },
   "outputs": [],
   "source": [
    "def fileread(path): #read in the path to the shock files directory, form \"S5_Shocks/NewMid/ShockFiles/ShockSpectrum*.csv\"\n",
    "    directory = glob.glob(path)\n",
    "    directory.sort(key=natural_keys) #key=os.path.getmtime\n",
    "    files = []\n",
    "    length = ['1','2','3','4','5','6','7','8']\n",
    "    for i in directory:\n",
    "        data = pd.read_csv(i, names = length, engine = 'python')\n",
    "        files.append(data)\n",
    "    \n",
    "    return files\n"
   ]
  },
  {
   "cell_type": "code",
   "execution_count": 89,
   "metadata": {},
   "outputs": [],
   "source": [
    "def initial(file):  # taking the important information out of the file (wavelengths and fluxes)\n",
    "    rawdata = file[-len(file)+88:]\n",
    "    hbvalpoint = file[76:77]\n",
    "    hbval = float(hbvalpoint.iloc[0][\"4\"])\n",
    "    rawwl = rawdata[\"1\"]\n",
    "    wl = []\n",
    "    for j in rawwl:\n",
    "        num = float(j)\n",
    "        u = num/10000  # converting to microns\n",
    "        wl.append(u)\n",
    "    raweps = rawdata[\"3\"]\n",
    "    eps = []\n",
    "    for k in raweps:\n",
    "        nums = float(k)\n",
    "        eps.append(nums)\n",
    "    uses = []\n",
    "    for a in range(len(eps)):\n",
    "        vals = [eps[a]*hbval,wl[a]]\n",
    "        uses.append(vals)\n",
    "        \n",
    "    return uses"
   ]
  },
  {
   "cell_type": "code",
   "execution_count": 12,
   "metadata": {
    "collapsed": true
   },
   "outputs": [],
   "source": [
    "def pointlistmake(filelist):  # making a point of (velocity,density) that maps to each wavelength intensity\n",
    "    pointlist = []\n",
    "    \n",
    "    for file in filelist:\n",
    "        fslice = file.values[5][0]\n",
    "        unlist = []\n",
    "        for i in (i for i,x in enumerate(fslice) if x == '_'): # finding the file points containing the velocity\n",
    "            unlist.append(i)\n",
    "        fvel = unlist[0] + 1\n",
    "\n",
    "        for i in (i for i,x in enumerate(fslice) if x == 'k'):\n",
    "            lvel = i\n",
    "        \n",
    "        vel = fslice[fvel:lvel] \n",
    "\n",
    "        fden = unlist[1] + 1\n",
    "\n",
    "        for i in (i for i,x in enumerate(fslice) if x == 'g'):  # same for density\n",
    "            lden = i\n",
    "\n",
    "        den = fslice[fden:lden]\n",
    "\n",
    "        point = [vel, den]\n",
    "        pointlist.append(point)\n",
    "    \n",
    "    return(pointlist)"
   ]
  },
  {
   "cell_type": "code",
   "execution_count": 13,
   "metadata": {},
   "outputs": [],
   "source": [
    "def modlistmake(file):\n",
    "    modlist = []\n",
    "    t = 0\n",
    "    while t < len(file):\n",
    "        lst = file[t]\n",
    "        listup = initial(lst)\n",
    "        \n",
    "        muep = [item[0] for item in listup]\n",
    "        muwl = [item[1] for item in listup]\n",
    "        \n",
    "        for i in (i for i,x in enumerate(muwl) if x == 34.8140927):  # 34.8 Si line\n",
    "            usi = muep[i]\n",
    "        \n",
    "        for i in (i for i,x in enumerate(muwl) if x == 25.988404):  # 26 Fe line\n",
    "            ufe1 = muep[i]\n",
    "            \n",
    "        for i in (i for i,x in enumerate(muwl) if x == 25.2490184):  # Sulfur line 1\n",
    "            us1 = muep[i]\n",
    "        \n",
    "        for i in (i for i,x in enumerate(muwl) if x == 25.2):  # Sulfur line 2\n",
    "            us2 = muep[i]\n",
    "            \n",
    "        us = us1 + us2\n",
    "        \n",
    "        for i in (i for i,x in enumerate(muwl) if x == 17.9360294):  # 17.9 Fe line\n",
    "            ufe2 = muep[i] * (2/3)\n",
    "        \n",
    "        for i in (i for i,x in enumerate(muwl) if x == 12.8135475):  # Neon line\n",
    "            une = muep[i]\n",
    "            \n",
    "        for i in (i for i,x in enumerate(muwl) if x == 1.6435526999999999):  # 1.644 Fe line\n",
    "            ufe3 = muep[i]\n",
    "        \n",
    "        modlist.append([usi, ufe1, us, ufe2, une, ufe3])\n",
    "        t = t+1\n",
    "    \n",
    "    return(modlist)"
   ]
  },
  {
   "cell_type": "code",
   "execution_count": 90,
   "metadata": {},
   "outputs": [],
   "source": [
    "def plotmodlistmake(file):  # finding the important lines for plotting\n",
    "    modlist = []\n",
    "    listup = initial(file)\n",
    "        \n",
    "    muep = [item[0] for item in listup]\n",
    "    muwl = [item[1] for item in listup]\n",
    "    \n",
    "    for i in (i for i,x in enumerate(muwl) if x == 34.8140927):  # 34.8 Si line\n",
    "        usi = muep[i]\n",
    "        \n",
    "    for i in (i for i,x in enumerate(muwl) if x == 25.988404):  # 26 Fe line\n",
    "        ufe1 = muep[i]\n",
    "            \n",
    "    for i in (i for i,x in enumerate(muwl) if x == 25.2490184):  # Sulfur line 1\n",
    "        us1 = muep[i]\n",
    "        \n",
    "    for i in (i for i,x in enumerate(muwl) if x == 25.2):  # Sulfur line 2  \n",
    "        us2 = muep[i]\n",
    "            \n",
    "    us = us1 + us2  # for some reason it splits this sulfur line into two so we have to add\n",
    "        \n",
    "    for i in (i for i,x in enumerate(muwl) if x == 17.9360294):  # 17.9 Fe line\n",
    "        ufe2 = muep[i] * (2/3)\n",
    "        \n",
    "    for i in (i for i,x in enumerate(muwl) if x == 12.8135475):  # Neon line\n",
    "        une = muep[i]\n",
    "            \n",
    "    for i in (i for i,x in enumerate(muwl) if x == 1.6435526999999999):  # 1.644 Fe line\n",
    "        ufe3 = muep[i]\n",
    "    \n",
    "    modlist.append([usi, ufe1, us, ufe2, une, ufe3])\n",
    "    \n",
    "    return(modlist)"
   ]
  },
  {
   "cell_type": "code",
   "execution_count": 15,
   "metadata": {
    "collapsed": true
   },
   "outputs": [],
   "source": [
    "def initialize(path): #\"Documents/GGD37/Odd_Vel/ShockSpectrum*.csv\", all you should need to do is run this function\n",
    "    files = fileread(path)\n",
    "    #felist = femodlistmake(files)\n",
    "    modlist = modlistmake(files)\n",
    "    pointlist = pointlistmake(files)\n",
    "    #ratiolist = fe_ratios(felist)\n",
    "    \n",
    "    return files, pointlist, modlist"
   ]
  },
  {
   "cell_type": "code",
   "execution_count": 16,
   "metadata": {},
   "outputs": [],
   "source": [
    "newmid, pointnewmid, modnewmid = initialize(\"S5_Shocks/NewMid/ShockFiles/ShockSpectrum*.csv\")"
   ]
  },
  {
   "cell_type": "code",
   "execution_count": 17,
   "metadata": {
    "collapsed": true
   },
   "outputs": [],
   "source": [
    "mega, pointmega, modmega = initialize(\"S5_Shocks/Mega_Grid/ShockFiles/ShockSpectrum*.csv\")"
   ]
  },
  {
   "cell_type": "code",
   "execution_count": 18,
   "metadata": {},
   "outputs": [],
   "source": [
    "#modnewtop = modlistmake(newtop)  # initializing lists from files (same can be done for any modlist/pointlist)\n",
    "#modnewtop2 = modlistmake(newtop2)\n",
    "#modnewmid = modlistmake(newmid)\n",
    "#modnewmid2 = modlistmake(newmid2)"
   ]
  },
  {
   "cell_type": "code",
   "execution_count": 19,
   "metadata": {
    "collapsed": true
   },
   "outputs": [],
   "source": [
    "#pointnewtop = pointlistmake(newtop)\n",
    "#pointnewtop2 = pointlistmake(newtop2)\n",
    "#pointnewmid = pointlistmake(newmid)\n",
    "#pointnewmid2 = pointlistmake(newmid2)"
   ]
  },
  {
   "cell_type": "code",
   "execution_count": 20,
   "metadata": {
    "collapsed": true
   },
   "outputs": [],
   "source": [
    "def matchfind(nplist, scalelist, idx, pointlist):  # finding the scale value, parameters of matched shock\n",
    "    ipos = nplist[idx]\n",
    "    scale = scalelist[idx]\n",
    "    print(ipos)\n",
    "    pos = pointlist[ipos]\n",
    "    need = [ipos, pos, scale]\n",
    "    return(need)\n",
    "    "
   ]
  },
  {
   "cell_type": "code",
   "execution_count": 21,
   "metadata": {},
   "outputs": [],
   "source": [
    "def chisqAll(scale, obslist, unclist, modlist):  # finding chisquare value for all lines\n",
    "    slist = []\n",
    "    alpha, beta, delta, epsilon, zeta = obslist[0], obslist[1], obslist[2], obslist[3], obslist[4]\n",
    "    uncalpha, uncbeta, uncdelta, uncepsilon, unczeta = unclist[0], unclist[1], unclist[2], unclist[3], unclist[4]\n",
    "    \n",
    "    w = 0\n",
    "    while w < len(modlist):  # basic chisquared minimization\n",
    "        chisq = ((alpha - (modlist[w][0])*scale)/\n",
    "        uncalpha)**2 + ((beta - (modlist[w][1])*scale)/\n",
    "        uncbeta)**2  + ((delta - (modlist[w][3])*scale)/\n",
    "        uncdelta)**2 + ((epsilon - (modlist[w][4])*scale)/\n",
    "        uncepsilon)**2 + ((zeta - (modlist[w][5])*scale)/unczeta)**2\n",
    "        \n",
    "        slist.append(chisq)\n",
    "        w = w + 1\n",
    "    val = min(slist)\n",
    "    for i in (i for i,x in enumerate(slist) if x == val):  \n",
    "        idx = i\n",
    "    ret = [val, idx]\n",
    "    return(ret)\n"
   ]
  },
  {
   "cell_type": "code",
   "execution_count": 22,
   "metadata": {},
   "outputs": [],
   "source": [
    "def allmatch(pos, modlist, pointlist): # getting all information about match, not including S\n",
    "    slist = []\n",
    "    nplist = []\n",
    "    scalelist = []\n",
    "    idxlist = []\n",
    "    \n",
    "    alpha = obsSi[0][pos]\n",
    "    beta = obsFe26[0][pos]\n",
    "    delta = obsFe179[0][pos]\n",
    "    epsilon = obsNe[0][pos]\n",
    "    zeta = obsFe16[0][pos]\n",
    "    \n",
    "    uncalpha = uncSi[pos]\n",
    "    uncbeta = uncFe26[pos]\n",
    "    uncdelta = uncFe179[pos]\n",
    "    uncepsilon = uncNe[pos]\n",
    "    unczeta = uncFe16[pos]\n",
    "    \n",
    "    obslist = [alpha, beta, delta, epsilon, zeta]\n",
    "    unclist = [uncalpha, uncbeta, uncdelta, uncepsilon, unczeta]\n",
    "    \n",
    "    scale = 10**(-15)\n",
    "    minim = 1000\n",
    "    while scale < 10**(-10):  # setting cutoff minimum chi squared value\n",
    "        nminit = chisqAll(scale, obslist, unclist, modlist)\n",
    "        nmin = nminit[0]\n",
    "        idxlist.append(nminit[1])\n",
    "        if nmin < minim:\n",
    "            minim = nmin\n",
    "            slist.append(nmin)\n",
    "            nplist.append(nminit[1])\n",
    "        else:\n",
    "            slist.append(float(\"inf\"))\n",
    "            nplist.append(float(\"inf\"))\n",
    "        \n",
    "        scalelist.append(scale)\n",
    "        scale = scale*1.005\n",
    "    val = min(slist)\n",
    "    for i in (i for i,x in enumerate(slist) if x == min(slist)):  \n",
    "        idx = i\n",
    "    \n",
    "    values = matchfind(nplist, scalelist, idx, pointlist)\n",
    "    return(val,values)\n",
    "        "
   ]
  },
  {
   "cell_type": "code",
   "execution_count": 23,
   "metadata": {
    "collapsed": true
   },
   "outputs": [],
   "source": [
    "def chisqAllred(scale, obslist, unclist, modlist):  # chisquare for just 4 important lines (Si, Ne, Fe26, Fe179)\n",
    "    slist = []\n",
    "    alpha, beta, delta, epsilon = obslist[0], obslist[1], obslist[2], obslist[3]\n",
    "    uncalpha, uncbeta, uncdelta, uncepsilon = unclist[0], unclist[1], unclist[2], unclist[3]\n",
    "    \n",
    "    w = 0\n",
    "    while w < len(modlist):\n",
    "        chisq = ((alpha - (modlist[w][0])*scale)/\n",
    "        uncalpha)**2 + ((beta - (modlist[w][1])*scale)/\n",
    "        uncbeta)**2 + ((delta - (modlist[w][3])*scale)/\n",
    "        uncdelta)**2 + ((epsilon - (modlist[w][4])*scale)/\n",
    "        uncepsilon)**2\n",
    "        \n",
    "        slist.append(chisq)\n",
    "        w = w + 1\n",
    "    val = min(slist)\n",
    "    idx = np.argmin(slist)\n",
    "    ret = [val, idx]\n",
    "    return(ret)"
   ]
  },
  {
   "cell_type": "code",
   "execution_count": 24,
   "metadata": {
    "collapsed": true
   },
   "outputs": [],
   "source": [
    "def allmatchred(pos, modlist, pointlist):  # match for just 4 important lines \n",
    "    slist = []\n",
    "    nplist = []\n",
    "    scalelist = []\n",
    "    idxlist = []\n",
    "    \n",
    "    alpha = obsSi[0][pos]  # important lines: Fe 26, 17.9, Si, Ne\n",
    "    beta = obsFe26[0][pos]\n",
    "    delta = obsFe179[0][pos]\n",
    "    epsilon = obsNe[0][pos]\n",
    "    \n",
    "    uncalpha = uncSi[pos]\n",
    "    uncbeta = uncFe26[pos]\n",
    "    uncdelta = uncFe179[pos]\n",
    "    uncepsilon = uncNe[pos]\n",
    "    \n",
    "    obslist = [alpha, beta, delta, epsilon]\n",
    "    unclist = [uncalpha, uncbeta, uncdelta, uncepsilon]\n",
    "    \n",
    "    scale = 10**(-15)\n",
    "    minim = 1000\n",
    "    while scale < 10**(-10):\n",
    "        nminit = chisqAllred(scale, obslist, unclist, modlist)\n",
    "        nmin = nminit[0]\n",
    "        idxlist.append(nminit[1])\n",
    "        if nmin <= minim:\n",
    "            minim = nmin\n",
    "            slist.append(nmin)\n",
    "            nplist.append(nminit[1])\n",
    "        else:\n",
    "            slist.append(float(\"inf\"))\n",
    "            nplist.append(float(\"inf\"))\n",
    "        \n",
    "        scalelist.append(scale)\n",
    "        scale = scale*1.005\n",
    "    \n",
    "    val = min(slist)\n",
    "    idx = np.argmin(slist)\n",
    "    values = matchfind(nplist, scalelist, idx, pointlist)\n",
    "    return(val,values)"
   ]
  },
  {
   "cell_type": "code",
   "execution_count": 25,
   "metadata": {
    "collapsed": true
   },
   "outputs": [],
   "source": [
    "def allmatch_g(pos, modlist, pointlist): # getting all information about match\n",
    "    slist = []\n",
    "    nplist = []\n",
    "    scalelist = []\n",
    "    idxlist = []\n",
    "    \n",
    "    alpha = obsSi[0][pos]\n",
    "    beta = obsFe26[0][pos]\n",
    "    #gamma = obsS[0][pos]\n",
    "    delta = obsFe179[0][pos]\n",
    "    epsilon = obsNe[0][pos]\n",
    "    zeta = obsFe16[0][pos]\n",
    "    \n",
    "    uncalpha = uncSi[pos]\n",
    "    uncbeta = uncFe26[pos]\n",
    "    #uncgamma = uncS[pos]\n",
    "    uncdelta = uncFe179[pos]\n",
    "    uncepsilon = uncNe[pos]\n",
    "    unczeta = uncFe16[pos]\n",
    "    \n",
    "    obslist = [alpha, beta, '''gamma''', delta, epsilon, zeta]\n",
    "    unclist = [uncalpha, uncbeta, '''uncgamma''', uncdelta, uncepsilon, unczeta]\n",
    "    \n",
    "    scale = 10**(-15)\n",
    "    minim = 1000\n",
    "    while scale < 10**(-10):\n",
    "        nminit = chisqAll(scale, obslist, unclist, modlist)\n",
    "        nmin = nminit[0]\n",
    "        idxlist.append(nminit[1])\n",
    "        if nmin < minim:\n",
    "            minim = nmin\n",
    "            slist.append(nmin)\n",
    "            nplist.append(nminit[1])\n",
    "        else:\n",
    "            slist.append(float(\"inf\"))\n",
    "            nplist.append(float(\"inf\"))\n",
    "        \n",
    "        scalelist.append(scale)\n",
    "        scale = scale*1.005\n",
    "    val = min(slist)\n",
    "    for i in (i for i,x in enumerate(slist) if x == min(slist)):  \n",
    "        idx = i\n",
    "    \n",
    "    values = matchfind(nplist, scalelist, idx, pointlist)\n",
    "    return(val,values)\n",
    "        "
   ]
  },
  {
   "cell_type": "code",
   "execution_count": 45,
   "metadata": {
    "collapsed": true
   },
   "outputs": [],
   "source": [
    "def chisq_Fe_only(scale, obslist, unclist, modlist):  # finding chisquare value for all lines\n",
    "    slist = []\n",
    "    beta, delta, zeta = obslist[1], obslist[2], obslist[4]\n",
    "    uncbeta, uncdelta, unczeta = unclist[1], unclist[2], unclist[4]\n",
    "    \n",
    "    w = 0\n",
    "    while w < len(modlist):  # basic chisquared minimization\n",
    "        chisq = ((beta - (modlist[w][1])*scale)/\n",
    "        uncbeta)**2  + ((delta - (modlist[w][3])*scale)/\n",
    "        uncdelta)**2 + ((zeta - (modlist[w][5])*scale)/unczeta)**2\n",
    "        \n",
    "        slist.append(chisq)\n",
    "        w = w + 1\n",
    "    val = min(slist)\n",
    "    for i in (i for i,x in enumerate(slist) if x == val):  \n",
    "        idx = i\n",
    "    ret = [val, idx]\n",
    "    return(ret)"
   ]
  },
  {
   "cell_type": "code",
   "execution_count": 46,
   "metadata": {
    "collapsed": true
   },
   "outputs": [],
   "source": [
    "def allmatch_Fe_only(pos, modlist, pointlist): # trying to only match to Fe lines\n",
    "    slist = []\n",
    "    nplist = []\n",
    "    scalelist = []\n",
    "    idxlist = []\n",
    "    \n",
    "#     alpha = obsSi[0][pos]\n",
    "    beta = obsFe26[0][pos]\n",
    "    delta = obsFe179[0][pos]\n",
    "#     epsilon = obsNe[0][pos]\n",
    "    zeta = obsFe16[0][pos]\n",
    "    \n",
    "#     uncalpha = uncSi[pos]\n",
    "    uncbeta = uncFe26[pos]\n",
    "    uncdelta = uncFe179[pos]\n",
    "#     uncepsilon = uncNe[pos]\n",
    "    unczeta = uncFe16[pos]\n",
    "    \n",
    "    obslist = ['''alpha''', beta, delta, '''epsilon''', zeta]\n",
    "    unclist = ['''uncalpha''', uncbeta, uncdelta, '''uncepsilon''', unczeta]\n",
    "    \n",
    "    scale = 10**(-18)\n",
    "    minim = 1500.\n",
    "    while scale < 10**(-10):  # setting cutoff minimum chi squared value\n",
    "        nminit = chisq_Fe_only(scale, obslist, unclist, modlist)\n",
    "        nmin = nminit[0]\n",
    "        idxlist.append(nminit[1])\n",
    "        if nmin < minim:\n",
    "            minim = nmin\n",
    "            slist.append(nmin)\n",
    "            nplist.append(nminit[1])\n",
    "        else:\n",
    "            slist.append(float(\"inf\"))\n",
    "            nplist.append(float(\"inf\"))\n",
    "        \n",
    "        scalelist.append(scale)\n",
    "        scale = scale*1.005\n",
    "    val = min(slist)\n",
    "    for i in (i for i,x in enumerate(slist) if x == min(slist)):  \n",
    "        idx = i\n",
    "    \n",
    "    values = matchfind(nplist, scalelist, idx, pointlist)\n",
    "    return(val,values)\n",
    "        "
   ]
  },
  {
   "cell_type": "code",
   "execution_count": 47,
   "metadata": {
    "collapsed": true
   },
   "outputs": [],
   "source": [
    "def chisq_si_ne_fe16(scale, obslist, unclist, modlist):  # finding chisquare value for all lines\n",
    "    slist = []\n",
    "    alpha, epsilon, zeta = obslist[0], obslist[4], obslist[5]\n",
    "    uncalpha, uncepsilon, unczeta = unclist[0], unclist[4], unclist[5]\n",
    "    \n",
    "    w = 0\n",
    "    while w < len(modlist):  # basic chisquared minimization\n",
    "        chisq = ((alpha - (modlist[w][0])*scale)/\n",
    "        uncalpha)**2 + ((epsilon - (modlist[w][4])*scale)/\n",
    "        uncepsilon)**2 + ((zeta - (modlist[w][5])*scale)/unczeta)**2\n",
    "        \n",
    "        slist.append(chisq)\n",
    "        w = w + 1\n",
    "    val = min(slist)\n",
    "    for i in (i for i,x in enumerate(slist) if x == val):  \n",
    "        idx = i\n",
    "    ret = [val, idx]\n",
    "    return(ret)\n"
   ]
  },
  {
   "cell_type": "code",
   "execution_count": 48,
   "metadata": {
    "collapsed": true
   },
   "outputs": [],
   "source": [
    "def allmatch_si_ne_fe16(pos, modlist, pointlist): # getting all information about match\n",
    "    slist = []\n",
    "    nplist = []\n",
    "    scalelist = []\n",
    "    idxlist = []\n",
    "    \n",
    "    alpha = obsSi[0][pos]\n",
    "    #beta = obsFe26[0][pos]\n",
    "    #gamma = obsS[0][pos]\n",
    "    #delta = obsFe179[0][pos]\n",
    "    epsilon = obsNe[0][pos]\n",
    "    zeta = obsFe16[0][pos]\n",
    "    \n",
    "    uncalpha = uncSi[pos]\n",
    "    #uncbeta = uncFe26[pos]\n",
    "    #uncgamma = uncS[pos]\n",
    "    #uncdelta = uncFe179[pos]\n",
    "    uncepsilon = uncNe[pos]\n",
    "    unczeta = uncFe16[pos]\n",
    "    \n",
    "    obslist = [alpha, '''beta''', '''gamma''', '''delta''', epsilon, zeta]\n",
    "    unclist = [uncalpha, '''uncbeta''', '''uncgamma''', '''uncdelta''', uncepsilon, unczeta]\n",
    "    \n",
    "    scale = 10**(-17)\n",
    "    minim = 1500\n",
    "    while scale < 10**(-10):\n",
    "        nminit = chisq_si_ne_fe16(scale, obslist, unclist, modlist)\n",
    "        nmin = nminit[0]\n",
    "        idxlist.append(nminit[1])\n",
    "        if nmin < minim:\n",
    "            minim = nmin\n",
    "            slist.append(nmin)\n",
    "            nplist.append(nminit[1])\n",
    "        else:\n",
    "            slist.append(float(\"inf\"))\n",
    "            nplist.append(float(\"inf\"))\n",
    "        \n",
    "        scalelist.append(scale)\n",
    "        scale = scale*1.005\n",
    "    val = min(slist)\n",
    "    for i in (i for i,x in enumerate(slist) if x == min(slist)):  \n",
    "        idx = i\n",
    "    \n",
    "    values = matchfind(nplist, scalelist, idx, pointlist)\n",
    "    return(val,values)"
   ]
  },
  {
   "cell_type": "code",
   "execution_count": 31,
   "metadata": {},
   "outputs": [],
   "source": [
    "def plotspectra(file, pos, offset): # creating a wavelength vs. intensity plot for each file, with observational data\n",
    "    plot = initial(file)\n",
    "    ep = [item[0] for item in plot]\n",
    "    wl = [item[1] for item in plot]\n",
    "    \n",
    "    special = plotmodlistmake(file) # [si, fe26, s, fe179, ne, fe16]\n",
    "    sep = special[0]\n",
    "    swl = [34.8140927, 25.988404, 25.2490184, 17.9360294, 12.8135475, 1.6435527]\n",
    "    \n",
    "    feplot1 = (obsFe16[0][pos])/offset\n",
    "    feplot2 = (obsFe179[0][pos])/offset\n",
    "    feplot3 = (obsFe26[0][pos])/offset\n",
    "    siplot = (obsSi[0][pos])/offset\n",
    "    neplot = (obsNe[0][pos])/offset\n",
    "    splot = (obsS[0][pos])/offset\n",
    "    \n",
    "    ufeplot1 = (uncFe16[pos])/offset\n",
    "    ufeplot2 = (uncFe179[pos])/offset\n",
    "    ufeplot3 = (uncFe26[pos])/offset\n",
    "    usiplot = (uncSi[pos])/offset\n",
    "    uneplot = (uncNe[pos])/offset\n",
    "    usplot = (uncS[pos])/offset\n",
    "    \n",
    "    '''\n",
    "    plotfe1 = [1.6435527, feplot1]\n",
    "    plotfe2 = [17.9360294, feplot2]\n",
    "    plotfe3 = [25.988404, feplot3]\n",
    "    plotsi = [34.8140927, siplot]\n",
    "    plotne = [12.8135475, neplot]\n",
    "    plots = [25.2490184, splot]\n",
    "    '''\n",
    "    \n",
    "    obswl = [1.6435527, 17.9360294, 25.988404, 34.8140927, 12.8135475, 25.2490184]\n",
    "    obsep = [feplot1, feplot2, feplot3, siplot, neplot, splot]\n",
    "    interest = [siplot, feplot3, splot, feplot2, neplot, feplot1]\n",
    "    #plotting = [plotfe1, plotfe2, plotfe3, plotsi, plotne, plots]\n",
    "    \n",
    "    fig, ax = plt.subplots(figsize = (14,8))\n",
    "    \n",
    "    #ax.errorbar(obswl,obsep, yerr = obsun, fmt='o', capsize=5)\n",
    "    \n",
    "    ax.set_yscale('log')\n",
    "    ax.set_xscale('log')\n",
    "    ax.set_ylabel('Flux (HB = 1)')\n",
    "    ax.set_xlabel('Wavelength (µm)')\n",
    "    ax.annotate(\"Fe 1.64\", xy=(1.6435527+.1, feplot1))\n",
    "    ax.annotate(\"Fe 17.9\", xy=(17.9360294-2.2, feplot2+.025))\n",
    "    ax.annotate(\"Fe 26\", xy=(25.988404-.7, feplot3+.025))\n",
    "    ax.annotate(\"Si\", xy=(34.8140927+1.5, siplot))\n",
    "    ax.annotate(\"Ne\", xy=(12.8135475-1, neplot+.015))\n",
    "    ax.annotate(\"S\", xy=(25.2490184+1.2, splot))\n",
    "    ax.stem(obswl, obsep, 'b', markerfmt='bo')\n",
    "    ax.stem(wl, ep, 'g', markerfmt='go')\n",
    "    ax.stem(swl, sep, 'r', markerfmt='ro')\n",
    "#     plt.savefig(\"hh7large.jpg\")\n",
    "    plt.show()\n",
    "    \n",
    "    print(\"Observed:\", interest)\n",
    "    print(\"Simulated:\", sep)\n",
    "    print(\"Differences: Si\" ,interest[0]-sep[0], \", Fe26\", interest[1]-sep[1], \", S\", interest[2]-sep[2],\n",
    "          \", Fe179\", interest[3]-sep[3], \", Ne\", interest[4]-sep[4], \", Fe16\", interest[5]-sep[5])\n",
    "    "
   ]
  },
  {
   "cell_type": "code",
   "execution_count": 32,
   "metadata": {},
   "outputs": [],
   "source": [
    "def plotspectrasmall(file, pos, offset): # creating a wavelength vs. intensity plot for each file, with observational data\n",
    "    plot = initial(file)\n",
    "    ep = [item[0] for item in plot]\n",
    "    wl = [item[1] for item in plot]\n",
    "    \n",
    "    special = plotmodlistmake(file) # [si, fe26, s, fe179, ne, fe16]\n",
    "    sep = special[0]\n",
    "    swl = [34.8140927, 25.988404, 25.2490184, 17.9360294, 12.8135475, 1.6435527]\n",
    "    \n",
    "    feplot1 = (obsFe16[0][pos])/offset\n",
    "    feplot2 = (obsFe179[0][pos])/offset\n",
    "    feplot3 = (obsFe26[0][pos])/offset\n",
    "    siplot = (obsSi[0][pos])/offset\n",
    "    neplot = (obsNe[0][pos])/offset\n",
    "    splot = (obsS[0][pos])/offset\n",
    "    \n",
    "    ufeplot1 = (uncFe16[pos])/offset\n",
    "    ufeplot2 = (uncFe179[pos])/offset\n",
    "    ufeplot3 = (uncFe26[pos])/offset\n",
    "    usiplot = (uncSi[pos])/offset\n",
    "    uneplot = (uncNe[pos])/offset\n",
    "    usplot = (uncS[pos])/offset\n",
    "    \n",
    "    '''\n",
    "    plotfe1 = [1.6435527, feplot1]\n",
    "    plotfe2 = [17.9360294, feplot2]\n",
    "    plotfe3 = [25.988404, feplot3]\n",
    "    plotsi = [34.8140927, siplot]\n",
    "    plotne = [12.8135475, neplot]\n",
    "    plots = [25.2490184, splot]\n",
    "    '''\n",
    "    \n",
    "    obswl = [1.6435527, 17.9360294, 25.988404, 34.8140927, 12.8135475, 25.2490184]\n",
    "    obsep = [feplot1, feplot2, feplot3, siplot, neplot, splot]\n",
    "    interest = [siplot, feplot3, splot, feplot2, neplot, feplot1]\n",
    "    #plotting = [plotfe1, plotfe2, plotfe3, plotsi, plotne, plots]\n",
    "    \n",
    "    rwl = wl[-120:]\n",
    "    rep = ep[-120:]\n",
    "    \n",
    "    obsun = [ufeplot1, ufeplot2, ufeplot3, usiplot, uneplot, usplot]\n",
    "    \n",
    "    fig, ax = plt.subplots(figsize = (14,8))\n",
    "    \n",
    "    ax.errorbar(obswl,obsep, yerr = obsun, fmt='o', capsize=100)\n",
    "    \n",
    "    ax.set_yscale('log')\n",
    "    ax.set_xscale('log')\n",
    "    ax.set_ylabel('Flux (erg/sec/cm^2')\n",
    "    ax.set_xlabel('Wavelength (µm)')\n",
    "    ax.annotate(\"Fe 1.64\", xy=(1.6435527+.1, feplot1))\n",
    "    ax.annotate(\"Fe 17.9\", xy=(17.9360294+1.1, feplot2))\n",
    "    ax.annotate(\"Fe 26\", xy=(25.988404+1.2, feplot3))\n",
    "    ax.annotate(\"Si\", xy=(34.8140927+1.5, siplot))\n",
    "    ax.annotate(\"Ne\", xy=(12.8135475-.25, neplot))\n",
    "    ax.annotate(\"S\", xy=(25.2490184+1.2, splot))\n",
    "    ax.stem(obswl, obsep, 'b', markerfmt='bo')\n",
    "    ax.stem(rwl, rep, 'g', markerfmt='go')\n",
    "    ax.stem(swl, sep, 'r', markerfmt='ro')\n",
    "#     plt.savefig(\"HH7.jpg\")\n",
    "    plt.show()\n",
    "    \n",
    "    print(\"Observed:\", interest)\n",
    "    print(\"Simulated:\", sep)\n",
    "    print(\"Differences: Si\" ,interest[0]-sep[0], \", Fe26\", interest[1]-sep[1], \", S\", interest[2]-sep[2],\n",
    "          \", Fe179\", interest[3]-sep[3], \", Ne\", interest[4]-sep[4], \", Fe16\", interest[5]-sep[5])\n",
    "    "
   ]
  },
  {
   "cell_type": "code",
   "execution_count": 91,
   "metadata": {},
   "outputs": [
    {
     "name": "stdout",
     "output_type": "stream",
     "text": [
      "7\n",
      "(35.53194673407417, [7, ['60', '5011.87233627'], 9.450164915104224e-11])\n",
      "0.01201\n",
      "0.01201\n"
     ]
    },
    {
     "name": "stderr",
     "output_type": "stream",
     "text": [
      "C:\\Users\\Adam2\\Anaconda\\envs\\mypython3\\lib\\site-packages\\ipykernel\\__main__.py:57: UserWarning: In Matplotlib 3.3 individual lines on a stem plot will be added as a LineCollection instead of individual lines. This significantly improves the performance of a stem plot. To remove this warning and switch to the new behaviour, set the \"use_line_collection\" keyword argument to True.\n",
      "C:\\Users\\Adam2\\Anaconda\\envs\\mypython3\\lib\\site-packages\\ipykernel\\__main__.py:58: UserWarning: In Matplotlib 3.3 individual lines on a stem plot will be added as a LineCollection instead of individual lines. This significantly improves the performance of a stem plot. To remove this warning and switch to the new behaviour, set the \"use_line_collection\" keyword argument to True.\n",
      "C:\\Users\\Adam2\\Anaconda\\envs\\mypython3\\lib\\site-packages\\ipykernel\\__main__.py:59: UserWarning: In Matplotlib 3.3 individual lines on a stem plot will be added as a LineCollection instead of individual lines. This significantly improves the performance of a stem plot. To remove this warning and switch to the new behaviour, set the \"use_line_collection\" keyword argument to True.\n"
     ]
    },
    {
     "data": {
      "image/png": "[encoded data removed]",
      "text/plain": [
       "<Figure size 1008x576 with 1 Axes>"
      ]
     },
     "metadata": {
      "needs_background": "light"
     },
     "output_type": "display_data"
    },
    {
     "name": "stdout",
     "output_type": "stream",
     "text": [
      "Observed: [0.0015748014579868312, 0.0006619265142932658, 0.0008062429138143645, 0.00019402044261951685, 0.00024042017250163527, 0.008446039605298498]\n",
      "Simulated: [0.0029123049, 0.00064860005, 0.0012863790900000001, 0.00025223401999999997, 0.00046729709, 0.0002972475]\n",
      "Differences: Si -0.0013375034420131688 , Fe26 1.3326464293265863e-05 , S -0.00048013617618563556 , Fe179 -5.8213577380483126e-05 , Ne -0.00022687691749836473 , Fe16 0.008148792105298498\n"
     ]
    }
   ],
   "source": [
    "knot_num = 3\n",
    "\n",
    "# print(allmatchred(2,modnewmid, pointnewmid))\n",
    "match_output = allmatch_Fe_only(knot_num, modnewmid, pointnewmid)\n",
    "print(match_output)\n",
    "plotspectrasmall(newmid[match_output[1][0]],knot_num, match_output[1][2])"
   ]
  },
  {
   "cell_type": "code",
   "execution_count": 55,
   "metadata": {},
   "outputs": [
    {
     "name": "stderr",
     "output_type": "stream",
     "text": [
      "C:\\Users\\Adam2\\Anaconda\\envs\\mypython3\\lib\\site-packages\\ipykernel\\__main__.py:57: UserWarning: In Matplotlib 3.3 individual lines on a stem plot will be added as a LineCollection instead of individual lines. This significantly improves the performance of a stem plot. To remove this warning and switch to the new behaviour, set the \"use_line_collection\" keyword argument to True.\n",
      "C:\\Users\\Adam2\\Anaconda\\envs\\mypython3\\lib\\site-packages\\ipykernel\\__main__.py:58: UserWarning: In Matplotlib 3.3 individual lines on a stem plot will be added as a LineCollection instead of individual lines. This significantly improves the performance of a stem plot. To remove this warning and switch to the new behaviour, set the \"use_line_collection\" keyword argument to True.\n",
      "C:\\Users\\Adam2\\Anaconda\\envs\\mypython3\\lib\\site-packages\\ipykernel\\__main__.py:59: UserWarning: In Matplotlib 3.3 individual lines on a stem plot will be added as a LineCollection instead of individual lines. This significantly improves the performance of a stem plot. To remove this warning and switch to the new behaviour, set the \"use_line_collection\" keyword argument to True.\n"
     ]
    },
    {
     "data": {
      "image/png": "[encoded data removed]",
      "text/plain": [
       "<Figure size 1008x576 with 1 Axes>"
      ]
     },
     "metadata": {
      "needs_background": "light"
     },
     "output_type": "display_data"
    },
    {
     "name": "stdout",
     "output_type": "stream",
     "text": [
      "Observed: [0.20976183838425133, 0.06032131799685948, 0.12517919706970498, 0.013947682611427266, 0.01628939679818706, 0.2804020969348917]\n",
      "Simulated: [0.0601880708, 0.02907225595, 0.0035355230400000003, 0.010568171626666666, 0.011712527690000002, 0.00859623882]\n",
      "Differences: Si 0.14957376758425134 , Fe26 0.031249062046859483 , S 0.12164367402970498 , Fe179 0.0033795109847606 , Ne 0.004576869108187057 , Fe16 0.2718058581148917\n"
     ]
    }
   ],
   "source": [
    "plotspectrasmall(newmid[52],2,2.346346205908487e-12)"
   ]
  },
  {
   "cell_type": "code",
   "execution_count": null,
   "metadata": {},
   "outputs": [],
   "source": [
    "#print(allmatch(1,modnewmid, pointnewmid))\n",
    "#print(allmatch(1,modnewmid2, pointnewmid2))\n",
    "#print(allmatch(1,modnewtop, pointnewtop))\n",
    "#print(allmatch(1,modnewtop2, pointnewtop2))"
   ]
  },
  {
   "cell_type": "code",
   "execution_count": null,
   "metadata": {},
   "outputs": [],
   "source": [
    "#print(allmatch(2,modnewmid, pointnewmid))\n",
    "#print(allmatch(2,modnewmid2, pointnewmid2))\n",
    "#print(allmatch(2,modnewtop, pointnewtop))\n",
    "#print(allmatch(2,modnewtop2, pointnewtop2))"
   ]
  },
  {
   "cell_type": "code",
   "execution_count": null,
   "metadata": {},
   "outputs": [],
   "source": [
    "#print(allmatchred(3,modnewmid, pointnewmid))\n",
    "#print(allmatchred(3,modnewmid2, pointnewmid2))\n",
    "#print(allmatchred(3,modnewtop, pointnewtop))\n",
    "#print(allmatchred(3,modnewtop2, pointnewtop2))"
   ]
  },
  {
   "cell_type": "code",
   "execution_count": null,
   "metadata": {},
   "outputs": [],
   "source": [
    "#print(allmatchred(4,modnewmid, pointnewmid))\n",
    "#print(allmatchred(4,modnewmid2, pointnewmid2))\n",
    "#print(allmatchred(4,modnewtop, pointnewtop))\n",
    "#print(allmatchred(4,modnewtop2, pointnewtop2))"
   ]
  },
  {
   "cell_type": "code",
   "execution_count": null,
   "metadata": {},
   "outputs": [],
   "source": [
    "#print(allmatchred(5,modnewmid, pointnewmid))\n",
    "#print(allmatchred(5,modnewmid2, pointnewmid2))\n",
    "#print(allmatchred(5,modnewtop, pointnewtop))\n",
    "#print(allmatchred(5,modnewtop2, pointnewtop2))"
   ]
  },
  {
   "cell_type": "code",
   "execution_count": null,
   "metadata": {},
   "outputs": [],
   "source": [
    "#print(allmatchred(6,modnewmid, pointnewmid))\n",
    "#print(allmatchred(6,modnewmid2, pointnewmid2))\n",
    "#print(allmatchred(6,modnewtop, pointnewtop))\n",
    "#print(allmatchred(6,modnewtop2, pointnewtop2))"
   ]
  },
  {
   "cell_type": "code",
   "execution_count": null,
   "metadata": {},
   "outputs": [],
   "source": [
    "#print(allmatchred(7,modnewmid, pointnewmid))\n",
    "#print(allmatchred(7,modnewmid2, pointnewmid2))\n",
    "#print(allmatchred(7,modnewtop, pointnewtop))\n",
    "#print(allmatchred(7,modnewtop2, pointnewtop2))"
   ]
  },
  {
   "cell_type": "code",
   "execution_count": null,
   "metadata": {},
   "outputs": [],
   "source": [
    "#print(allmatchred(8,modnewmid, pointnewmid))\n",
    "#print(allmatchred(8,modnewmid2, pointnewmid2))\n",
    "#print(allmatchred(8,modnewtop, pointnewtop))\n",
    "#print(allmatchred(8,modnewtop2, pointnewtop2))"
   ]
  },
  {
   "cell_type": "code",
   "execution_count": null,
   "metadata": {},
   "outputs": [],
   "source": [
    "#print(allmatchred(9,modnewmid, pointnewmid))\n",
    "#print(allmatchred(9,modnewmid2, pointnewmid2))\n",
    "#print(allmatchred(9,modnewtop, pointnewtop))\n",
    "#print(allmatchred(9,modnewtop2, pointnewtop2))"
   ]
  },
  {
   "cell_type": "code",
   "execution_count": null,
   "metadata": {},
   "outputs": [],
   "source": [
    "#print(allmatchred(10,modnewmid, pointnewmid))\n",
    "#print(allmatchred(10,modnewmid2, pointnewmid2))\n",
    "#print(allmatchred(10,modnewtop, pointnewtop))\n",
    "#print(allmatchred(10,modnewtop2, pointnewtop2))"
   ]
  },
  {
   "cell_type": "code",
   "execution_count": null,
   "metadata": {},
   "outputs": [],
   "source": [
    "#print(allmatchred(11,modnewmid, pointnewmid))\n",
    "#print(allmatchred(11,modnewmid2, pointnewmid2))\n",
    "#print(allmatchred(11,modnewtop, pointnewtop))\n",
    "#print(allmatchred(11,modnewtop2, pointnewtop2))"
   ]
  },
  {
   "cell_type": "code",
   "execution_count": null,
   "metadata": {},
   "outputs": [],
   "source": [
    "#print(allmatchred(12,modnewmid, pointnewmid))\n",
    "#print(allmatchred(12,modnewmid2, pointnewmid2))\n",
    "#print(allmatchred(12,modnewtop, pointnewtop))\n",
    "#print(allmatchred(12,modnewtop2, pointnewtop2))"
   ]
  },
  {
   "cell_type": "code",
   "execution_count": null,
   "metadata": {},
   "outputs": [],
   "source": [
    "#print(allmatchred(13,modnewmid, pointnewmid))  # no match\n",
    "#print(allmatchred(13,modnewmid2, pointnewmid2))\n",
    "#print(allmatchred(13,modnewtop, pointnewtop))\n",
    "#print(allmatchred(13,modnewtop2, pointnewtop2))"
   ]
  },
  {
   "cell_type": "code",
   "execution_count": null,
   "metadata": {},
   "outputs": [],
   "source": [
    "# print(allmatchred(14,modnewmid, pointnewmid))\n",
    "# print(allmatchred(14,modnewmid2, pointnewmid2))\n",
    "# print(allmatchred(14,modnewtop, pointnewtop))\n",
    "# print(allmatchred(14,modnewtop2, pointnewtop2))"
   ]
  },
  {
   "cell_type": "code",
   "execution_count": null,
   "metadata": {},
   "outputs": [],
   "source": [
    "# print(allmatchred(15,modnewmid, pointnewmid))\n",
    "# print(allmatchred(15,modnewmid2, pointnewmid2))\n",
    "# print(allmatchred(15,modnewtop, pointnewtop))\n",
    "# print(allmatchred(15,modnewtop2, pointnewtop2))"
   ]
  },
  {
   "cell_type": "code",
   "execution_count": null,
   "metadata": {},
   "outputs": [],
   "source": [
    "# print(allmatchred(16,modnewmid, pointnewmid))\n",
    "# print(allmatchred(16,modnewmid2, pointnewmid2))\n",
    "# print(allmatchred(16,modnewtop, pointnewtop))\n",
    "# print(allmatchred(16,modnewtop2, pointnewtop2))"
   ]
  },
  {
   "cell_type": "code",
   "execution_count": null,
   "metadata": {},
   "outputs": [],
   "source": [
    "# print(allmatchred(17,modnewmid, pointnewmid))\n",
    "# print(allmatchred(17,modnewmid2, pointnewmid2))\n",
    "# print(allmatchred(17,modnewtop, pointnewtop))\n",
    "# print(allmatchred(17,modnewtop2, pointnewtop2))"
   ]
  },
  {
   "cell_type": "code",
   "execution_count": null,
   "metadata": {},
   "outputs": [],
   "source": [
    "# print(allmatchred(18,modnewmid, pointnewmid))\n",
    "# print(allmatchred(18,modnewmid2, pointnewmid2))\n",
    "# print(allmatchred(18,modnewtop, pointnewtop))\n",
    "# print(allmatchred(18,modnewtop2, pointnewtop2))"
   ]
  },
  {
   "cell_type": "code",
   "execution_count": null,
   "metadata": {},
   "outputs": [],
   "source": [
    "# print(allmatchred(19,modnewmid, pointnewmid))\n",
    "# print(allmatchred(19,modnewmid2, pointnewmid2))\n",
    "# print(allmatchred(19,modnewtop, pointnewtop))\n",
    "# print(allmatchred(19,modnewtop2, pointnewtop2))"
   ]
  },
  {
   "cell_type": "code",
   "execution_count": null,
   "metadata": {},
   "outputs": [],
   "source": [
    "# print(allmatchred(20,modnewmid, pointnewmid))\n",
    "# print(allmatchred(20,modnewmid2, pointnewmid2))\n",
    "# print(allmatchred(20,modnewtop, pointnewtop))\n",
    "# print(allmatchred(20,modnewtop2, pointnewtop2))"
   ]
  },
  {
   "cell_type": "code",
   "execution_count": null,
   "metadata": {},
   "outputs": [],
   "source": [
    "def hydrogen(file):\n",
    "    modlist = []\n",
    "    t = 0\n",
    "    while t < len(file):\n",
    "        lst = file[t]\n",
    "        listup = initial(lst)\n",
    "\n",
    "        muep = [item[0] for item in listup]\n",
    "        muwl = [item[1] for item in listup]\n",
    "        \n",
    "        for i in (i for i,x in enumerate(muwl) if x == 0.6562819000000001):  # H alpha\n",
    "            ua = muep[i]\n",
    "\n",
    "        for i in (i for i,x in enumerate(muwl) if x == 1.281807):  # Paschen Beta\n",
    "            ub = muep[i]\n",
    "        \n",
    "        ratio = ua/ub\n",
    "        modlist.append(ratio)\n",
    "        t = t + 1\n",
    "    return(modlist)\n",
    "            "
   ]
  },
  {
   "cell_type": "code",
   "execution_count": null,
   "metadata": {},
   "outputs": [],
   "source": [
    "test = hydrogen(newmid)"
   ]
  },
  {
   "cell_type": "code",
   "execution_count": null,
   "metadata": {},
   "outputs": [],
   "source": [
    "more = hydrogen(mega)"
   ]
  },
  {
   "cell_type": "code",
   "execution_count": null,
   "metadata": {},
   "outputs": [],
   "source": [
    "print(more)"
   ]
  },
  {
   "cell_type": "code",
   "execution_count": null,
   "metadata": {
    "collapsed": true
   },
   "outputs": [],
   "source": []
  }
 ],
 "metadata": {
  "anaconda-cloud": {},
  "kernelspec": {
   "display_name": "Python 3",
   "language": "python",
   "name": "python3"
  },
  "language_info": {
   "codemirror_mode": {
    "name": "ipython",
    "version": 3
   },
   "file_extension": ".py",
   "mimetype": "text/x-python",
   "name": "python",
   "nbconvert_exporter": "python",
   "pygments_lexer": "ipython3",
   "version": "3.7.4"
  }
 },
 "nbformat": 4,
 "nbformat_minor": 2
}
