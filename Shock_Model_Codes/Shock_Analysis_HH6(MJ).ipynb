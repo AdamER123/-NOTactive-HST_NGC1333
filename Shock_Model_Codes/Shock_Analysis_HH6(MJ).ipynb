{
 "cells": [
  {
   "cell_type": "code",
   "execution_count": 110,
   "metadata": {},
   "outputs": [],
   "source": [
    "# NEW IRON (12566.768) NEW H (12818.07)"
   ]
  },
  {
   "cell_type": "code",
   "execution_count": 184,
   "metadata": {},
   "outputs": [],
   "source": [
    "#importing modules\n",
    "import scipy.optimize as optimize\n",
    "from scipy.interpolate import griddata\n",
    "import matplotlib as mpl\n",
    "import matplotlib.pyplot as plt\n",
    "import numpy as np\n",
    "import pandas as pd\n",
    "import operator\n",
    "import glob\n",
    "import os\n",
    "%matplotlib inline"
   ]
  },
  {
   "cell_type": "code",
   "execution_count": 252,
   "metadata": {},
   "outputs": [
    {
     "name": "stdout",
     "output_type": "stream",
     "text": [
      "[[5.56181832676928e-16 6.743620483588439e-16 6.385612883275021e-16\n",
      "  4.4109281422425097e-16 6.27782327969656e-16 6.793691927351792e-16]\n",
      " [1.884001628982468e-17 2.2843234406220112e-17 2.1630525068102668e-17\n",
      "  1.4941508904223202e-17 2.1265400253162592e-17 2.301284563059546e-17]\n",
      " [1.8293852038077142e-16 2.21810185230149e-16 2.1003465125213595e-16\n",
      "  1.4508360763313068e-16 2.064892512709525e-16 2.2345712788401267e-16]\n",
      " [7.164174310736623e-17 8.686452845349423e-17 8.225303504877583e-17\n",
      "  5.681713466091408e-17 8.08645979162565e-17 8.750949837166717e-17]\n",
      " [4.355182364915235e-18 5.280592655183982e-18 5.000254770020387e-18\n",
      "  3.453977697463148e-18 4.9158501107803216e-18 5.3198011039415434e-18]\n",
      " [3.541905455202582e-18 4.29450671980365e-18 4.066518497597433e-18\n",
      "  2.808989710131434e-18 3.997875373622826e-18 4.3263934714729204e-18]\n",
      " [3.66775208516948e-18 4.4470938526034944e-18 4.21100503319058e-18\n",
      "  2.908795278942563e-18 4.1399229661295854e-18 4.480113565129265e-18]]\n",
      "[[False False False  True False False]\n",
      " [ True  True  True  True  True False]\n",
      " [False False False False False False]\n",
      " [False False False False False False]\n",
      " [ True  True  True  True  True  True]\n",
      " [ True  True  True  True  True  True]\n",
      " [ True  True  True  True  True  True]]\n",
      "[[5.56181832676928e-16 6.743620483588439e-16 6.385612883275021e-16\n",
      "  4.894015984691158e-16 6.27782327969656e-16 6.793691927351792e-16]\n",
      " [3.0799186215120005e-17 1.5333649108455155e-16 5.639571438211151e-16\n",
      "  1.0626608599733172e-15 4.1511536479332363e-17 2.301284563059546e-17]\n",
      " [1.8293852038077142e-16 2.21810185230149e-16 2.1003465125213595e-16\n",
      "  1.4508360763313068e-16 2.064892512709525e-16 2.2345712788401267e-16]\n",
      " [7.164174310736623e-17 8.686452845349423e-17 8.225303504877583e-17\n",
      "  5.681713466091408e-17 8.08645979162565e-17 8.750949837166717e-17]\n",
      " [9.059665334017741e-17 7.903945828181954e-17 4.90419471473382e-17\n",
      "  3.301655533904242e-17 1.4701871614258673e-16 2.0855982647141793e-16]\n",
      " [8.459662481443391e-17 6.578607333873469e-17 5.123891527812629e-17\n",
      "  4.0225508044018723e-17 1.2214414431092994e-16 9.735833062666421e-17]\n",
      " [1.2307148909798427e-16 1.073787522781009e-16 6.662230182980428e-17\n",
      "  4.485372035593099e-17 1.9972903150305319e-16 2.833158515910336e-16]]\n",
      "[[False False False False False False]\n",
      " [False False False False False False]\n",
      " [False False False False False False]\n",
      " [False False False False False False]\n",
      " [False False False False False False]\n",
      " [False False False False False False]\n",
      " [False False False False False False]]\n"
     ]
    }
   ],
   "source": [
    "rawobsflux = pd.read_excel(\"Dered_FluxesFinal.xlsx\")  # observational data read in\n",
    "obsflux = rawobsflux[-10:]\n",
    "rawunc = pd.read_excel(\"Dered_UncertantiesFinal.xlsx\")\n",
    "obsunc = rawunc[-10:]\n",
    "\n",
    "obsflux = obsflux.values  # usable values: flux and uncertainty\n",
    "obsunc = obsunc.values\n",
    "\n",
    "obsflux = obsflux[:, 2:]  \n",
    "obsunc = obsunc[:, 2:]\n",
    "\n",
    "#Deciding whether obsunc is too high...adjusting such that all uncertainties are around 1 percent of the flux at most (more realistic)/\n",
    "s_n_lim = 50.  #setting the signal to noise ilmit\n",
    "\n",
    "#printing to check values before \n",
    "print(obsunc)\n",
    "print((obsflux/obsunc) > s_n_lim)\n",
    "\n",
    "obsunc[(obsflux/obsunc) > s_n_lim] = 1/s_n_lim * obsflux[(obsflux/obsunc) > s_n_lim] #adjusting all uncertainties at once\n",
    "\n",
    "print(obsunc)\n",
    "print((obsflux/obsunc) > s_n_lim)"
   ]
  },
  {
   "cell_type": "code",
   "execution_count": 253,
   "metadata": {},
   "outputs": [
    {
     "name": "stdout",
     "output_type": "stream",
     "text": [
      "[[2.576638862043768e-15 8.751194548512549e-15 1.2397610630682168e-14\n",
      "  2.447007992345579e-14 2.7219746210545716e-15 0.0]]\n",
      "[[1.5399593107560003e-15 7.666824554227578e-15 2.8197857191055756e-14\n",
      "  5.3133042998665864e-14 2.075576823966618e-15 0.0]]\n",
      "[[-1.0997414382563047e-15 1.491383083532915e-15 8.752224919300781e-16\n",
      "  -6.075188926041783e-16 -1.1841439116903085e-15 0.0]]\n",
      "[[-9.83157369394318e-16 2.071006309359975e-15 -5.751144350109273e-16\n",
      "  1.0066527153418673e-15 3.3883778928910404e-15 -1.6469665482391509e-15]]\n",
      "[[4.5298326670088706e-15 3.951972914090977e-15 2.45209735736691e-15\n",
      "  1.6508277669521212e-15 7.350935807129337e-15 1.0427991323570897e-14]]\n"
     ]
    }
   ],
   "source": [
    "obsSi = obsflux[:1]  \n",
    "obsFe26 = obsflux[1:2]\n",
    "obsS = obsflux[2:3]\n",
    "#obsFe179 = obsflux[3:4]\n",
    "obsNe = obsflux[3:4]\n",
    "obsFe16 = obsflux[4:5]\n",
    "\n",
    "print(obsSi)\n",
    "print(obsFe26)\n",
    "print(obsS)\n",
    "#print(obsFe179)\n",
    "print(obsNe)\n",
    "print(obsFe16)"
   ]
  },
  {
   "cell_type": "code",
   "execution_count": 254,
   "metadata": {},
   "outputs": [
    {
     "name": "stdout",
     "output_type": "stream",
     "text": [
      "[[5.56181832676928e-16 6.743620483588439e-16 6.385612883275021e-16\n",
      "  4.894015984691158e-16 6.27782327969656e-16 6.793691927351792e-16]]\n",
      "[[3.0799186215120005e-17 1.5333649108455155e-16 5.639571438211151e-16\n",
      "  1.0626608599733172e-15 4.1511536479332363e-17 2.301284563059546e-17]]\n",
      "[[1.8293852038077142e-16 2.21810185230149e-16 2.1003465125213595e-16\n",
      "  1.4508360763313068e-16 2.064892512709525e-16 2.2345712788401267e-16]]\n",
      "[[7.164174310736623e-17 8.686452845349423e-17 8.225303504877583e-17\n",
      "  5.681713466091408e-17 8.08645979162565e-17 8.750949837166717e-17]]\n",
      "[[9.059665334017741e-17 7.903945828181954e-17 4.90419471473382e-17\n",
      "  3.301655533904242e-17 1.4701871614258673e-16 2.0855982647141793e-16]]\n"
     ]
    }
   ],
   "source": [
    "runcSi = obsunc[:1]  \n",
    "runcFe26 = obsunc[1:2]\n",
    "runcS = obsunc[2:3]\n",
    "#runcFe179 = obsunc[3:4]\n",
    "runcNe = obsunc[3:4]\n",
    "runcFe16 = obsunc[4:5]\n",
    "\n",
    "print(runcSi)\n",
    "print(runcFe26)\n",
    "print(runcS)\n",
    "#print(runcFe179)\n",
    "print(runcNe)\n",
    "print(runcFe16)"
   ]
  },
  {
   "cell_type": "code",
   "execution_count": 255,
   "metadata": {},
   "outputs": [],
   "source": [
    "def nonzero(full,obs):  # setting zero uncertainty values (1/3 upper limit)\n",
    "    new = []\n",
    "    for i in range(len(full[0])):\n",
    "        if full[0][i] == 0:\n",
    "            use = obs[0][i]/3.\n",
    "            new.append(use)\n",
    "            continue\n",
    "        else:\n",
    "            new.append(full[0][i])\n",
    "            continue\n",
    "    return(new)\n",
    "            "
   ]
  },
  {
   "cell_type": "code",
   "execution_count": 256,
   "metadata": {},
   "outputs": [],
   "source": [
    "uncSi = nonzero(runcSi, obsSi)  # final uncertainties by line\n",
    "uncFe26 = nonzero(runcFe26, obsFe26)\n",
    "uncS = nonzero(runcS, obsS)\n",
    "#uncFe179 = nonzero(runcFe179, obsFe179)\n",
    "uncNe = nonzero(runcNe, obsNe)\n",
    "if len(runcFe16 != 0): #check\n",
    "    uncFe16 = nonzero(runcFe16, obsFe16)"
   ]
  },
  {
   "cell_type": "code",
   "execution_count": 257,
   "metadata": {},
   "outputs": [],
   "source": [
    "#length = [\"1\",'2','3','4','5','6','7','8']  bad old method\n",
    "\n",
    "# lenmid = 3311  # importing shock simulation grids\n",
    "# newmid = []\n",
    "# for i in range(1,lenmid+1):\n",
    "#    name = \"S5_Shocks/NewMid/ShockFiles/ShockSpectrum\" + str(i) + \".csv\"\n",
    "#    data = pd.read_csv(name, names = length, engine = 'python')\n",
    "#    newmid.append(data)\n"
   ]
  },
  {
   "cell_type": "code",
   "execution_count": 258,
   "metadata": {},
   "outputs": [],
   "source": [
    "#lenmid2 = 3311\n",
    "#newmid2 = []\n",
    "#for i in range(1,lenmid2+1):\n",
    "#    name2 = \"S5_Shocks/NewMid2/ShockFiles/ShockSpectrum\" + str(i) + \".csv\"\n",
    "#    data2 = pd.read_csv(name2, names = length, engine = 'python')\n",
    "#    newmid2.append(data2)"
   ]
  },
  {
   "cell_type": "code",
   "execution_count": 259,
   "metadata": {},
   "outputs": [],
   "source": [
    "# implementing natural sorting (ref: https://stackoverflow.com/questions/5967500/how-to-correctly-sort-a-string-with-a-number-inside)\n",
    "\n",
    "import re\n",
    "\n",
    "def atoi(text):\n",
    "    return int(text) if text.isdigit() else text\n",
    "\n",
    "def natural_keys(text):\n",
    "    '''\n",
    "    alist.sort(key=natural_keys) sorts in human order\n",
    "    http://nedbatchelder.com/blog/200712/human_sorting.html\n",
    "    (See Toothy's implementation in the comments)\n",
    "    '''\n",
    "    return [ atoi(c) for c in re.split(r'(\\d+)', text) ]"
   ]
  },
  {
   "cell_type": "code",
   "execution_count": 260,
   "metadata": {},
   "outputs": [],
   "source": [
    "def fileread(path): #read in the path to the shock files directory, form \"S5_Shocks/NewMid/ShockFiles/ShockSpectrum*.csv\" csv is a wildcard makes sorting easier.\n",
    "    directory = glob.glob(path) #glob.glob makes a list with all the file paths in a folder \n",
    "    directory.sort(key=natural_keys) #key=os.path.getmtime, sorts information (e.g. alphabetical, 1...2...3...)\n",
    "    files = []\n",
    "    length = ['1','2','3','4','5','6','7','8']\n",
    "    for i in directory:\n",
    "        data = pd.read_csv(i, names = length, engine = 'python') #reads information from files \n",
    "        files.append(data) #list data \n",
    "    \n",
    "    return files\n"
   ]
  },
  {
   "cell_type": "code",
   "execution_count": 261,
   "metadata": {},
   "outputs": [],
   "source": [
    "def initial(file):  # taking the important information out of the file (wavelengths and fluxes)\n",
    "    rawdata = file[-len(file)+88:]\n",
    "    hbvalpoint = file[76:77]\n",
    "    hbval = float(hbvalpoint.iloc[0][\"4\"])\n",
    "    rawwl = rawdata[\"1\"]\n",
    "    wl = []\n",
    "    for j in rawwl:\n",
    "        num = float(j)\n",
    "        u = num/10000  # converting to microns\n",
    "        wl.append(u)\n",
    "    raweps = rawdata[\"3\"]\n",
    "    eps = []\n",
    "    for k in raweps:\n",
    "        nums = float(k)\n",
    "        eps.append(nums)\n",
    "    uses = []\n",
    "    for a in range(len(eps)):\n",
    "        vals = [eps[a]*hbval,wl[a]]\n",
    "        uses.append(vals)\n",
    "    return uses"
   ]
  },
  {
   "cell_type": "code",
   "execution_count": 262,
   "metadata": {},
   "outputs": [],
   "source": [
    "def pointlistmake(filelist):  # making a point of (velocity,density) that maps to each wavelength intensity\n",
    "    pointlist = []\n",
    "    \n",
    "    for file in filelist:\n",
    "        fslice = file.values[5][0]\n",
    "        unlist = []\n",
    "        for i in (i for i,x in enumerate(fslice) if x == '_'): # finding the file points containing the velocity\n",
    "            unlist.append(i)\n",
    "        fvel = unlist[0] + 1\n",
    "\n",
    "        for i in (i for i,x in enumerate(fslice) if x == 'k'):\n",
    "            lvel = i\n",
    "        \n",
    "        vel = fslice[fvel:lvel] \n",
    "\n",
    "        fden = unlist[1] + 1\n",
    "\n",
    "        for i in (i for i,x in enumerate(fslice) if x == 'g'):  # same for density\n",
    "            lden = i\n",
    "\n",
    "        den = fslice[fden:lden]\n",
    "\n",
    "        point = [vel, den]\n",
    "        pointlist.append(point)\n",
    "    \n",
    "    return(pointlist)"
   ]
  },
  {
   "cell_type": "code",
   "execution_count": 263,
   "metadata": {},
   "outputs": [],
   "source": [
    "def modlistmake(file):\n",
    "    modlist = []\n",
    "    t = 0\n",
    "    while t < len(file): #loop through all the lines of a file, will stop once t > len(file)\n",
    "        lst = file[t]\n",
    "        listup = initial(lst)\n",
    "        \n",
    "        muep = [item[0] for item in listup]\n",
    "        muwl = [item[1] for item in listup]\n",
    "        \n",
    "        for i in (i for i,x in enumerate(muwl) if x == 34.8140927):  # 34.8 Si line\n",
    "            usi = muep[i]\n",
    "        \n",
    "        for i in (i for i,x in enumerate(muwl) if x == 25.988404):  # 26 Fe line\n",
    "            ufe1 = muep[i]\n",
    "            \n",
    "        for i in (i for i,x in enumerate(muwl) if x == 25.2490184):  # Sulfur line 1\n",
    "            us1 = muep[i]\n",
    "        \n",
    "        for i in (i for i,x in enumerate(muwl) if x == 25.2):  # Sulfur line 2\n",
    "            us2 = muep[i]\n",
    "            \n",
    "        us = us1 + us2\n",
    "        \n",
    "        for i in (i for i,x in enumerate(muwl) if x == 17.9360294):  # 17.9 Fe line\n",
    "            ufe2 = muep[i] * (2/3)\n",
    "        \n",
    "        for i in (i for i,x in enumerate(muwl) if x == 12.8135475):  # Neon line\n",
    "            une = muep[i]\n",
    "            \n",
    "        for i in (i for i,x in enumerate(muwl) if x == 1.6435526999999999):  # 1.644 Fe line\n",
    "            ufe3 = muep[i]\n",
    "        \n",
    "        modlist.append([usi, ufe1, us, ufe2, une, ufe3])\n",
    "        t = t+1 #gives loop a range and allows t to increase til it is larger than the len(file)\n",
    "    \n",
    "    return(modlist)"
   ]
  },
  {
   "cell_type": "code",
   "execution_count": 264,
   "metadata": {},
   "outputs": [],
   "source": [
    "def plotmodlistmake(file):  # finding the important lines for plotting\n",
    "    modlist = []\n",
    "    listup = initial(file)\n",
    "        \n",
    "    muep = [item[0] for item in listup]\n",
    "    muwl = [item[1] for item in listup]\n",
    "    \n",
    "    for i in (i for i,x in enumerate(muwl) if x == 34.8140927):  # 34.8 Si line\n",
    "        usi = muep[i]\n",
    "        \n",
    "    for i in (i for i,x in enumerate(muwl) if x == 25.988404):  # 26 Fe line\n",
    "        ufe1 = muep[i]\n",
    "            \n",
    "    for i in (i for i,x in enumerate(muwl) if x == 25.2490184):  # Sulfur line 1\n",
    "        us1 = muep[i]\n",
    "        \n",
    "    for i in (i for i,x in enumerate(muwl) if x == 25.2):  # Sulfur line 2  \n",
    "        us2 = muep[i]\n",
    "            \n",
    "    us = us1 + us2  # for some reason it splits this sulfur line into two so we have to add\n",
    "        \n",
    "    for i in (i for i,x in enumerate(muwl) if x == 17.9360294):  # 17.9 Fe line\n",
    "        ufe2 = muep[i] * (2/3)\n",
    "        \n",
    "    for i in (i for i,x in enumerate(muwl) if x == 12.8135475):  # Neon line\n",
    "        une = muep[i]\n",
    "            \n",
    "    for i in (i for i,x in enumerate(muwl) if x == 1.6435526999999999):  # 1.644 Fe line\n",
    "        ufe3 = muep[i]\n",
    "     \n",
    "    modlist.append([usi, ufe1, us, ufe2, une, ufe3])\n",
    "    \n",
    "    return(modlist)"
   ]
  },
  {
   "cell_type": "code",
   "execution_count": 265,
   "metadata": {},
   "outputs": [],
   "source": [
    "def initialize(path): #\"Documents/GGD37/Odd_Vel/ShockSpectrum*.csv\", all you should need to do is run this function\n",
    "    files = fileread(path)\n",
    "    #felist = femodlistmake(files)\n",
    "    modlist = modlistmake(files)\n",
    "    pointlist = pointlistmake(files)\n",
    "    #ratiolist = fe_ratios(felist)\n",
    "    \n",
    "    return files, pointlist, modlist"
   ]
  },
  {
   "cell_type": "code",
   "execution_count": 266,
   "metadata": {},
   "outputs": [],
   "source": [
    "#mega, pointmega, modmega = initialize(\"S5_Shocks/Mega_Grid/ShockFiles/ShockSpectrum*.csv\")"
   ]
  },
  {
   "cell_type": "code",
   "execution_count": 267,
   "metadata": {},
   "outputs": [],
   "source": [
    "#modnewtop = modlistmake(newtop)  # initializing lists from files (same can be done for any modlist/pointlist)\n",
    "#modnewtop2 = modlistmake(newtop2)\n",
    "#modnewmid = modlistmake(newmid)\n",
    "#modnewmid2 = modlistmake(newmid2)"
   ]
  },
  {
   "cell_type": "code",
   "execution_count": 268,
   "metadata": {},
   "outputs": [],
   "source": [
    "#pointnewtop = pointlistmake(newtop)\n",
    "#pointnewtop2 = pointlistmake(newtop2)\n",
    "#pointnewmid = pointlistmake(newmid)\n",
    "#pointnewmid2 = pointlistmake(newmid2)"
   ]
  },
  {
   "cell_type": "code",
   "execution_count": 269,
   "metadata": {},
   "outputs": [],
   "source": [
    "def matchfind(nplist, scalelist, idx, pointlist):  # finding the scale value, parameters of matched shock\n",
    "    ipos = nplist[idx]\n",
    "    scale = scalelist[idx]\n",
    "    print(ipos)\n",
    "    pos = pointlist[ipos]\n",
    "    need = [ipos, pos, scale]\n",
    "    return(need)\n",
    "    "
   ]
  },
  {
   "cell_type": "code",
   "execution_count": 270,
   "metadata": {},
   "outputs": [],
   "source": [
    "def chisqAll(scale, obslist, unclist, modlist):  # finding chisquare value for all lines\n",
    "    slist = []\n",
    "    alpha, beta, delta, epsilon, zeta = obslist[0], obslist[1], obslist[2], obslist[3], obslist[4]\n",
    "    uncalpha, uncbeta, uncdelta, uncepsilon, unczeta = unclist[0], unclist[1], unclist[2], unclist[3], unclist[4]\n",
    "    \n",
    "    w = 0\n",
    "    while w < len(modlist):  # basic chisquared minimization\n",
    "        chisq = ((alpha - (modlist[w][0])*scale)/\n",
    "        uncalpha)**2 + ((beta - (modlist[w][1])*scale)/\n",
    "        uncbeta)**2  + ((delta - (modlist[w][3])*scale)/\n",
    "        uncdelta)**2 + ((epsilon - (modlist[w][4])*scale)/\n",
    "        uncepsilon)**2 + ((zeta - (modlist[w][5])*scale)/unczeta)**2\n",
    "        \n",
    "        slist.append(chisq)\n",
    "        w = w + 1\n",
    "    val = min(slist)\n",
    "    for i in (i for i,x in enumerate(slist) if x == val):  \n",
    "        idx = i\n",
    "    ret = [val, idx]\n",
    "    return(ret)\n"
   ]
  },
  {
   "cell_type": "code",
   "execution_count": 271,
   "metadata": {},
   "outputs": [],
   "source": [
    "def allmatch(pos, modlist, pointlist): # getting all information about match, not including S\n",
    "    slist = []\n",
    "    nplist = []\n",
    "    scalelist = []\n",
    "    idxlist = []\n",
    "    \n",
    "    alpha = obsSi[0][pos]\n",
    "    beta = obsFe26[0][pos]\n",
    "    delta = obsFe179[0][pos]\n",
    "    epsilon = obsNe[0][pos]\n",
    "    zeta = obsFe16[0][pos]\n",
    "    \n",
    "    uncalpha = uncSi[pos]\n",
    "    uncbeta = uncFe26[pos]\n",
    "    uncdelta = uncFe179[pos]\n",
    "    uncepsilon = uncNe[pos]\n",
    "    unczeta = uncFe16[pos]\n",
    "    \n",
    "    obslist = [alpha, beta, delta, epsilon, zeta]\n",
    "    unclist = [uncalpha, uncbeta, uncdelta, uncepsilon, unczeta]\n",
    "    \n",
    "    scale = 10**(-15)\n",
    "    minim = 1000\n",
    "    while scale < 10**(-10):  # setting cutoff minimum chi squared value\n",
    "        nminit = chisqAll(scale, obslist, unclist, modlist)\n",
    "        nmin = nminit[0]\n",
    "        idxlist.append(nminit[1])\n",
    "        if nmin < minim:\n",
    "            minim = nmin\n",
    "            slist.append(nmin)\n",
    "            nplist.append(nminit[1])\n",
    "        else:\n",
    "            slist.append(float(\"inf\"))\n",
    "            nplist.append(float(\"inf\"))\n",
    "        \n",
    "        scalelist.append(scale)\n",
    "        scale = scale*1.005\n",
    "    val = min(slist)\n",
    "    for i in (i for i,x in enumerate(slist) if x == min(slist)):  \n",
    "        idx = i\n",
    "    \n",
    "    values = matchfind(nplist, scalelist, idx, pointlist)\n",
    "    return(val,values)\n",
    "        \n"
   ]
  },
  {
   "cell_type": "code",
   "execution_count": 272,
   "metadata": {},
   "outputs": [],
   "source": [
    "def chisqAllred(scale, obslist, unclist, modlist):  # chisquare for just 4 important lines (Si, Ne, Fe26, Fe179)\n",
    "    slist = []\n",
    "    alpha, beta, delta, epsilon = obslist[0], obslist[1], obslist[2], obslist[3]\n",
    "    uncalpha, uncbeta, uncdelta, uncepsilon = unclist[0], unclist[1], unclist[2], unclist[3]\n",
    "    \n",
    "    w = 0\n",
    "    while w < len(modlist):\n",
    "        chisq = ((alpha - (modlist[w][0])*scale)/\n",
    "        uncalpha)**2 + ((beta - (modlist[w][1])*scale)/\n",
    "        uncbeta)**2 + ((delta - (modlist[w][3])*scale)/\n",
    "        uncdelta)**2 + ((epsilon - (modlist[w][4])*scale)/\n",
    "        uncepsilon)**2\n",
    "        \n",
    "        slist.append(chisq)\n",
    "        w = w + 1\n",
    "    val = min(slist)\n",
    "    idx = np.argmin(slist)\n",
    "    ret = [val, idx]\n",
    "    return(ret)\n",
    "\n"
   ]
  },
  {
   "cell_type": "code",
   "execution_count": 273,
   "metadata": {},
   "outputs": [],
   "source": [
    "def allmatchred(pos, modlist, pointlist):  # match for just 4 important lines \n",
    "    slist = []\n",
    "    nplist = []\n",
    "    scalelist = []\n",
    "    idxlist = []\n",
    "    \n",
    "    alpha = obsSi[0][pos]  # important lines: Fe 26, 17.9, Si, Ne\n",
    "    beta = obsFe26[0][pos]\n",
    "    delta = obsFe179[0][pos]\n",
    "    epsilon = obsNe[0][pos]\n",
    "    \n",
    "    uncalpha = uncSi[pos]\n",
    "    uncbeta = uncFe26[pos]\n",
    "    uncdelta = uncFe179[pos]\n",
    "    uncepsilon = uncNe[pos]\n",
    "    \n",
    "    obslist = [alpha, beta, delta, epsilon]\n",
    "    unclist = [uncalpha, uncbeta, uncdelta, uncepsilon]\n",
    "    \n",
    "    scale = 10**(-17)\n",
    "    minim = 2000\n",
    "    while scale < 10**(-10):\n",
    "        nminit = chisqAllred(scale, obslist, unclist, modlist)\n",
    "        nmin = nminit[0]\n",
    "        idxlist.append(nminit[1])\n",
    "        if nmin <= minim:\n",
    "            minim = nmin\n",
    "            slist.append(nmin)\n",
    "            nplist.append(nminit[1])\n",
    "        else:\n",
    "            slist.append(float(\"inf\"))\n",
    "            nplist.append(float(\"inf\"))\n",
    "        \n",
    "        scalelist.append(scale)\n",
    "        scale = scale*1.005\n",
    "    \n",
    "    val = min(slist)\n",
    "    idx = np.argmin(slist)\n",
    "    values = matchfind(nplist, scalelist, idx, pointlist)\n",
    "    return(val,values)"
   ]
  },
  {
   "cell_type": "code",
   "execution_count": 274,
   "metadata": {},
   "outputs": [],
   "source": [
    "def chisq_g(scale, obslist, unclist, modlist):  # finding chisquare value for all lines\n",
    "    slist = []\n",
    "    alpha, epsilon, zeta = obslist[0], obslist[4], obslist[5]\n",
    "    uncalpha, uncepsilon, unczeta = unclist[0], unclist[4], unclist[5]\n",
    "    \n",
    "    w = 0\n",
    "    while w < len(modlist):  # basic chisquared minimization\n",
    "        chisq = ((alpha - (modlist[w][0])*scale)/\n",
    "        uncalpha)**2 + ((epsilon - (modlist[w][4])*scale)/\n",
    "        uncepsilon)**2 + ((zeta - (modlist[w][5])*scale)/unczeta)**2\n",
    "        \n",
    "        slist.append(chisq)\n",
    "        w = w + 1\n",
    "    val = min(slist)\n",
    "    for i in (i for i,x in enumerate(slist) if x == val):  \n",
    "        idx = i\n",
    "    ret = [val, idx]\n",
    "    return(ret)\n"
   ]
  },
  {
   "cell_type": "code",
   "execution_count": 275,
   "metadata": {},
   "outputs": [],
   "source": [
    "def allmatch_g(pos, modlist, pointlist): # getting all information about match\n",
    "    slist = []\n",
    "    nplist = []\n",
    "    scalelist = []\n",
    "    idxlist = []\n",
    "    \n",
    "    alpha = obsSi[0][pos]\n",
    "    #beta = obsFe26[0][pos]\n",
    "    #gamma = obsS[0][pos]\n",
    "    #delta = obsFe179[0][pos]\n",
    "    epsilon = obsNe[0][pos]\n",
    "    zeta = obsFe16[0][pos]\n",
    "    \n",
    "    uncalpha = uncSi[pos]\n",
    "    #uncbeta = uncFe26[pos]\n",
    "    #uncgamma = uncS[pos]\n",
    "    #uncdelta = uncFe179[pos]\n",
    "    uncepsilon = uncNe[pos]\n",
    "    unczeta = uncFe16[pos]\n",
    "    \n",
    "    obslist = [alpha, '''beta''', '''gamma''', '''delta''', epsilon, zeta]\n",
    "    unclist = [uncalpha, '''uncbeta''', '''uncgamma''', '''uncdelta''', uncepsilon, unczeta]\n",
    "    \n",
    "    scale = 10**(-15)\n",
    "    minim = 1500\n",
    "    while scale < 10**(-10):\n",
    "        nminit = chisq_g(scale, obslist, unclist, modlist)\n",
    "        nmin = nminit[0]\n",
    "        idxlist.append(nminit[1])\n",
    "        if nmin < minim:\n",
    "            minim = nmin\n",
    "            slist.append(nmin)\n",
    "            nplist.append(nminit[1])\n",
    "        else:\n",
    "            slist.append(float(\"inf\"))\n",
    "            nplist.append(float(\"inf\"))\n",
    "        \n",
    "        scalelist.append(scale)\n",
    "        scale = scale*1.005\n",
    "    val = min(slist)\n",
    "    for i in (i for i,x in enumerate(slist) if x == min(slist)):  \n",
    "        idx = i\n",
    "    \n",
    "    values = matchfind(nplist, scalelist, idx, pointlist)\n",
    "    return(val,values)"
   ]
  },
  {
   "cell_type": "code",
   "execution_count": 276,
   "metadata": {},
   "outputs": [],
   "source": [
    "def plotspectra(file, pos, offset): # creating a wavelength vs. intensity plot for each file, with observational data\n",
    "    plot = initial(file)\n",
    "    ep = [item[0] for item in plot]\n",
    "    wl = [item[1] for item in plot]\n",
    "    \n",
    "    special = plotmodlistmake(file) # [si, fe26, s, fe179, ne, fe16]\n",
    "    sep = special[0]\n",
    "    swl = [34.8140927, 25.988404, 25.2490184, 17.9360294, 12.8135475, 1.6435527]\n",
    "    \n",
    "    feplot1 = (obsFe16[0][pos])/offset\n",
    "    feplot2 = (obsFe179[0][pos])/offset\n",
    "    feplot3 = (obsFe26[0][pos])/offset\n",
    "    siplot = (obsSi[0][pos])/offset\n",
    "    neplot = (obsNe[0][pos])/offset\n",
    "    splot = (obsS[0][pos])/offset\n",
    "    \n",
    "    ufeplot1 = (uncFe16[pos])/offset\n",
    "    ufeplot2 = (uncFe179[pos])/offset\n",
    "    ufeplot3 = (uncFe26[pos])/offset\n",
    "    usiplot = (uncSi[pos])/offset\n",
    "    uneplot = (uncNe[pos])/offset\n",
    "    usplot = (uncS[pos])/offset\n",
    "    \n",
    "    '''\n",
    "    plotfe1 = [1.6435527, feplot1]\n",
    "    plotfe2 = [17.9360294, feplot2]\n",
    "    plotfe3 = [25.988404, feplot3]\n",
    "    plotsi = [34.8140927, siplot]\n",
    "    plotne = [12.8135475, neplot]\n",
    "    plots = [25.2490184, splot]\n",
    "    '''\n",
    "    \n",
    "    obswl = [1.6435527, 17.9360294, 25.988404, 34.8140927, 12.8135475, 25.2490184]\n",
    "    obsep = [feplot1, feplot2, feplot3, siplot, neplot, splot]\n",
    "    interest = [siplot, feplot3, splot, feplot2, neplot, feplot1]\n",
    "    #plotting = [plotfe1, plotfe2, plotfe3, plotsi, plotne, plots]\n",
    "    \n",
    "    fig, ax = plt.subplots(figsize = (14,8))\n",
    "    \n",
    "    #ax.errorbar(obswl,obsep, yerr = obsun, fmt='o', capsize=5)\n",
    "    \n",
    "    ax.set_yscale('log')\n",
    "    ax.set_xscale('log')\n",
    "    ax.set_ylabel('Flux (HB = 1)')\n",
    "    ax.set_xlabel('Wavelength (µm)')\n",
    "    ax.annotate(\"Fe 1.64\", xy=(1.6435527+.1, feplot1))\n",
    "    ax.annotate(\"Fe 17.9\", xy=(17.9360294-2.2, feplot2+.025))\n",
    "    ax.annotate(\"Fe 26\", xy=(25.988404-.7, feplot3+.025))\n",
    "    ax.annotate(\"Si\", xy=(34.8140927+1.5, siplot))\n",
    "    ax.annotate(\"Ne\", xy=(12.8135475-1, neplot+.015))\n",
    "    ax.annotate(\"S\", xy=(25.2490184+1.2, splot))\n",
    "    ax.stem(obswl, obsep, 'b', markerfmt='bo')\n",
    "    ax.stem(wl, ep, 'g', markerfmt='go')\n",
    "    ax.stem(swl, sep, 'r', markerfmt='ro')\n",
    "    plt.savefig(\"hh6large.jpg\")\n",
    "    plt.show()\n",
    "    \n",
    "    print(\"Observed:\", interest)\n",
    "    print(\"Simulated:\", sep)\n",
    "    print(\"Differences: Si\" ,interest[0]-sep[0], \", Fe26\", interest[1]-sep[1], \", S\", interest[2]-sep[2],\n",
    "          \", Fe179\", interest[3]-sep[3], \", Ne\", interest[4]-sep[4], \", Fe16\", interest[5]-sep[5])\n",
    "    "
   ]
  },
  {
   "cell_type": "code",
   "execution_count": 368,
   "metadata": {},
   "outputs": [],
   "source": [
    "def plotspectrasmall(file, pos, offset): # creating a wavelength vs. intensity plot for each file, with observational data\n",
    "    plot = initial(file)\n",
    "    ep = [item[0] for item in plot]\n",
    "    wl = [item[1] for item in plot]\n",
    "    \n",
    "    special = plotmodlistmake(file) # [si, fe26, s, fe179, ne, fe16]\n",
    "    sep = np.concatenate((np.array(special[0][0:3]), np.array(special[0][3:5])))\n",
    "    swl = [34.8140927, 25.988404, 25.2490184, 12.8135475, 1.6435527]\n",
    "    \n",
    "    feplot1 = (obsFe16[0][pos])/offset\n",
    "#     feplot2 = (obsFe179[0][pos])/offset\n",
    "    feplot3 = (obsFe26[0][pos])/offset\n",
    "    siplot = (obsSi[0][pos])/offset\n",
    "    neplot = (obsNe[0][pos])/offset\n",
    "    splot = (obsS[0][pos])/offset\n",
    "    \n",
    "    ufeplot1 = (uncFe16[pos])/offset\n",
    "#     ufeplot2 = (uncFe179[pos])/offset\n",
    "    ufeplot3 = (uncFe26[pos])/offset\n",
    "    usiplot = (uncSi[pos])/offset\n",
    "    uneplot = (uncNe[pos])/offset\n",
    "    usplot = (uncS[pos])/offset\n",
    "    \n",
    "    '''\n",
    "    plotfe1 = [1.6435527, feplot1]\n",
    "    plotfe2 = [17.9360294, feplot2]\n",
    "    plotfe3 = [25.988404, feplot3]\n",
    "    plotsi = [34.8140927, siplot]\n",
    "    plotne = [12.8135475, neplot]\n",
    "    plots = [25.2490184, splot]\n",
    "    '''\n",
    "    \n",
    "    obswl = [1.6435527, 25.988404, 34.8140927, 12.8135475, 25.2490184]\n",
    "    obsep = [feplot1, feplot3, siplot, neplot, splot]\n",
    "    interest = [siplot, feplot3, splot, neplot, feplot1]\n",
    "    #plotting = [plotfe1, plotfe2, plotfe3, plotsi, plotne, plots]\n",
    "    \n",
    "    rwl = wl[-120:]\n",
    "    rep = ep[-120:]\n",
    "    \n",
    "    obsun = [ufeplot1, ufeplot3, usiplot, uneplot, usplot]\n",
    "    \n",
    "    fig, ax = plt.subplots(figsize = (14,8))\n",
    "\n",
    "    ax.errorbar(obswl,obsep, yerr = obsun, fmt='o', capsize=14)\n",
    "    \n",
    "    ax.set_xlim(1,65)\n",
    "    ax.set_yscale('log')\n",
    "    ax.set_xscale('log')\n",
    "    ax.set_ylabel('Flux (erg/sec/cm^2)', fontsize = 22)\n",
    "    ax.set_xlabel('Wavelength (µm)', fontsize = 22)\n",
    "    #ax.annotate(\"Fe 1.64\", xy=(1.6435527+.1, feplot1))\n",
    "    #ax.annotate(\"Fe 17.9\", xy=(17.9360294+1.1, feplot2))\n",
    "    #ax.annotate(\"Fe 26\", xy=(25.988404+1.2, feplot3))\n",
    "    #ax.annotate(\"Si\", xy=(34.8140927+1.5, siplot))\n",
    "    #ax.annotate(\"Ne\", xy=(12.8135475-.25, neplot))\n",
    "    #ax.annotate(\"S\", xy=(25.2490184+1.2, splot))\n",
    "    ax.stem(obswl, obsep, 'b', markerfmt='bo')\n",
    "    ax.stem(rwl, rep, 'g', markerfmt='go')\n",
    "    ax.stem(swl, sep, 'r', markerfmt='ro')\n",
    "    plt.savefig(\"HH6.jpg\")\n",
    "    plt.show()\n",
    "    \n",
    "    print(\"Observed:\", interest)\n",
    "    print(\"Simulated:\", sep)\n",
    "    print(\"Differences: Si\" ,interest[0]-sep[0], \", Fe26\", interest[1]-sep[1], \", S\", interest[2]-sep[2],\n",
    "         \", Ne\", interest[3]-sep[3], \", Fe16\", interest[4]-sep[4])\n",
    "    "
   ]
  },
  {
   "cell_type": "code",
   "execution_count": 369,
   "metadata": {},
   "outputs": [
    {
     "name": "stdout",
     "output_type": "stream",
     "text": [
      "4\n"
     ]
    }
   ],
   "source": [
    "shock_paths = [\"Models/S5_Shocks/NewMid/ShockFiles/ShockSpectrum*.csv\", \n",
    "               \"Models/fdauphin/7_23_Spec_BGrid/BMF/ShockFiles/ShockSpectrum*.txt\", \n",
    "              'Models/fdauphin/8_02_B_Grid/ShockFiles/ShockSpectrum*.txt',\n",
    " 'Models/fdauphin/8_02_B_grid_200/ShockFiles/ShockSpectrum*.txt']\n",
    "#                ,\n",
    "#     'fdauphin/7_31_Grid_2/ShockFiles/ShockSpectrum*.txt',\n",
    "#   'fdauphin/7_13_B_Low/ShockFiles/ShockSpectrum*.txt',\n",
    "#    'fdauphin/7_16_B_low/ShockFiles/ShockSpectrum*.txt',\n",
    "#     'fdauphin/7_16_B_high/ShockFiles/ShockSpectrum*.txt',\n",
    "#    'fdauphin/7_17_B_low/ShockFiles/ShockSpectrum*.txt',\n",
    "#    'fdauphin/7_19_B_low/ShockFiles/ShockSpectrum*.txt',\n",
    "#    'fdauphin/7_19_B_high/ShockFiles/ShockSpectrum*.txt' ]\n",
    "\n",
    "print(len(shock_paths))"
   ]
  },
  {
   "cell_type": "code",
   "execution_count": 370,
   "metadata": {
    "scrolled": true
   },
   "outputs": [
    {
     "name": "stdout",
     "output_type": "stream",
     "text": [
      "29\n"
     ]
    },
    {
     "data": {
      "image/png": "[encoded data removed]",
      "text/plain": [
       "<Figure size 1008x576 with 1 Axes>"
      ]
     },
     "metadata": {
      "needs_background": "light"
     },
     "output_type": "display_data"
    },
    {
     "name": "stdout",
     "output_type": "stream",
     "text": [
      "Observed: [0.13517956813188564, 0.08079170023988264, -0.057696317039287445, -0.05157990534031894, 0.23765100831796945]\n",
      "Simulated: [0.33478294 1.19784317 0.0210506  0.34124688 0.01160696]\n",
      "Differences: Si -0.19960337686811436 , Fe26 -1.1170514707601173 , S -0.07874691401928745 , Ne -0.3928267833403189 , Fe16 0.22604404413796947\n"
     ]
    }
   ],
   "source": [
    "#Trying a specific case\n",
    "#just need to set ind, knot_num\n",
    "ind = 2\n",
    "knot_num = 0\n",
    "newmid, pointnewmid, modnewmid = initialize(shock_paths[ind])\n",
    "match_output = allmatch_g(knot_num, modnewmid, pointnewmid)\n",
    "plotspectrasmall(newmid[match_output[1][0]],knot_num, match_output[1][2])"
   ]
  },
  {
   "cell_type": "code",
   "execution_count": 371,
   "metadata": {
    "scrolled": true
   },
   "outputs": [
    {
     "name": "stdout",
     "output_type": "stream",
     "text": [
      "30\n",
      "0 0 (1363.4775994278252, [30, ['60', '1000000.0'], 4.0276503518656537e-14])\n"
     ]
    },
    {
     "data": {
      "image/png": "[encoded data removed]",
      "text/plain": [
       "<Figure size 1008x576 with 1 Axes>"
      ]
     },
     "metadata": {
      "needs_background": "light"
     },
     "output_type": "display_data"
    },
    {
     "name": "stdout",
     "output_type": "stream",
     "text": [
      "Observed: [0.06397374739468731, 0.03823468216506613, -0.02730478919916402, -0.024410196603558407, 0.11246836917982715]\n",
      "Simulated: [0.32012279 0.22233515 0.06841347 0.09246319 0.01513025]\n",
      "Differences: Si -0.2561490416053127 , Fe26 -0.1841004658349339 , S -0.09571825641916404 , Ne -0.11687338513689173 , Fe16 0.09733811753982716\n",
      "123\n",
      "1 0 (1084.428512098881, [123, ['40', '1000000.0'], 5.4598602754869054e-14])\n"
     ]
    },
    {
     "data": {
      "image/png": "[encoded data removed]",
      "text/plain": [
       "<Figure size 1008x576 with 1 Axes>"
      ]
     },
     "metadata": {
      "needs_background": "light"
     },
     "output_type": "display_data"
    },
    {
     "name": "stdout",
     "output_type": "stream",
     "text": [
      "Observed: [0.04719239562983112, 0.02820510476559161, -0.02014230003639115, -0.01800700603655358, 0.08296609140981917]\n",
      "Simulated: [0.25422397 0.16120337 0.02902422 0.06863603 0.00548667]\n",
      "Differences: Si -0.20703157877016887 , Fe26 -0.1329982632344084 , S -0.04916652351639114 , Ne -0.08664304043655358 , Fe16 0.07747942164981916\n",
      "29\n",
      "2 0 (336.9175890502656, [29, ['60', '794328.234724'], 1.90608602886637e-14])\n"
     ]
    },
    {
     "data": {
      "image/png": "[encoded data removed]",
      "text/plain": [
       "<Figure size 1008x576 with 1 Axes>"
      ]
     },
     "metadata": {
      "needs_background": "light"
     },
     "output_type": "display_data"
    },
    {
     "name": "stdout",
     "output_type": "stream",
     "text": [
      "Observed: [0.13517956813188564, 0.08079170023988264, -0.057696317039287445, -0.05157990534031894, 0.23765100831796945]\n",
      "Simulated: [0.33478294 1.19784317 0.0210506  0.34124688 0.01160696]\n",
      "Differences: Si -0.19960337686811436 , Fe26 -1.1170514707601173 , S -0.07874691401928745 , Ne -0.3928267833403189 , Fe16 0.22604404413796947\n",
      "29\n",
      "3 0 (336.9175890502656, [29, ['60', '794328.234724'], 1.90608602886637e-14])\n"
     ]
    },
    {
     "data": {
      "image/png": "[encoded data removed]",
      "text/plain": [
       "<Figure size 1008x576 with 1 Axes>"
      ]
     },
     "metadata": {
      "needs_background": "light"
     },
     "output_type": "display_data"
    },
    {
     "name": "stdout",
     "output_type": "stream",
     "text": [
      "Observed: [0.13517956813188564, 0.08079170023988264, -0.057696317039287445, -0.05157990534031894, 0.23765100831796945]\n",
      "Simulated: [0.33478294 1.19784317 0.0210506  0.34124688 0.01160696]\n",
      "Differences: Si -0.19960337686811436 , Fe26 -1.1170514707601173 , S -0.07874691401928745 , Ne -0.3928267833403189 , Fe16 0.22604404413796947\n"
     ]
    }
   ],
   "source": [
    "for i in range(len(shock_paths)): #looping through paths to go to each set of spectra \n",
    "# for i in [1]: #looping through paths to go to each set of spectra \n",
    "    ind = i\n",
    "\n",
    "    newmid, pointnewmid, modnewmid = initialize(shock_paths[ind])\n",
    "   \n",
    "    j = 0\n",
    "    while j <= 0:\n",
    "        knot_num = j \n",
    "        \n",
    "#         print(allmatch_g(knot_num, modnewmid, pointnewmid))\n",
    "                \n",
    "        try:\n",
    "            #The inputs are knot number, the list of models, and the list of parameters?\n",
    "            match_output = allmatch_g(knot_num, modnewmid, pointnewmid)\n",
    "            print(ind, j, match_output)\n",
    "            #The outputs are the chi square, the best matching spectrum / its index, the model params for the best match, a scaling factor\n",
    "            plotspectrasmall(newmid[match_output[1][0]],knot_num, match_output[1][2])\n",
    "        except: print(ind, j, 'Failure')\n",
    "        \n",
    "        \n",
    "        j += 1"
   ]
  },
  {
   "cell_type": "code",
   "execution_count": 281,
   "metadata": {},
   "outputs": [
    {
     "ename": "SyntaxError",
     "evalue": "invalid syntax (<ipython-input-281-d910c9dc18f9>, line 15)",
     "output_type": "error",
     "traceback": [
      "\u001b[1;36m  File \u001b[1;32m\"<ipython-input-281-d910c9dc18f9>\"\u001b[1;36m, line \u001b[1;32m15\u001b[0m\n\u001b[1;33m    plotspectrasmall(newmid[match_output[1][0]],knot_num, match_output[1][2], rawobsflux.columns[knot_num]+'_path'+str(i))\u001b[0m\n\u001b[1;37m                   ^\u001b[0m\n\u001b[1;31mSyntaxError\u001b[0m\u001b[1;31m:\u001b[0m invalid syntax\n"
     ]
    }
   ],
   "source": [
    "for i in [0,1,7,10]:\n",
    "    ind = i\n",
    "\n",
    "    newmid, pointnewmid, modnewmid = initialize(shock_paths[ind])\n",
    "   \n",
    "    for j in [6]:\n",
    "        knot_num = j  #6 works\n",
    "\n",
    "        try:\n",
    "            #The inputs are knot number, the list of models, and the list of parameters?\n",
    "            match_output = allmatchred(knot_num, modnewmid, pointnewmid)\n",
    "            print(ind, j, match_output) \n",
    "            #The outputs are the chi square, the best matching spectrum / its index, the model params for the best match, a scaling factor\n",
    "        \n",
    "        plotspectrasmall(newmid[match_output[1][0]],knot_num, match_output[1][2], rawobsflux.columns[knot_num]+'_path'+str(i))\n",
    "        except: print(ind, j, 'Failure')\n",
    "        \n",
    "        \n",
    "        \n",
    "        j += 1"
   ]
  },
  {
   "cell_type": "code",
   "execution_count": null,
   "metadata": {},
   "outputs": [],
   "source": [
    "#knot, data?, data?\n",
    "#print(allmatchred(7,modnewmid, pointnewmid))\n",
    "#output: ?, index, model params of match, scale factor to match spectra\n",
    "#chi square should be somewhere..."
   ]
  },
  {
   "cell_type": "code",
   "execution_count": null,
   "metadata": {
    "scrolled": true
   },
   "outputs": [],
   "source": [
    "#input: data[index from allmatchred], knot number, scale factor\n",
    "#plotspectrasmall(newmid[154],7,9.983217523428999e-11)\n",
    "#output: pretty plot!"
   ]
  },
  {
   "cell_type": "code",
   "execution_count": null,
   "metadata": {},
   "outputs": [],
   "source": [
    "#print(allmatch(1,modnewmid, pointnewmid))\n",
    "#print(allmatch(1,modnewmid2, pointnewmid2))\n",
    "#print(allmatch(1,modnewtop, pointnewtop))\n",
    "#print(allmatch(1,modnewtop2, pointnewtop2))"
   ]
  },
  {
   "cell_type": "code",
   "execution_count": null,
   "metadata": {},
   "outputs": [],
   "source": [
    "#print(allmatch(2,modnewmid, pointnewmid))\n",
    "#print(allmatch(2,modnewmid2, pointnewmid2))\n",
    "#print(allmatch(2,modnewtop, pointnewtop))\n",
    "#print(allmatch(2,modnewtop2, pointnewtop2))"
   ]
  },
  {
   "cell_type": "code",
   "execution_count": null,
   "metadata": {},
   "outputs": [],
   "source": [
    "#print(allmatchred(3,modnewmid, pointnewmid))\n",
    "#print(allmatchred(3,modnewmid2, pointnewmid2))\n",
    "#print(allmatchred(3,modnewtop, pointnewtop))\n",
    "#print(allmatchred(3,modnewtop2, pointnewtop2))"
   ]
  },
  {
   "cell_type": "code",
   "execution_count": null,
   "metadata": {},
   "outputs": [],
   "source": [
    "#print(allmatchred(4,modnewmid, pointnewmid))\n",
    "#print(allmatchred(4,modnewmid2, pointnewmid2))\n",
    "#print(allmatchred(4,modnewtop, pointnewtop))\n",
    "#print(allmatchred(4,modnewtop2, pointnewtop2))"
   ]
  },
  {
   "cell_type": "code",
   "execution_count": null,
   "metadata": {},
   "outputs": [],
   "source": [
    "#print(allmatchred(5,modnewmid, pointnewmid))\n",
    "#print(allmatchred(5,modnewmid2, pointnewmid2))\n",
    "#print(allmatchred(5,modnewtop, pointnewtop))\n",
    "#print(allmatchred(5,modnewtop2, pointnewtop2))"
   ]
  },
  {
   "cell_type": "code",
   "execution_count": null,
   "metadata": {},
   "outputs": [],
   "source": [
    "#print(allmatchred(6,modnewmid, pointnewmid))\n",
    "#print(allmatchred(6,modnewmid2, pointnewmid2))\n",
    "#print(allmatchred(6,modnewtop, pointnewtop))\n",
    "#print(allmatchred(6,modnewtop2, pointnewtop2))"
   ]
  },
  {
   "cell_type": "code",
   "execution_count": null,
   "metadata": {},
   "outputs": [],
   "source": [
    "#print(allmatchred(7,modnewmid, pointnewmid))\n",
    "#print(allmatchred(7,modnewmid2, pointnewmid2))\n",
    "#print(allmatchred(7,modnewtop, pointnewtop))\n",
    "#print(allmatchred(7,modnewtop2, pointnewtop2))"
   ]
  },
  {
   "cell_type": "code",
   "execution_count": null,
   "metadata": {},
   "outputs": [],
   "source": [
    "#print(allmatchred(8,modnewmid, pointnewmid))\n",
    "#print(allmatchred(8,modnewmid2, pointnewmid2))\n",
    "#print(allmatchred(8,modnewtop, pointnewtop))\n",
    "#print(allmatchred(8,modnewtop2, pointnewtop2))"
   ]
  },
  {
   "cell_type": "code",
   "execution_count": null,
   "metadata": {},
   "outputs": [],
   "source": [
    "#print(allmatchred(9,modnewmid, pointnewmid))\n",
    "#print(allmatchred(9,modnewmid2, pointnewmid2))\n",
    "#print(allmatchred(9,modnewtop, pointnewtop))\n",
    "#print(allmatchred(9,modnewtop2, pointnewtop2))"
   ]
  },
  {
   "cell_type": "code",
   "execution_count": null,
   "metadata": {},
   "outputs": [],
   "source": [
    "#print(allmatchred(10,modnewmid, pointnewmid))\n",
    "#print(allmatchred(10,modnewmid2, pointnewmid2))\n",
    "#print(allmatchred(10,modnewtop, pointnewtop))\n",
    "#print(allmatchred(10,modnewtop2, pointnewtop2))"
   ]
  },
  {
   "cell_type": "code",
   "execution_count": null,
   "metadata": {},
   "outputs": [],
   "source": [
    "#print(allmatchred(11,modnewmid, pointnewmid))\n",
    "#print(allmatchred(11,modnewmid2, pointnewmid2))\n",
    "#print(allmatchred(11,modnewtop, pointnewtop))\n",
    "#print(allmatchred(11,modnewtop2, pointnewtop2))"
   ]
  },
  {
   "cell_type": "code",
   "execution_count": null,
   "metadata": {},
   "outputs": [],
   "source": [
    "#print(allmatchred(12,modnewmid, pointnewmid))\n",
    "#print(allmatchred(12,modnewmid2, pointnewmid2))\n",
    "#print(allmatchred(12,modnewtop, pointnewtop))\n",
    "#print(allmatchred(12,modnewtop2, pointnewtop2))"
   ]
  },
  {
   "cell_type": "code",
   "execution_count": null,
   "metadata": {},
   "outputs": [],
   "source": [
    "#print(allmatchred(13,modnewmid, pointnewmid))  # no match\n",
    "#print(allmatchred(13,modnewmid2, pointnewmid2))\n",
    "#print(allmatchred(13,modnewtop, pointnewtop))\n",
    "#print(allmatchred(13,modnewtop2, pointnewtop2))"
   ]
  },
  {
   "cell_type": "code",
   "execution_count": null,
   "metadata": {},
   "outputs": [],
   "source": [
    "# print(allmatchred(14,modnewmid, pointnewmid))\n",
    "# print(allmatchred(14,modnewmid2, pointnewmid2))\n",
    "# print(allmatchred(14,modnewtop, pointnewtop))\n",
    "# print(allmatchred(14,modnewtop2, pointnewtop2))"
   ]
  },
  {
   "cell_type": "code",
   "execution_count": null,
   "metadata": {},
   "outputs": [],
   "source": [
    "# print(allmatchred(15,modnewmid, pointnewmid))\n",
    "# print(allmatchred(15,modnewmid2, pointnewmid2))\n",
    "# print(allmatchred(15,modnewtop, pointnewtop))\n",
    "# print(allmatchred(15,modnewtop2, pointnewtop2))"
   ]
  },
  {
   "cell_type": "code",
   "execution_count": null,
   "metadata": {},
   "outputs": [],
   "source": [
    "# print(allmatchred(16,modnewmid, pointnewmid))\n",
    "# print(allmatchred(16,modnewmid2, pointnewmid2))\n",
    "# print(allmatchred(16,modnewtop, pointnewtop))\n",
    "# print(allmatchred(16,modnewtop2, pointnewtop2))"
   ]
  },
  {
   "cell_type": "code",
   "execution_count": null,
   "metadata": {},
   "outputs": [],
   "source": [
    "# print(allmatchred(17,modnewmid, pointnewmid))\n",
    "# print(allmatchred(17,modnewmid2, pointnewmid2))\n",
    "# print(allmatchred(17,modnewtop, pointnewtop))\n",
    "# print(allmatchred(17,modnewtop2, pointnewtop2))"
   ]
  },
  {
   "cell_type": "code",
   "execution_count": null,
   "metadata": {},
   "outputs": [],
   "source": [
    "# print(allmatchred(18,modnewmid, pointnewmid))\n",
    "# print(allmatchred(18,modnewmid2, pointnewmid2))\n",
    "# print(allmatchred(18,modnewtop, pointnewtop))\n",
    "# print(allmatchred(18,modnewtop2, pointnewtop2))"
   ]
  },
  {
   "cell_type": "code",
   "execution_count": null,
   "metadata": {},
   "outputs": [],
   "source": [
    "# print(allmatchred(19,modnewmid, pointnewmid))\n",
    "# print(allmatchred(19,modnewmid2, pointnewmid2))\n",
    "# print(allmatchred(19,modnewtop, pointnewtop))\n",
    "# print(allmatchred(19,modnewtop2, pointnewtop2))"
   ]
  },
  {
   "cell_type": "code",
   "execution_count": null,
   "metadata": {},
   "outputs": [],
   "source": [
    "# print(allmatchred(20,modnewmid, pointnewmid))\n",
    "# print(allmatchred(20,modnewmid2, pointnewmid2))\n",
    "# print(allmatchred(20,modnewtop, pointnewtop))\n",
    "# print(allmatchred(20,modnewtop2, pointnewtop2))"
   ]
  },
  {
   "cell_type": "code",
   "execution_count": null,
   "metadata": {},
   "outputs": [],
   "source": [
    "def hydrogen(file):\n",
    "    modlist = []\n",
    "    t = 0\n",
    "    while t < len(file):\n",
    "        lst = file[t]\n",
    "        listup = initial(lst)\n",
    "\n",
    "        muep = [item[0] for item in listup]\n",
    "        muwl = [item[1] for item in listup]\n",
    "        \n",
    "        for i in (i for i,x in enumerate(muwl) if x == 0.6562819000000001):  # H alpha\n",
    "            ua = muep[i]\n",
    "\n",
    "        for i in (i for i,x in enumerate(muwl) if x == 1.281807):  # Paschen Beta\n",
    "            ub = muep[i]\n",
    "        \n",
    "        ratio = ua/ub\n",
    "        modlist.append(ratio)\n",
    "        t = t + 1\n",
    "    return(modlist)\n",
    "            "
   ]
  },
  {
   "cell_type": "code",
   "execution_count": null,
   "metadata": {},
   "outputs": [],
   "source": [
    "test = hydrogen(newmid)"
   ]
  },
  {
   "cell_type": "code",
   "execution_count": null,
   "metadata": {},
   "outputs": [],
   "source": [
    "more = hydrogen(mega)"
   ]
  },
  {
   "cell_type": "code",
   "execution_count": null,
   "metadata": {},
   "outputs": [],
   "source": [
    "print(more)"
   ]
  },
  {
   "cell_type": "code",
   "execution_count": null,
   "metadata": {},
   "outputs": [],
   "source": []
  },
  {
   "cell_type": "code",
   "execution_count": null,
   "metadata": {},
   "outputs": [],
   "source": []
  },
  {
   "cell_type": "code",
   "execution_count": null,
   "metadata": {},
   "outputs": [],
   "source": []
  },
  {
   "cell_type": "code",
   "execution_count": null,
   "metadata": {},
   "outputs": [],
   "source": []
  },
  {
   "cell_type": "code",
   "execution_count": null,
   "metadata": {},
   "outputs": [],
   "source": []
  },
  {
   "cell_type": "code",
   "execution_count": null,
   "metadata": {},
   "outputs": [],
   "source": []
  }
 ],
 "metadata": {
  "kernelspec": {
   "display_name": "Python 3",
   "language": "python",
   "name": "python3"
  },
  "language_info": {
   "codemirror_mode": {
    "name": "ipython",
    "version": 3
   },
   "file_extension": ".py",
   "mimetype": "text/x-python",
   "name": "python",
   "nbconvert_exporter": "python",
   "pygments_lexer": "ipython3",
   "version": "3.7.4"
  }
 },
 "nbformat": 4,
 "nbformat_minor": 2
}
