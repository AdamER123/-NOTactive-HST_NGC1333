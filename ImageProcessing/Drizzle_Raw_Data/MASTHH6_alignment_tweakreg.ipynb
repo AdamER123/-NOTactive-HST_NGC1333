{
 "cells": [
  {
   "cell_type": "code",
   "execution_count": 10,
   "metadata": {},
   "outputs": [
    {
     "data": {
      "text/plain": [
       "'2.4.1'"
      ]
     },
     "execution_count": 10,
     "metadata": {},
     "output_type": "execute_result"
    }
   ],
   "source": [
    "#trying to align the hst imgs in this folder with https://astroalign.readthedocs.io/en/latest/index.html\n",
    "\n",
    "import astroalign as aa\n",
    "import numpy as np\n",
    "import matplotlib.pyplot as plt\n",
    "%matplotlib inline\n",
    "\n",
    "np.random.seed(seed=12)\n",
    "aa.__version__"
   ]
  },
  {
   "cell_type": "code",
   "execution_count": 2,
   "metadata": {},
   "outputs": [
    {
     "name": "stdout",
     "output_type": "stream",
     "text": [
      "3.8.5\n"
     ]
    }
   ],
   "source": [
    "#just to check python version - should be 3.7.4\n",
    "from platform import python_version\n",
    "print(python_version())\n",
    "\n",
    "#importing libraries\n",
    "from astropy.io import fits\n",
    "from astropy.convolution import convolve, Gaussian2DKernel, Box2DKernel\n",
    "from astropy.nddata import Cutout2D\n",
    "from astropy.wcs import WCS\n",
    "from reproject import reproject_exact  #a package that can be added to astropy using anaconda or pip (see their docs pg)\n",
    "from reproject import reproject_interp\n",
    "\n",
    "import glob\n",
    "import itertools\n",
    "import matplotlib \n",
    "# matplotlib.use('Agg') #invokved b/c just plain matplotlib was insufficient\n",
    "import matplotlib.pyplot as plt\n",
    "import numpy as np\n",
    "import pandas as pd\n",
    "import sys"
   ]
  },
  {
   "cell_type": "code",
   "execution_count": 4,
   "metadata": {},
   "outputs": [],
   "source": [
    "# #finding the path to every fits images in a directory\n",
    "def im_name_finder(path, file_type):\n",
    "    #Using glob (it's a unix command similar to ls)\n",
    "    #WARNING: using recursive=True...depending how many images you use this could be very slow, it's recommended not to have too many subfolders\n",
    "    #if needed, some example code is commented towards the latter half of this code that could help make an alternative\n",
    "    all_names = glob.glob(path, recursive=True)\n",
    "\n",
    "    #IMPORTANT: Using \"fit\" here because it is inclusive of both fits and FIT...some files end in \"FIT\" and need to be included\n",
    "    #using s.lower() include uppercase names\n",
    "    im_names = [s for s in all_names if 'fit' in s.lower()]\n",
    "\n",
    "    return im_names\n",
    "\n",
    "\n",
    "# In[27]:\n",
    "\n",
    "#setting up a new fits file to be saved and viewed in DS9\n",
    "#primarily to save the image we reprojected, but can also be used to save the convolved images\n",
    "def fits_saver(array, wcs_header, name, save_path):\n",
    "    '''\n",
    "    array is a 2d array of data - could be from reprojecting one image onto another or from convolution\n",
    "    wcs_header is a header containing the wcs coords of the image that we projected onto or of the orig image (if from the convolution)\n",
    "    name is the path to some image you're using. It will get string split at the / character, and the func only takes the last element of that splitting\n",
    "    save_path is the folder you want to save to...recommended to also add something to the start of the images names to make it clear what you did to them (e.g. 'Regridded/regrid_')\n",
    "    '''\n",
    "\n",
    "    #creating a new file and adding the reprojected array of data as well as the WCS that we projected onto\n",
    "#     if [badkey for badkey in wcs_header if badkey == 'ORGNAME'] == []:\n",
    "#         hdu_new = fits.PrimaryHDU(array, header=wcs_header)\n",
    "#     else:\n",
    "#         wcs_header = wcs_header.remove('ORGNAME')\n",
    "#         hdu_new = fits.PrimaryHDU(array, header=wcs_header)\n",
    "\n",
    "    hdu_new = fits.PrimaryHDU(array, header=wcs_header)\n",
    "    hdul = fits.HDUList([hdu_new])\n",
    "    \n",
    "    #saving the file\n",
    "    if name.find('FIT') == -1: #needed if file end incorrect\n",
    "        new_filename = name.split('/')[-1]  #grabs the file name we were using from before\n",
    "        hdul.writeto(save_path+new_filename, overwrite=True, output_verify='ignore')     \n",
    "    else:\n",
    "        name_fixfit = name[:-3] + 'fits'\n",
    "        new_filename = name_fixfit.split('/')[-1]  #grabs the file name we were using from before\n",
    "        hdul.writeto(save_path+new_filename, overwrite=True, output_verify='ignore')\n",
    "        \n",
    "    return (save_path+new_filename)\n",
    "\n",
    "\n",
    "#our plotting function\n",
    "def implot(data, w, wcscond, vmax_p):\n",
    "    fig = plt.figure()\n",
    "    \n",
    "    if  wcscond == True:\n",
    "        fig.add_subplot(111, projection=w)\n",
    "    else:\n",
    "        fig.add_subplot(111)\n",
    "    \n",
    "    #for christmas turn on GnRd\n",
    "    #plt.cm.get_cmap('Blues', 6) is another option\n",
    "    #can also use RdBu...\n",
    "    #otherwise just use plt.cm.viridis b/c it works\n",
    "    plt.imshow(data, origin='lower', cmap=plt.cm.viridis, vmin =0, vmax=vmax_p)\n",
    "    plt.xlabel('RA')\n",
    "    plt.ylabel('Dec')\n",
    "    \n",
    "    #plt.close() #only if doing on inanna"
   ]
  },
  {
   "cell_type": "code",
   "execution_count": 5,
   "metadata": {},
   "outputs": [
    {
     "name": "stdout",
     "output_type": "stream",
     "text": [
      "1.6403508000000002 2.8256999e-19 700.06543\n",
      "1.2584887000000002 4.9671002e-19 339.31592\n",
      "1.2831845 4.3479999e-19 357.43805\n"
     ]
    }
   ],
   "source": [
    "#loading data for hh6\n",
    "path = 'hh6/*'\n",
    "# path = 'hh711/*'\n",
    "\n",
    "files_data = [i.replace('\\\\', '/') for i in im_name_finder(path, 'fits')]\n",
    "hdu_list = [fits.open(i) for i in files_data]\n",
    "\n",
    "\n",
    "hdu_pix_list = []\n",
    "hdu_pixtorad_list = []\n",
    "hdu_fnu_list = []\n",
    "hdu_flam_list = []\n",
    "hdu_bw_list = []\n",
    "hdu_data_list = []\n",
    "hdu_header_list = []\n",
    "\n",
    "for count, hdu in enumerate(hdu_list):\n",
    "        hdu_pix_list.append(hdu[0].header['D001SCAL'])  #D001SCAL is the keyword for Hubble images, in sr\n",
    "        hdu_pixtorad_list.append(hdu_pix_list[count] / 206265.)\n",
    "        # hdu_fnu_list.append(hdu[0].header['PHOTFNU'])\n",
    "        hdu_flam_list.append(hdu[0].header['PHOTFLAM'])\n",
    "        hdu_bw_list.append(hdu[0].header['PHOTBW'])\n",
    "\n",
    "        #reading in data for general use  and header for wcs\n",
    "        #converting by times by flam * bw from e-/sec...should get units of erg/cm^2/sec as above\n",
    "        hdu_data_list.append(hdu[1].data * hdu[0].header['PHOTFLAM'] * hdu[0].header['PHOTBW'])\n",
    "        print(hdu[0].header['PHOTPLAM']/1e-6*1e-10, hdu[0].header['PHOTFLAM'], hdu[0].header['PHOTBW'])\n",
    "        hdu_header_list.append(hdu[1].header)"
   ]
  },
  {
   "cell_type": "code",
   "execution_count": 14,
   "metadata": {},
   "outputs": [],
   "source": [
    "#attempting alignment\n",
    "source = hdu_data_list[0] #should be 1.26 mic\n",
    "target = hdu_data_list[1] #should be 1.64 mic\n",
    "registered_image, footprint = aa.register(target, source) #first is source, second is target (chosen arbitrarily)"
   ]
  },
  {
   "cell_type": "code",
   "execution_count": 15,
   "metadata": {},
   "outputs": [
    {
     "data": {
      "image/png": "[encoded data removed]",
      "text/plain": [
       "<Figure size 720x720 with 4 Axes>"
      ]
     },
     "metadata": {
      "needs_background": "light"
     },
     "output_type": "display_data"
    }
   ],
   "source": [
    "#plotting\n",
    "\n",
    "fig, axes = plt.subplots(2, 2, figsize=(10, 10))\n",
    "axes[0, 0].imshow(source, cmap='gray', interpolation='none', origin='lower')\n",
    "axes[0, 0].axis('off')\n",
    "axes[0, 0].set_title(\"Source Image\")\n",
    "\n",
    "axes[0, 1].imshow(target, cmap='gray', interpolation='none', origin='lower')\n",
    "axes[0, 1].axis('off')\n",
    "axes[0, 1].set_title(\"Target Image\")\n",
    "\n",
    "axes[1, 0].imshow(registered_image, cmap='gray', interpolation='none', origin='lower')\n",
    "axes[1, 0].axis('off')\n",
    "axes[1, 0].set_title(\"Source Image aligned with Target\")\n",
    "\n",
    "axes[1, 1].imshow(footprint, cmap='gray', interpolation='none', origin='lower')\n",
    "axes[1, 1].axis('off')\n",
    "axes[1, 1].set_title(\"Footprint of the transformation\")\n",
    "\n",
    "axes[1, 0].axis('off')\n",
    "\n",
    "plt.tight_layout()"
   ]
  },
  {
   "cell_type": "code",
   "execution_count": null,
   "metadata": {},
   "outputs": [],
   "source": [
    "#had some sort of fits_saver command here...I think this was for the aligned images...they were not aligned "
   ]
  },
  {
   "cell_type": "code",
   "execution_count": 35,
   "metadata": {},
   "outputs": [
    {
     "name": "stdout",
     "output_type": "stream",
     "text": [
      "['hh6/idn107010_drz.fits', 'hh6/idn115010_drz.fits', 'hh6/idn123010_drz.fits']\n",
      "(2894, 8314) (2894, 8314)\n",
      "WCS Keywords\n",
      "\n",
      "Number of WCS axes: 2\n",
      "CTYPE : 'RA---TAN'  'DEC--TAN'  \n",
      "CRVAL : 52.30879868954485  31.29524785918432  \n",
      "CRPIX : 4157.0  1447.0  \n",
      "CD1_1 CD1_2  : -9.2204215734986e-06  -3.4411110235378e-05  \n",
      "CD2_1 CD2_2  : -3.4411110235378e-05  9.22042157349863e-06  \n",
      "NAXIS : 8314  2894\n",
      "WCS Keywords\n",
      "\n",
      "Number of WCS axes: 2\n",
      "CTYPE : 'RA---TAN'  'DEC--TAN'  \n",
      "CRVAL : 52.30879868954485  31.29524785918432  \n",
      "CRPIX : 4157.0  1447.0  \n",
      "CD1_1 CD1_2  : -9.2204215734986e-06  -3.4411110235378e-05  \n",
      "CD2_1 CD2_2  : -3.4411110235378e-05  9.22042157349863e-06  \n",
      "NAXIS : 8305  2892\n"
     ]
    },
    {
     "data": {
      "text/plain": [
       "'hh6/164_translated.fits'"
      ]
     },
     "execution_count": 35,
     "metadata": {},
     "output_type": "execute_result"
    }
   ],
   "source": [
    "#next, based on looking at images by hand, from 126 to 164, the pixels on 164 are actually at a lower RA and Dec relative to 126\n",
    "#so we need 164 center shifted down to a position that is by 4476.56-4469.5554 and 1688.88-1685.8796 (based on star ASR 24)\n",
    "#some other stars we could use: ASR 28, ASR 29\n",
    "\n",
    "print(files_data) #so the first one is 164, the second one is 126\n",
    "print(hdu_data_list[1].shape, hdu_data_list[0].shape)\n",
    "\n",
    "# print(hdu_header_list[1]['CRPIX1'], hdu_header_list[1]['CRPIX2'])\n",
    "# print(hdu_header_list[1]['NAXIS1'], hdu_header_list[1]['NAXIS2'])\n",
    "# print(hdu_header_list[0]['CRPIX1'], hdu_header_list[0]['CRPIX2'])\n",
    "# print(hdu_header_list[0]['NAXIS1'], hdu_header_list[0]['NAXIS2'])\n",
    "\n",
    "w_126 = WCS(hdu_header_list[1]) #wcs of img we shift to, 126 here\n",
    "print(w_126)\n",
    "\n",
    "#shifting wcs of 164 img by diff btwn ASR 24 pos in 126 and 164 imgs while using DS9\n",
    "ra_shift = 9 # 4476.56-4469.5554 about = 7\n",
    "dec_shift = 2 # 1688.88-1685.8796 about = 3\n",
    "center_164_shifted = (hdu_header_list[0]['CRPIX1']-ra_shift, hdu_header_list[0]['CRPIX2']-dec_shift)\n",
    "size = (hdu_header_list[0]['NAXIS2'], hdu_header_list[0]['NAXIS1'])\n",
    "\n",
    "cutout = Cutout2D(hdu_data_list[0], center_164_shifted, size, wcs = w_126)\n",
    "datacut = cutout.data\n",
    "\n",
    "# #fixing wcs\n",
    "wcscut = cutout.wcs \n",
    "print(wcscut)\n",
    "wcs_header_cut = wcscut.to_header()\n",
    "\n",
    "# print(datacut.shape)\n",
    "\n",
    "fits_saver(datacut, wcs_header_cut, '164_translated.fits', 'hh6/')"
   ]
  },
  {
   "cell_type": "code",
   "execution_count": 27,
   "metadata": {},
   "outputs": [
    {
     "data": {
      "text/plain": [
       "'hh6/126_translated.fits'"
      ]
     },
     "execution_count": 27,
     "metadata": {},
     "output_type": "execute_result"
    }
   ],
   "source": [
    "#trying the reverse shift...\n",
    "\n",
    "w_164 = WCS(hdu_header_list[0]) #wcs of img we shift to, 126 here\n",
    "\n",
    "#shifting wcs of 164 img by diff btwn ASR 24 pos in 126 and 164 imgs while using DS9\n",
    "ra_shift = 4476.56-4469.5554\n",
    "dec_shift = 1688.88-1685.8796\n",
    "center_126_shifted = (hdu_header_list[1]['CRPIX1']+ra_shift, hdu_header_list[1]['CRPIX2']+dec_shift)\n",
    "size = (hdu_header_list[1]['NAXIS2'], hdu_header_list[1]['NAXIS1'])\n",
    "\n",
    "cutout = Cutout2D(hdu_data_list[1], center_126_shifted, size, wcs = w_164)\n",
    "datacut = cutout.data\n",
    "\n",
    "# #fixing wcs\n",
    "wcscut = cutout.wcs \n",
    "wcs_header_cut = wcscut.to_header()\n",
    "\n",
    "# print(datacut.shape)\n",
    "\n",
    "fits_saver(datacut, wcs_header_cut, '126_translated.fits', 'hh6/')"
   ]
  },
  {
   "cell_type": "code",
   "execution_count": null,
   "metadata": {},
   "outputs": [],
   "source": []
  }
 ],
 "metadata": {
  "kernelspec": {
   "display_name": "Python 3",
   "language": "python",
   "name": "python3"
  },
  "language_info": {
   "codemirror_mode": {
    "name": "ipython",
    "version": 3
   },
   "file_extension": ".py",
   "mimetype": "text/x-python",
   "name": "python",
   "nbconvert_exporter": "python",
   "pygments_lexer": "ipython3",
   "version": "3.8.5"
  }
 },
 "nbformat": 4,
 "nbformat_minor": 4
}
