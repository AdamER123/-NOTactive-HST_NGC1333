{
 "cells": [
  {
   "cell_type": "code",
   "execution_count": 1,
   "metadata": {},
   "outputs": [
    {
     "name": "stdout",
     "output_type": "stream",
     "text": [
      "3.8.5\n"
     ]
    }
   ],
   "source": [
    "#From https://photutils.readthedocs.io/en/stable/epsf.html\n",
    "\n",
    "#purpose is to take HST images, identify, and get resolution from point sources (stars)\n",
    "\n",
    "import astropy.units as u\n",
    "from astropy.coordinates import SkyCoord\n",
    "from astroquery.simbad import Simbad\n",
    "\n",
    "#just to check python version - should be 3.7.4\n",
    "from platform import python_version\n",
    "print(python_version())\n",
    "\n",
    "#importing libraries\n",
    "from astropy.io import fits\n",
    "from astropy.convolution import convolve, Gaussian2DKernel, Box2DKernel\n",
    "from astropy.nddata import Cutout2D\n",
    "from astropy.wcs import WCS\n",
    "\n",
    "import glob\n",
    "import itertools\n",
    "import matplotlib \n",
    "matplotlib.use('Agg') #invokved b/c just plain matplotlib was insufficient\n",
    "import matplotlib.pyplot as plt\n",
    "import numpy as np\n",
    "import pandas as pd\n",
    "import sys\n",
    "\n",
    "%matplotlib inline"
   ]
  },
  {
   "cell_type": "code",
   "execution_count": 2,
   "metadata": {},
   "outputs": [],
   "source": [
    "#the goal of this cell is to refine object coordinates from some initial guesses using either 2MASS or GAIA\n",
    "\n",
    "#taking star coords from text file\n",
    "star_coords = np.genfromtxt('hh6_star_coords.txt', dtype=str)\n",
    "\n",
    "#setting up query\n",
    "result_table = []\n",
    "for i in star_coords:\n",
    "    ra, dec = i\n",
    "    result_table.append(Simbad.query_region(SkyCoord(ra+dec, frame='icrs'), radius='0d0m3s'))\n"
   ]
  },
  {
   "cell_type": "code",
   "execution_count": 3,
   "metadata": {},
   "outputs": [
    {
     "name": "stdout",
     "output_type": "stream",
     "text": [
      "0 ../../n1333_photometry_ds9.bck.dir/Frame1/n1333_lh_3_FeII_flag400_2_map_fixed.FIT\n",
      "1 ../../n1333_photometry_ds9.bck.dir/Frame10/n1333_sh_1_S32_map.fits\n",
      "2 ../../n1333_photometry_ds9.bck.dir/Frame11/n1333_sh_NeII_2_map.fits\n",
      "3 ../../n1333_photometry_ds9.bck.dir/Frame12/n1333_sh_S2_2_map.fits\n",
      "4 ../../n1333_photometry_ds9.bck.dir/Frame13/n1333_sl1_NeII_bksub_trim_2_map.fits\n",
      "5 ../../n1333_photometry_ds9.bck.dir/Frame14/n1333_sl1_S2_bksub_trim_2_map.fits\n",
      "6 ../../n1333_photometry_ds9.bck.dir/Frame15/n1333_sl1_S3_bksub_trim_2_map_fixed1.FIT\n",
      "7 ../../n1333_photometry_ds9.bck.dir/Frame16/n1333_sl1_S4_bksub_trim_3_map.fits\n",
      "8 ../../n1333_photometry_ds9.bck.dir/Frame17/n1333_sl2_S5_bksub_trim_2_map.fits\n",
      "9 ../../n1333_photometry_ds9.bck.dir/Frame18/n1333_sl2_S6_bksub_trim_3_map.fits\n",
      "10 ../../n1333_photometry_ds9.bck.dir/Frame19/n1333_sl2_S7_bksub_trim_2_map.fits\n",
      "11 ../../n1333_photometry_ds9.bck.dir/Frame2/n1333_lh_3_S0_flag400_2_map_fixed.FIT\n",
      "12 ../../n1333_photometry_ds9.bck.dir/Frame3/n1333_lh_3_SI_flag400_2_map_fixed.FIT\n",
      "13 ../../n1333_photometry_ds9.bck.dir/Frame4/n1333_lh_3_SiII_flag400_2_map_fixed.FIT\n",
      "14 ../../n1333_photometry_ds9.bck.dir/Frame5/n1333_ll1_FeII_bksub_trim_3_map_fixed2.FIT\n",
      "15 ../../n1333_photometry_ds9.bck.dir/Frame6/n1333_ll1_S0_bksub_trim_3_map.fits\n",
      "16 ../../n1333_photometry_ds9.bck.dir/Frame7/n1333_ll1_SiII_bksub_trim_2_map_fixed1.FIT\n",
      "17 ../../n1333_photometry_ds9.bck.dir/Frame8/n1333_ll2_S1_bksub_trim_2_map_fixed1.FIT\n",
      "18 ../../n1333_photometry_ds9.bck.dir/Frame9/n1333_ll2_FeII_bksub_trim_3_map.fits\n",
      "4.9291532e-19 339.31592\n",
      "4.2779222e-19 357.43805\n",
      "2.7760207e-19 700.0654299999999\n",
      "loaded data!\n"
     ]
    }
   ],
   "source": [
    "#next, we load in some HST images\n",
    "\n",
    "# #finding the path to every fits images in a directory\n",
    "def im_name_finder(path, file_type):\n",
    "    #Using glob (it's a unix command similar to ls)\n",
    "    #WARNING: using recursive=True...depending how many images you use this could be very slow, it's recommended not to have too many subfolders\n",
    "    #if needed, some example code is commented towards the latter half of this code that could help make an alternative\n",
    "    all_names = glob.glob(path, recursive=True)\n",
    "\n",
    "    #IMPORTANT: Using \"fit\" here because it is inclusive of both fits and FIT...some files end in \"FIT\" and need to be included\n",
    "    #can edit this accordingly or edit your file names\n",
    "    #using s.lower() includes uppercase extensions like FIT\n",
    "    im_names = [s for s in all_names if 'fit' in s.lower()]\n",
    "\n",
    "    return im_names\n",
    "\n",
    "# #EX: grabbing all the fits image paths in a directory, #so they can be looped through and their data opened\n",
    "# #set your path to some directory with images # (the images can be in subdirectories)\n",
    "#the spitzer images\n",
    "path = '../../n1333_photometry_ds9.bck.dir/**' # #using ** will grab all files even in subdirectories WARNING takes longer\n",
    "im_names_spitz = im_name_finder(path, 'fit') #im_finder is basically glob.glob\n",
    "im_names_spitz = [i.replace('\\\\', '/') for i in im_names_spitz]\n",
    "im_names_spitz.remove('../../n1333_photometry_ds9.bck.dir/Frame20/n1333_band2_300_300_residual_hdrswap.fits')\n",
    "\n",
    "#the hubble images\n",
    "files_units = ['../../ngc1333_fits/126build_shift_2_drz.fits', \n",
    "                '../../ngc1333_fits/128build_shift_2_drz.fits', \n",
    "                '../../ngc1333_fits/164build_shift_2_drz.fits']\n",
    "\n",
    "files_data = ['../../ngc1333_fits/126build_shift_2_drz.fits', \n",
    "                '../../ngc1333_fits/128build_shift_2_drz.fits', \n",
    "                '../../ngc1333_fits/164build_shift_2_drz.fits']\n",
    "\n",
    "#initializing some lists to be used\n",
    "hdu_pix_list = []\n",
    "hdu_pixtorad_list = []\n",
    "hdu_fnu_list = []\n",
    "hdu_flam_list = []\n",
    "hdu_bw_list = []\n",
    "hdu_data_list = []\n",
    "hdu_header_list = []\n",
    "# we ignore throughput since it is included (?) in the other conversion values I'm told\n",
    "# throughput_list = [1., 1., 1., 1., 1., 1.] # [0.242, 1., 0.246, 0.496, 0.521, 0.470] #also has to be done by hand, not in the headers?\n",
    "\n",
    "files_units = im_names_spitz + files_units\n",
    "files_data = im_names_spitz + files_data\n",
    "\n",
    "#opening data and headers\n",
    "hdu_list_units = [fits.open(i) for i in files_units]\n",
    "hdu_list = [fits.open(i) for i in files_data]\n",
    "\n",
    "    \n",
    "#I'm using count here just to point to specific indices that I've set up...unfortunately some have different headers...\n",
    "#the only diff between the if and else cases are the indexing of the hdu's, some need 1 and some need 0\n",
    "#I've tried to group it for convience, so the the first two have the same headers, the last 3 have the same headers\n",
    "count = 0\n",
    "for (hdu_units,hdu_data) in zip(hdu_list_units, hdu_list):\n",
    "    if count < len(hdu_list)-3: #the spitzer ones\n",
    "        #reading in conversions\n",
    "        print(count, files_units[count])\n",
    "        hdu_pix_list.append(hdu_units[0].header['CDELT2'])  #CDELT2 is the keyword for Spitzer images, in arcsec\n",
    "        hdu_pixtorad_list.append(hdu_pix_list[count] * np.pi / 180.) #convert to radians\n",
    "        # hdu_fnu_list.append(hdu_units[0].header['PHOTFNU'])\n",
    "        # hdu_flam_list.append(hdu_units[0].header['PHOTFLAM'])\n",
    "#         hdu_bw_list.append(hdu_units[0].header['PHOTBW'])\n",
    "\n",
    "        #reading in datafor general use  and header for wcs\n",
    "        #the spiter data is in MJy / sr, so let's convert out the MJy to Flam units, times by bw/calscale from earlier\n",
    "        #this gets units of erg/cm^2/sec - we also times by 1 rad^2 - 1 sr!  \n",
    "        hdu_data_list.append(hdu_data[0].data * 1e6 * 1e-23 * hdu_pixtorad_list[count]**2.)  \n",
    "        hdu_header_list.append(hdu_data[0].header)\n",
    "        \n",
    "    else: #the hubble ones\n",
    "        #reading in conversions\n",
    "        hdu_pix_list.append(hdu_units[0].header['D001SCAL'])  #D001SCAL is the keyword for Hubble images, in sr\n",
    "        hdu_pixtorad_list.append(hdu_pix_list[count] / 206265.)\n",
    "        # hdu_fnu_list.append(hdu_units[0].header['PHOTFNU'])\n",
    "        hdu_flam_list.append(hdu_units[0].header['PHOTFLAM'])\n",
    "        hdu_bw_list.append(hdu_units[0].header['PHOTBW'])\n",
    "\n",
    "        #reading in data for general use  and header for wcs\n",
    "        #converting by times by flam * bw from e-/sec...should get units of erg/cm^2/sec as above\n",
    "        hdu_data_list.append(hdu_data[1].data * hdu_units[0].header['PHOTFLAM'] * hdu_units[0].header['PHOTBW'])\n",
    "        print(hdu_units[0].header['PHOTFLAM'], hdu_units[0].header['PHOTBW'])\n",
    "        hdu_header_list.append(hdu_data[1].header)\n",
    "\n",
    "    count += 1\n",
    "\n",
    "print('loaded data!')\n"
   ]
  },
  {
   "cell_type": "code",
   "execution_count": 4,
   "metadata": {},
   "outputs": [],
   "source": [
    "#follow https://photutils.readthedocs.io/en/stable/epsf.html\n",
    "\n",
    "#now, locate spots on the images\n",
    "from astropy.nddata import NDData\n",
    "nddata = NDData(data=hdu_data_list[-1], wcs=WCS(hdu_header_list[-1]))   #here reformatting data from 1.64 micron HST image\n",
    "\n",
    "from astropy.table import Table\n",
    "from astropy.wcs.utils import skycoord_to_pixel\n",
    "from photutils.psf import extract_stars #use this to make star cutouts\n",
    "\n",
    "#this was made complicated bc you cannot directly go from skycoord to Table\n",
    "stars_tbl = Table(names=('x', 'y'))\n",
    "for i in range(len(result_table)):\n",
    "    ra_dec_formatted = SkyCoord(result_table[i]['RA'][0] + ' ' + result_table[i]['DEC'][0], frame='icrs', unit=(u.hourangle, u.deg))\n",
    "    pix = skycoord_to_pixel(ra_dec_formatted, WCS(hdu_header_list[-1]))\n",
    "\n",
    "    stars_tbl.add_row(pix)\n",
    "stars = extract_stars(nddata, stars_tbl, size=25) "
   ]
  },
  {
   "cell_type": "code",
   "execution_count": 5,
   "metadata": {},
   "outputs": [
    {
     "name": "stderr",
     "output_type": "stream",
     "text": [
      "C:\\Users\\arubi\\anaconda3\\lib\\site-packages\\astropy\\visualization\\stretch.py:285: RuntimeWarning: invalid value encountered in log\n",
      "  np.log(values, out=values)\n"
     ]
    },
    {
     "data": {
      "image/png": "[encoded data removed]",
      "text/plain": [
       "<Figure size 1080x1080 with 8 Axes>"
      ]
     },
     "metadata": {
      "needs_background": "light"
     },
     "output_type": "display_data"
    }
   ],
   "source": [
    "#finally, make psfs for each star and then we determine the resolution from the PSFs\n",
    "#can be done by fitting a gaussian (or other kernel) and normalizing so integral of psf is 1\n",
    "\n",
    "import matplotlib.pyplot as plt\n",
    "from astropy.visualization import simple_norm\n",
    "nrows = 2\n",
    "ncols = 4\n",
    "fig, ax = plt.subplots(nrows=nrows, ncols=ncols, figsize=(15, 15))\n",
    "ax = ax.ravel()\n",
    "for i in range(nrows * ncols):\n",
    "    norm = simple_norm(stars[i], 'log', percent=99.)\n",
    "    ax[i].imshow(stars[i], norm=norm, origin='lower', cmap='viridis')\n",
    "\n",
    "plt.tight_layout()"
   ]
  },
  {
   "cell_type": "code",
   "execution_count": 6,
   "metadata": {},
   "outputs": [
    {
     "data": {
      "text/plain": [
       "<matplotlib.colorbar.Colorbar at 0x2155b38c220>"
      ]
     },
     "execution_count": 6,
     "metadata": {},
     "output_type": "execute_result"
    },
    {
     "name": "stderr",
     "output_type": "stream",
     "text": [
      "C:\\Users\\arubi\\anaconda3\\lib\\site-packages\\astropy\\visualization\\stretch.py:285: RuntimeWarning: invalid value encountered in log\n",
      "  np.log(values, out=values)\n"
     ]
    },
    {
     "data": {
      "image/png": "[encoded data removed]",
      "text/plain": [
       "<Figure size 432x288 with 2 Axes>"
      ]
     },
     "metadata": {
      "needs_background": "light"
     },
     "output_type": "display_data"
    }
   ],
   "source": [
    "#attempting and failing to make an effective psf fitter\n",
    "\n",
    "#increase maxiters to smooth more and decrease oversampling to avoid issues \n",
    "from photutils.psf import EPSFBuilder\n",
    "epsf_builder = EPSFBuilder(oversampling=1, maxiters=30,\n",
    "                           progress_bar=False)  \n",
    "epsf, fitted_stars = epsf_builder(stars[4:])  \n",
    "\n",
    "import matplotlib.pyplot as plt\n",
    "from astropy.visualization import simple_norm\n",
    "norm = simple_norm(epsf.data, 'log', percent=99.)\n",
    "plt.imshow(epsf.data, norm=norm, origin='lower', cmap='viridis')\n",
    "plt.colorbar()"
   ]
  },
  {
   "cell_type": "code",
   "execution_count": 23,
   "metadata": {
    "scrolled": false
   },
   "outputs": [
    {
     "name": "stderr",
     "output_type": "stream",
     "text": [
      "<ipython-input-23-d0b0bcfb0ba0>:24: MatplotlibDeprecationWarning: shading='flat' when X and Y have the same dimensions as C is deprecated since 3.3.  Either specify the corners of the quadrilaterals with X and Y, or pass shading='auto', 'nearest' or 'gouraud', or set rcParams['pcolor.shading'].  This will become an error two minor releases later.\n",
      "  axes[1,0].pcolormesh(x, y, epsf.data)\n"
     ]
    },
    {
     "data": {
      "image/png": "[encoded data removed]",
      "text/plain": [
       "<Figure size 720x576 with 3 Axes>"
      ]
     },
     "metadata": {
      "needs_background": "light"
     },
     "output_type": "display_data"
    }
   ],
   "source": [
    "#https://photutils.readthedocs.io/en/stable/psf_matching.html could be inspiration\n",
    "#https://www.stsci.edu/files/live/sites/www/files/home/hst/instrumentation/wfc3/documentation/instrument-science-reports-isrs/_documents/2016/WFC3-2016-12.pdf can see for more...\n",
    "\n",
    "#instead let's double check stackoverflow for now...seems complex\n",
    "#ultimately just trying epsf cross section, like in https://stackoverflow.com/questions/18920614/plot-cross-section-through-heat-map\n",
    "\n",
    "# Coordinates of the line we'd like to sample along\n",
    "line = [(0, 13.5), (25, 13.5)]\n",
    "\n",
    "# Convert the line to pixel/index coordinates\n",
    "x, y = np.arange(epsf.data.shape[0]), np.arange(epsf.data.shape[1])\n",
    "x_world, y_world = np.array(list(zip(*line)))\n",
    "col = epsf.data.shape[1] * (x_world - x.min()) / x.ptp()\n",
    "row = epsf.data.shape[0] * (y_world - y.min()) / y.ptp()\n",
    "\n",
    "# Interpolate the line at \"num\" points...\n",
    "num = 27\n",
    "row, col = [np.linspace(item[0], item[1], num) for item in [row, col]]\n",
    "\n",
    "# Plot...\n",
    "fig, axes = plt.subplots(figsize=(10, 8), nrows=2, ncols=2)\n",
    "fig.delaxes(axes[0,1])\n",
    "\n",
    "axes[1,0].pcolormesh(x, y, epsf.data)\n",
    "axes[1,0].plot(x_world, y_world, 'ro-')\n",
    "axes[1,0].plot(y_world, x_world, 'bo-')\n",
    "axes[1,0].axis('image')\n",
    "\n",
    "# Extract the values along the line, using cubic interpolation\n",
    "import scipy as sp\n",
    "#horizontal cut\n",
    "cross_sec_hori = sp.ndimage.map_coordinates(epsf.data, np.vstack((row, col)))\n",
    "axes[0,0].scatter(np.arange(len(cross_sec_hori)), cross_sec_hori, color='r')\n",
    "\n",
    "#vertical cut\n",
    "cross_sec_vert = sp.ndimage.map_coordinates(epsf.data, np.vstack((col, row)))\n",
    "\n",
    "axes[1,1].scatter(cross_sec_vert, np.arange(len(cross_sec_vert)), color='b')\n",
    "\n",
    "plt.show()"
   ]
  },
  {
   "cell_type": "code",
   "execution_count": 8,
   "metadata": {},
   "outputs": [
    {
     "data": {
      "text/plain": [
       "\"\\nThis shows it is about 3 to 4 pixels wide for FWHM (haven't directly measured yet)\\n\\ntheta as in res is 1.2 * lambda / D\\nIf we take 1.64 microns and 2.4e6 meters, then we get an angular res of \\n1.319e-6 radians ?\\nOk so we can use pixtorad of 6.217729758370198e-07 rads = 1 pix\\nSo we therefore divide to get 2.12 pixels\\n\\nSo the 2.12 is perhaps a slight underestimate? Depends on the specifics of this model and the cross section, though\\n\""
      ]
     },
     "execution_count": 8,
     "metadata": {},
     "output_type": "execute_result"
    }
   ],
   "source": [
    "'''\n",
    "This shows it is about 3 to 4 pixels wide for FWHM (haven't directly measured yet)\n",
    "\n",
    "theta as in res is 1.2 * lambda / D\n",
    "If we take 1.64 microns and 2.4e6 meters, then we get an angular res of \n",
    "1.319e-6 radians ?\n",
    "Ok so we can use pixtorad of 6.217729758370198e-07 rads = 1 pix\n",
    "So we therefore divide to get 2.12 pixels\n",
    "\n",
    "So the 2.12 is perhaps a slight underestimate? Depends on the specifics of this model and the cross section, though\n",
    "'''"
   ]
  },
  {
   "cell_type": "code",
   "execution_count": null,
   "metadata": {},
   "outputs": [],
   "source": []
  }
 ],
 "metadata": {
  "kernelspec": {
   "display_name": "Python 3",
   "language": "python",
   "name": "python3"
  },
  "language_info": {
   "codemirror_mode": {
    "name": "ipython",
    "version": 3
   },
   "file_extension": ".py",
   "mimetype": "text/x-python",
   "name": "python",
   "nbconvert_exporter": "python",
   "pygments_lexer": "ipython3",
   "version": "3.8.5"
  }
 },
 "nbformat": 4,
 "nbformat_minor": 4
}
