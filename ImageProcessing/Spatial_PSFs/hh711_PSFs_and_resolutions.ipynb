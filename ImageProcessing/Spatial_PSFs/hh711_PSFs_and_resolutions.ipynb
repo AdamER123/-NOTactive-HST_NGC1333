{
 "cells": [
  {
   "cell_type": "code",
   "execution_count": 1,
   "metadata": {},
   "outputs": [
    {
     "name": "stdout",
     "output_type": "stream",
     "text": [
      "3.8.5\n"
     ]
    }
   ],
   "source": [
    "#From https://photutils.readthedocs.io/en/stable/epsf.html\n",
    "\n",
    "#purpose is to take HST images, identify, and get resolution from point sources (stars)\n",
    "\n",
    "import astropy.units as u\n",
    "from astropy.coordinates import SkyCoord\n",
    "from astroquery.simbad import Simbad\n",
    "\n",
    "#just to check python version - should be 3.7.4\n",
    "from platform import python_version\n",
    "print(python_version())\n",
    "\n",
    "#importing libraries\n",
    "from astropy.io import fits\n",
    "from astropy.convolution import convolve, Gaussian2DKernel, Box2DKernel\n",
    "from astropy.nddata import Cutout2D\n",
    "from astropy.wcs import WCS\n",
    "\n",
    "import glob\n",
    "import itertools\n",
    "import matplotlib \n",
    "matplotlib.use('Agg') #invokved b/c just plain matplotlib was insufficient\n",
    "import matplotlib.pyplot as plt\n",
    "import numpy as np\n",
    "import pandas as pd\n",
    "import sys\n",
    "\n",
    "%matplotlib inline"
   ]
  },
  {
   "cell_type": "code",
   "execution_count": 2,
   "metadata": {},
   "outputs": [
    {
     "name": "stdout",
     "output_type": "stream",
     "text": [
      "[['03h29m02.8902198504s' '+31d16m00.953186124s']\n",
      " ['03h29m02.1578803464s' '+31d16m11.433429732s']\n",
      " ['3h29m03.7578170808s' '+31d16m03.947525688s']]\n",
      "[<Table length=1>\n",
      "MAIN_ID       RA           DEC      ...     COO_BIBCODE     SCRIPT_NUMBER_ID\n",
      "           \"h:m:s\"       \"d:m:s\"    ...                                     \n",
      " object     str13         str13     ...        object            int32      \n",
      "------- ------------- ------------- ... ------------------- ----------------\n",
      "ASR   2 03 29 02.8902 +31 16 00.953 ... 2020yCat.1350....0G                1, <Table length=1>\n",
      "MAIN_ID       RA           DEC      ...     COO_BIBCODE     SCRIPT_NUMBER_ID\n",
      "           \"h:m:s\"       \"d:m:s\"    ...                                     \n",
      " object     str13         str13     ...        object            int32      \n",
      "------- ------------- ------------- ... ------------------- ----------------\n",
      "ASR   3 03 29 02.1578 +31 16 11.433 ... 2020yCat.1350....0G                1, <Table length=1>\n",
      "  MAIN_ID         RA           DEC      ...     COO_BIBCODE     SCRIPT_NUMBER_ID\n",
      "               \"h:m:s\"       \"d:m:s\"    ...                                     \n",
      "   object       str13         str13     ...        object            int32      \n",
      "----------- ------------- ------------- ... ------------------- ----------------\n",
      "V* V512 Per 03 29 03.7578 +31 16 03.947 ... 2020yCat.1350....0G                1]\n"
     ]
    }
   ],
   "source": [
    "#the goal of this cell is to refine object coordinates from some initial guesses using either 2MASS or GAIA\n",
    "\n",
    "#taking star coords from text file\n",
    "star_coords = np.genfromtxt('hh711_star_coords.txt', dtype=str)\n",
    "print(star_coords)\n",
    "\n",
    "#setting up query\n",
    "result_table = []\n",
    "for i in star_coords:\n",
    "    ra, dec = i\n",
    "    result_table.append(Simbad.query_region(SkyCoord(ra+dec, frame='icrs'), radius='0.05s'))\n",
    "print(result_table)"
   ]
  },
  {
   "cell_type": "code",
   "execution_count": 3,
   "metadata": {},
   "outputs": [
    {
     "name": "stdout",
     "output_type": "stream",
     "text": [
      "['hh7_11_checks/hdu0_conv_656shifted_flam_0301_oIreproject2.fits', 'hh7_11_checks/hdu0_conv_656shifted_flam_656_hareproject_shifted_up5_left3.fits', 'hh7_11_checks/hdu0_conv_656shifted_flam_672_sIIreproject.fits', 'hh7_11_checks/hdu0_conv_656shifted_flam_background_corr_126_aligned.fits', 'hh7_11_checks/hdu0_conv_656shifted_flam_background_corr_128_aligned.fits', 'hh7_11_checks/hdu0_conv_656shifted_flam_background_corr_164_aligned.fits', 'hh7_11_checks/nonlin_656shifted_RFe2p6RH25p0start3400end400Tinc50fluxlim0p1e-17_f_Fe.fits', 'hh7_11_checks/nonlin_656shifted_RFe2p6RH25p0start3400end400Tinc50fluxlim0p1e-17_f_H.fits']\n",
      "loaded data!\n"
     ]
    }
   ],
   "source": [
    "#next, we load in some HST images\n",
    "\n",
    "# #finding the path to every fits images in a directory\n",
    "def im_name_finder(path, file_type):\n",
    "    #Using glob (it's a unix command similar to ls)\n",
    "    #WARNING: using recursive=True...depending how many images you use this could be very slow, it's recommended not to have too many subfolders\n",
    "    #if needed, some example code is commented towards the latter half of this code that could help make an alternative\n",
    "    all_names = glob.glob(path, recursive=True)\n",
    "\n",
    "    #IMPORTANT: Using \"fit\" here because it is inclusive of both fits and FIT...some files end in \"FIT\" and need to be included\n",
    "    #can edit this accordingly or edit your file names\n",
    "    #using s.lower() includes uppercase extensions like FIT\n",
    "    im_names = [s for s in all_names if 'fit' in s.lower()]\n",
    "\n",
    "    return im_names\n",
    "\n",
    "#the hubble images\n",
    "path = 'hh7_11_checks/*'\n",
    "files_data = [i.replace('\\\\', '/') for i in glob.glob(path)]\n",
    "print(files_data)\n",
    "\n",
    "#initializing some lists to be used\n",
    "hdu_data_list = []\n",
    "hdu_header_list = []\n",
    "\n",
    "#opening data and headers\n",
    "hdu_list = [fits.open(i) for i in files_data]\n",
    "\n",
    "#I'm using count here just to point to specific indices that I've set up...unfortunately some have different headers...\n",
    "#the only diff between the if and else cases are the indexing of the hdu's, some need 1 and some need 0\n",
    "#I've tried to group it for convience, so the the first two have the same headers, the last 3 have the same headers\n",
    "count = 0\n",
    "for hdu_data in hdu_list:\n",
    "    #reading in data for general use  and header for wcs\n",
    "    #converting by times by flam * bw from e-/sec...should get units of erg/cm^2/sec as above\n",
    "    hdu_data_list.append(hdu_data[0].data)\n",
    "    hdu_header_list.append(hdu_data[0].header)\n",
    "\n",
    "    count += 1\n",
    "\n",
    "print('loaded data!')"
   ]
  },
  {
   "cell_type": "code",
   "execution_count": 7,
   "metadata": {},
   "outputs": [],
   "source": [
    "#follow https://photutils.readthedocs.io/en/stable/epsf.html\n",
    "\n",
    "#now, locate spots on the images\n",
    "from astropy.nddata import NDData\n",
    "from astropy.table import Table\n",
    "from astropy.wcs.utils import skycoord_to_pixel\n",
    "from photutils.psf import extract_stars #use this to make star cutouts\n",
    "\n",
    "# nddata = NDData(data=hdu_data_list[-1], wcs=WCS(hdu_header_list[-1]))   #here reformatting data from 1.64 micron HST image\n",
    "nddata_list = [NDData(data=i, wcs=j) for i,j in zip(hdu_data_list, hdu_header_list) ]\n",
    "\n",
    "#this was made complicated bc you cannot directly go from skycoord to Table\n",
    "stars_list = []\n",
    "for nddata in nddata_list:\n",
    "\n",
    "    stars_tbl = Table(names=('x', 'y'))\n",
    "    for i in range(len(result_table)):\n",
    "        ra_dec_formatted = SkyCoord(result_table[i]['RA'][0] + ' ' + result_table[i]['DEC'][0], frame='icrs', unit=(u.hourangle, u.deg))\n",
    "        pix = skycoord_to_pixel(ra_dec_formatted, WCS(hdu_header_list[i]))\n",
    "        stars_tbl.add_row(pix)\n",
    "\n",
    "    stars = extract_stars(nddata, stars_tbl, size=25) \n",
    "    stars_list.append(stars)"
   ]
  },
  {
   "cell_type": "code",
   "execution_count": 25,
   "metadata": {},
   "outputs": [],
   "source": [
    "#finally, make psfs for each star and then we determine the resolution from the PSFs\n",
    "#can be done by fitting a gaussian (or other kernel) and normalizing so integral of psf is 1\n",
    "\n",
    "import matplotlib.pyplot as plt\n",
    "from astropy.visualization import simple_norm\n",
    "nrows = 1\n",
    "ncols = 3\n",
    "\n",
    "file_start = ['conv_0301_oIreproject2', 'conv_hareproject_shifted_up5_left3', 'conv_672_sIIreproject', 'conv_126_aligned', 'conv_128_aligned', 'conv_164_aligned.fits', 'f_Fe', 'f_H']\n",
    "\n",
    "for i in range(len(stars_list)):\n",
    "    fig, ax = plt.subplots(nrows=nrows, ncols=ncols, figsize=(15, 15))\n",
    "    ax = ax.ravel()\n",
    "\n",
    "    for j in range(nrows*ncols):\n",
    "        norm = simple_norm(stars_list[i][j], 'log', percent=99.)\n",
    "        ax[j].imshow(stars_list[i][j], norm=norm, origin='lower', cmap='viridis')\n",
    "    \n",
    "    plt.tight_layout()\n",
    "    plt.savefig('hh7_11_checks/psfcutouts/'+file_start[i]+'_psfcutout.png')\n",
    "    plt.close()"
   ]
  },
  {
   "cell_type": "code",
   "execution_count": 26,
   "metadata": {},
   "outputs": [
    {
     "name": "stderr",
     "output_type": "stream",
     "text": [
      "C:\\Users\\arubi\\anaconda3\\lib\\site-packages\\astropy\\visualization\\stretch.py:285: RuntimeWarning: invalid value encountered in log\n",
      "  np.log(values, out=values)\n",
      "<ipython-input-26-2861d19fee47>:39: MatplotlibDeprecationWarning: shading='flat' when X and Y have the same dimensions as C is deprecated since 3.3.  Either specify the corners of the quadrilaterals with X and Y, or pass shading='auto', 'nearest' or 'gouraud', or set rcParams['pcolor.shading'].  This will become an error two minor releases later.\n",
      "  axes[1,0].pcolormesh(x, y, epsf.data)\n",
      "C:\\Users\\arubi\\anaconda3\\lib\\site-packages\\astropy\\visualization\\stretch.py:285: RuntimeWarning: invalid value encountered in log\n",
      "  np.log(values, out=values)\n",
      "<ipython-input-26-2861d19fee47>:39: MatplotlibDeprecationWarning: shading='flat' when X and Y have the same dimensions as C is deprecated since 3.3.  Either specify the corners of the quadrilaterals with X and Y, or pass shading='auto', 'nearest' or 'gouraud', or set rcParams['pcolor.shading'].  This will become an error two minor releases later.\n",
      "  axes[1,0].pcolormesh(x, y, epsf.data)\n",
      "WARNING: The star at ({star.center[0]}, {star.center[1]}) cannot be fit because its fitting region extends beyond the star cutout image. [photutils.psf.epsf]\n",
      "WARNING: The star at ({star.center[0]}, {star.center[1]}) cannot be fit because its fitting region extends beyond the star cutout image. [photutils.psf.epsf]\n",
      "WARNING: The star at ({star.center[0]}, {star.center[1]}) cannot be fit because its fitting region extends beyond the star cutout image. [photutils.psf.epsf]\n",
      "WARNING: The star at ({star.center[0]}, {star.center[1]}) cannot be fit because its fitting region extends beyond the star cutout image. [photutils.psf.epsf]\n",
      "WARNING: The star at ({star.center[0]}, {star.center[1]}) cannot be fit because its fitting region extends beyond the star cutout image. [photutils.psf.epsf]\n",
      "WARNING: The star at ({star.center[0]}, {star.center[1]}) cannot be fit because its fitting region extends beyond the star cutout image. [photutils.psf.epsf]\n",
      "WARNING: The star at ({star.center[0]}, {star.center[1]}) cannot be fit because its fitting region extends beyond the star cutout image. [photutils.psf.epsf]\n",
      "WARNING: The star at ({star.center[0]}, {star.center[1]}) cannot be fit because its fitting region extends beyond the star cutout image. [photutils.psf.epsf]\n",
      "WARNING: The star at ({star.center[0]}, {star.center[1]}) cannot be fit because its fitting region extends beyond the star cutout image. [photutils.psf.epsf]\n",
      "WARNING: The star at ({star.center[0]}, {star.center[1]}) cannot be fit because its fitting region extends beyond the star cutout image. [photutils.psf.epsf]\n",
      "C:\\Users\\arubi\\anaconda3\\lib\\site-packages\\astropy\\visualization\\stretch.py:285: RuntimeWarning: invalid value encountered in log\n",
      "  np.log(values, out=values)\n",
      "<ipython-input-26-2861d19fee47>:39: MatplotlibDeprecationWarning: shading='flat' when X and Y have the same dimensions as C is deprecated since 3.3.  Either specify the corners of the quadrilaterals with X and Y, or pass shading='auto', 'nearest' or 'gouraud', or set rcParams['pcolor.shading'].  This will become an error two minor releases later.\n",
      "  axes[1,0].pcolormesh(x, y, epsf.data)\n",
      "C:\\Users\\arubi\\anaconda3\\lib\\site-packages\\astropy\\visualization\\stretch.py:285: RuntimeWarning: invalid value encountered in log\n",
      "  np.log(values, out=values)\n",
      "<ipython-input-26-2861d19fee47>:39: MatplotlibDeprecationWarning: shading='flat' when X and Y have the same dimensions as C is deprecated since 3.3.  Either specify the corners of the quadrilaterals with X and Y, or pass shading='auto', 'nearest' or 'gouraud', or set rcParams['pcolor.shading'].  This will become an error two minor releases later.\n",
      "  axes[1,0].pcolormesh(x, y, epsf.data)\n",
      "C:\\Users\\arubi\\anaconda3\\lib\\site-packages\\astropy\\visualization\\stretch.py:285: RuntimeWarning: invalid value encountered in log\n",
      "  np.log(values, out=values)\n",
      "<ipython-input-26-2861d19fee47>:39: MatplotlibDeprecationWarning: shading='flat' when X and Y have the same dimensions as C is deprecated since 3.3.  Either specify the corners of the quadrilaterals with X and Y, or pass shading='auto', 'nearest' or 'gouraud', or set rcParams['pcolor.shading'].  This will become an error two minor releases later.\n",
      "  axes[1,0].pcolormesh(x, y, epsf.data)\n",
      "<ipython-input-26-2861d19fee47>:39: MatplotlibDeprecationWarning: shading='flat' when X and Y have the same dimensions as C is deprecated since 3.3.  Either specify the corners of the quadrilaterals with X and Y, or pass shading='auto', 'nearest' or 'gouraud', or set rcParams['pcolor.shading'].  This will become an error two minor releases later.\n",
      "  axes[1,0].pcolormesh(x, y, epsf.data)\n"
     ]
    },
    {
     "ename": "ValueError",
     "evalue": "Input position contains invalid values (NaNs or infs).",
     "output_type": "error",
     "traceback": [
      "\u001b[1;31m---------------------------------------------------------------------------\u001b[0m",
      "\u001b[1;31mValueError\u001b[0m                                Traceback (most recent call last)",
      "\u001b[1;32m<ipython-input-26-2861d19fee47>\u001b[0m in \u001b[0;36m<module>\u001b[1;34m\u001b[0m\n\u001b[0;32m      7\u001b[0m \u001b[1;33m\u001b[0m\u001b[0m\n\u001b[0;32m      8\u001b[0m \u001b[1;32mfor\u001b[0m \u001b[0mi\u001b[0m \u001b[1;32min\u001b[0m \u001b[0mrange\u001b[0m\u001b[1;33m(\u001b[0m\u001b[0mlen\u001b[0m\u001b[1;33m(\u001b[0m\u001b[0mstars_list\u001b[0m\u001b[1;33m)\u001b[0m\u001b[1;33m)\u001b[0m\u001b[1;33m:\u001b[0m\u001b[1;33m\u001b[0m\u001b[1;33m\u001b[0m\u001b[0m\n\u001b[1;32m----> 9\u001b[1;33m     \u001b[0mepsf\u001b[0m\u001b[1;33m,\u001b[0m \u001b[0mfitted_stars\u001b[0m \u001b[1;33m=\u001b[0m \u001b[0mepsf_builder\u001b[0m\u001b[1;33m(\u001b[0m\u001b[0mstars_list\u001b[0m\u001b[1;33m[\u001b[0m\u001b[0mi\u001b[0m\u001b[1;33m]\u001b[0m\u001b[1;33m)\u001b[0m\u001b[1;33m\u001b[0m\u001b[1;33m\u001b[0m\u001b[0m\n\u001b[0m\u001b[0;32m     10\u001b[0m     \u001b[0mnorm\u001b[0m \u001b[1;33m=\u001b[0m \u001b[0msimple_norm\u001b[0m\u001b[1;33m(\u001b[0m\u001b[0mepsf\u001b[0m\u001b[1;33m.\u001b[0m\u001b[0mdata\u001b[0m\u001b[1;33m,\u001b[0m \u001b[1;34m'log'\u001b[0m\u001b[1;33m,\u001b[0m \u001b[0mpercent\u001b[0m\u001b[1;33m=\u001b[0m\u001b[1;36m99.\u001b[0m\u001b[1;33m)\u001b[0m\u001b[1;33m\u001b[0m\u001b[1;33m\u001b[0m\u001b[0m\n\u001b[0;32m     11\u001b[0m     \u001b[0mplt\u001b[0m\u001b[1;33m.\u001b[0m\u001b[0mimshow\u001b[0m\u001b[1;33m(\u001b[0m\u001b[0mepsf\u001b[0m\u001b[1;33m.\u001b[0m\u001b[0mdata\u001b[0m\u001b[1;33m,\u001b[0m \u001b[0mnorm\u001b[0m\u001b[1;33m=\u001b[0m\u001b[0mnorm\u001b[0m\u001b[1;33m,\u001b[0m \u001b[0morigin\u001b[0m\u001b[1;33m=\u001b[0m\u001b[1;34m'lower'\u001b[0m\u001b[1;33m,\u001b[0m \u001b[0mcmap\u001b[0m\u001b[1;33m=\u001b[0m\u001b[1;34m'viridis'\u001b[0m\u001b[1;33m)\u001b[0m\u001b[1;33m\u001b[0m\u001b[1;33m\u001b[0m\u001b[0m\n",
      "\u001b[1;32m~\\anaconda3\\lib\\site-packages\\photutils\\psf\\epsf.py\u001b[0m in \u001b[0;36m__call__\u001b[1;34m(self, stars)\u001b[0m\n\u001b[0;32m    367\u001b[0m \u001b[1;33m\u001b[0m\u001b[0m\n\u001b[0;32m    368\u001b[0m     \u001b[1;32mdef\u001b[0m \u001b[0m__call__\u001b[0m\u001b[1;33m(\u001b[0m\u001b[0mself\u001b[0m\u001b[1;33m,\u001b[0m \u001b[0mstars\u001b[0m\u001b[1;33m)\u001b[0m\u001b[1;33m:\u001b[0m\u001b[1;33m\u001b[0m\u001b[1;33m\u001b[0m\u001b[0m\n\u001b[1;32m--> 369\u001b[1;33m         \u001b[1;32mreturn\u001b[0m \u001b[0mself\u001b[0m\u001b[1;33m.\u001b[0m\u001b[0mbuild_epsf\u001b[0m\u001b[1;33m(\u001b[0m\u001b[0mstars\u001b[0m\u001b[1;33m)\u001b[0m\u001b[1;33m\u001b[0m\u001b[1;33m\u001b[0m\u001b[0m\n\u001b[0m\u001b[0;32m    370\u001b[0m \u001b[1;33m\u001b[0m\u001b[0m\n\u001b[0;32m    371\u001b[0m     \u001b[1;33m@\u001b[0m\u001b[0mstaticmethod\u001b[0m\u001b[1;33m\u001b[0m\u001b[1;33m\u001b[0m\u001b[0m\n",
      "\u001b[1;32m~\\anaconda3\\lib\\site-packages\\photutils\\psf\\epsf.py\u001b[0m in \u001b[0;36mbuild_epsf\u001b[1;34m(self, stars, init_epsf)\u001b[0m\n\u001b[0;32m    843\u001b[0m                 warnings.filterwarnings('ignore', message=message,\n\u001b[0;32m    844\u001b[0m                                         category=AstropyUserWarning)\n\u001b[1;32m--> 845\u001b[1;33m                 \u001b[0mstars\u001b[0m \u001b[1;33m=\u001b[0m \u001b[0mself\u001b[0m\u001b[1;33m.\u001b[0m\u001b[0mfitter\u001b[0m\u001b[1;33m(\u001b[0m\u001b[0mepsf\u001b[0m\u001b[1;33m,\u001b[0m \u001b[0mstars\u001b[0m\u001b[1;33m)\u001b[0m\u001b[1;33m\u001b[0m\u001b[1;33m\u001b[0m\u001b[0m\n\u001b[0m\u001b[0;32m    846\u001b[0m \u001b[1;33m\u001b[0m\u001b[0m\n\u001b[0;32m    847\u001b[0m             \u001b[1;31m# find all stars where the fit failed\u001b[0m\u001b[1;33m\u001b[0m\u001b[1;33m\u001b[0m\u001b[1;33m\u001b[0m\u001b[0m\n",
      "\u001b[1;32m~\\anaconda3\\lib\\site-packages\\photutils\\psf\\epsf.py\u001b[0m in \u001b[0;36m__call__\u001b[1;34m(self, epsf, stars)\u001b[0m\n\u001b[0;32m    117\u001b[0m         \u001b[1;32mfor\u001b[0m \u001b[0mstar\u001b[0m \u001b[1;32min\u001b[0m \u001b[0mstars\u001b[0m\u001b[1;33m:\u001b[0m\u001b[1;33m\u001b[0m\u001b[1;33m\u001b[0m\u001b[0m\n\u001b[0;32m    118\u001b[0m             \u001b[1;32mif\u001b[0m \u001b[0misinstance\u001b[0m\u001b[1;33m(\u001b[0m\u001b[0mstar\u001b[0m\u001b[1;33m,\u001b[0m \u001b[0mEPSFStar\u001b[0m\u001b[1;33m)\u001b[0m\u001b[1;33m:\u001b[0m\u001b[1;33m\u001b[0m\u001b[1;33m\u001b[0m\u001b[0m\n\u001b[1;32m--> 119\u001b[1;33m                 fitted_star = self._fit_star(epsf, star, self.fitter,\n\u001b[0m\u001b[0;32m    120\u001b[0m                                              \u001b[0mself\u001b[0m\u001b[1;33m.\u001b[0m\u001b[0mfitter_kwargs\u001b[0m\u001b[1;33m,\u001b[0m\u001b[1;33m\u001b[0m\u001b[1;33m\u001b[0m\u001b[0m\n\u001b[0;32m    121\u001b[0m                                              \u001b[0mself\u001b[0m\u001b[1;33m.\u001b[0m\u001b[0mfitter_has_fit_info\u001b[0m\u001b[1;33m,\u001b[0m\u001b[1;33m\u001b[0m\u001b[1;33m\u001b[0m\u001b[0m\n",
      "\u001b[1;32m~\\anaconda3\\lib\\site-packages\\photutils\\psf\\epsf.py\u001b[0m in \u001b[0;36m_fit_star\u001b[1;34m(self, epsf, star, fitter, fitter_kwargs, fitter_has_fit_info, fit_boxsize)\u001b[0m\n\u001b[0;32m    155\u001b[0m             \u001b[1;32mtry\u001b[0m\u001b[1;33m:\u001b[0m\u001b[1;33m\u001b[0m\u001b[1;33m\u001b[0m\u001b[0m\n\u001b[0;32m    156\u001b[0m                 \u001b[0mxcenter\u001b[0m\u001b[1;33m,\u001b[0m \u001b[0mycenter\u001b[0m \u001b[1;33m=\u001b[0m \u001b[0mstar\u001b[0m\u001b[1;33m.\u001b[0m\u001b[0mcutout_center\u001b[0m\u001b[1;33m\u001b[0m\u001b[1;33m\u001b[0m\u001b[0m\n\u001b[1;32m--> 157\u001b[1;33m                 large_slc, _ = overlap_slices(star.shape, fit_boxsize,\n\u001b[0m\u001b[0;32m    158\u001b[0m                                               \u001b[1;33m(\u001b[0m\u001b[0mycenter\u001b[0m\u001b[1;33m,\u001b[0m \u001b[0mxcenter\u001b[0m\u001b[1;33m)\u001b[0m\u001b[1;33m,\u001b[0m\u001b[1;33m\u001b[0m\u001b[1;33m\u001b[0m\u001b[0m\n\u001b[0;32m    159\u001b[0m                                               mode='strict')\n",
      "\u001b[1;32m~\\anaconda3\\lib\\site-packages\\astropy\\nddata\\utils.py\u001b[0m in \u001b[0;36moverlap_slices\u001b[1;34m(large_array_shape, small_array_shape, position, mode)\u001b[0m\n\u001b[0;32m     89\u001b[0m \u001b[1;33m\u001b[0m\u001b[0m\n\u001b[0;32m     90\u001b[0m     \u001b[1;32mif\u001b[0m \u001b[0many\u001b[0m\u001b[1;33m(\u001b[0m\u001b[1;33m~\u001b[0m\u001b[0mnp\u001b[0m\u001b[1;33m.\u001b[0m\u001b[0misfinite\u001b[0m\u001b[1;33m(\u001b[0m\u001b[0mposition\u001b[0m\u001b[1;33m)\u001b[0m\u001b[1;33m)\u001b[0m\u001b[1;33m:\u001b[0m\u001b[1;33m\u001b[0m\u001b[1;33m\u001b[0m\u001b[0m\n\u001b[1;32m---> 91\u001b[1;33m         raise ValueError('Input position contains invalid values (NaNs or '\n\u001b[0m\u001b[0;32m     92\u001b[0m                          'infs).')\n\u001b[0;32m     93\u001b[0m \u001b[1;33m\u001b[0m\u001b[0m\n",
      "\u001b[1;31mValueError\u001b[0m: Input position contains invalid values (NaNs or infs)."
     ]
    }
   ],
   "source": [
    "#attempting and failing to make an effective psf fitter\n",
    "\n",
    "#increase maxiters to smooth more and decrease oversampling to avoid issues \n",
    "from photutils.psf import EPSFBuilder\n",
    "epsf_builder = EPSFBuilder(oversampling=1, maxiters=30,\n",
    "                           progress_bar=False)  \n",
    "\n",
    "for i in range(len(stars_list)):\n",
    "    epsf, fitted_stars = epsf_builder(stars_list[i])  \n",
    "    norm = simple_norm(epsf.data, 'log', percent=99.)\n",
    "    plt.imshow(epsf.data, norm=norm, origin='lower', cmap='viridis')\n",
    "    plt.colorbar()\n",
    "    plt.savefig('hh7_11_checks/EPSFs/'+file_start[i]+'_EPSF.png')\n",
    "    plt.close()\n",
    "    \n",
    "        #https://photutils.readthedocs.io/en/stable/psf_matching.html could be inspiration\n",
    "    #https://www.stsci.edu/files/live/sites/www/files/home/hst/instrumentation/wfc3/documentation/instrument-science-reports-isrs/_documents/2016/WFC3-2016-12.pdf can see for more...\n",
    "\n",
    "    #instead let's double check stackoverflow for now...seems complex\n",
    "    #ultimately just trying epsf cross section, like in https://stackoverflow.com/questions/18920614/plot-cross-section-through-heat-map\n",
    "\n",
    "    # Coordinates of the line we'd like to sample along\n",
    "    line = [(0, 13.5), (25, 13.5)]\n",
    "\n",
    "    # Convert the line to pixel/index coordinates\n",
    "    x, y = np.arange(epsf.data.shape[0]), np.arange(epsf.data.shape[1])\n",
    "    x_world, y_world = np.array(list(zip(*line)))\n",
    "    col = epsf.data.shape[1] * (x_world - x.min()) / x.ptp()\n",
    "    row = epsf.data.shape[0] * (y_world - y.min()) / y.ptp()\n",
    "\n",
    "    # Interpolate the line at \"num\" points...\n",
    "    num = 27\n",
    "    row, col = [np.linspace(item[0], item[1], num) for item in [row, col]]\n",
    "\n",
    "    # Plot...\n",
    "    fig, axes = plt.subplots(figsize=(10, 8), nrows=2, ncols=2)\n",
    "    fig.delaxes(axes[0,1])\n",
    "\n",
    "    axes[1,0].pcolormesh(x, y, epsf.data)\n",
    "    axes[1,0].plot(x_world, y_world, 'ro-')\n",
    "    axes[1,0].plot(y_world, x_world, 'bo-')\n",
    "    axes[1,0].axis('image')\n",
    "\n",
    "    # Extract the values along the line, using cubic interpolation\n",
    "    import scipy as sp\n",
    "    #horizontal cut\n",
    "    cross_sec_hori = sp.ndimage.map_coordinates(epsf.data, np.vstack((row, col)))\n",
    "    axes[0,0].scatter(np.arange(len(cross_sec_hori)), cross_sec_hori, color='r')\n",
    "\n",
    "    #vertical cut\n",
    "    cross_sec_vert = sp.ndimage.map_coordinates(epsf.data, np.vstack((col, row)))\n",
    "    axes[1,1].scatter(cross_sec_vert, np.arange(len(cross_sec_vert)), color='b')\n",
    "\n",
    "    plt.savefig('hh7_11_checks/psf_profiles/'+file_start[i]+'_EPSF.png')\n",
    "    plt.close()"
   ]
  },
  {
   "cell_type": "code",
   "execution_count": 53,
   "metadata": {
    "scrolled": false
   },
   "outputs": [
    {
     "name": "stderr",
     "output_type": "stream",
     "text": [
      "<ipython-input-53-d0b0bcfb0ba0>:24: MatplotlibDeprecationWarning: shading='flat' when X and Y have the same dimensions as C is deprecated since 3.3.  Either specify the corners of the quadrilaterals with X and Y, or pass shading='auto', 'nearest' or 'gouraud', or set rcParams['pcolor.shading'].  This will become an error two minor releases later.\n",
      "  axes[1,0].pcolormesh(x, y, epsf.data)\n"
     ]
    },
    {
     "data": {
      "image/png": "[encoded data removed]",
      "text/plain": [
       "<Figure size 720x576 with 3 Axes>"
      ]
     },
     "metadata": {
      "needs_background": "light"
     },
     "output_type": "display_data"
    }
   ],
   "source": []
  },
  {
   "cell_type": "code",
   "execution_count": 180,
   "metadata": {},
   "outputs": [],
   "source": [
    "'''\n",
    "This shows it is about 3 to 4 pixels wide for FWHM (haven't directly measured yet)\n",
    "\n",
    "theta as in res is 1.2 * lambda / D\n",
    "If we take 1.64 microns and 2.4e6 meters, then we get an angular res of \n",
    "1.319e-6 radians ?\n",
    "Ok so we can use pixtorad of 6.217729758370198e-07 rads = 1 pix\n",
    "So we therefore divide to get 2.12 pixels\n",
    "\n",
    "So the 2.12 is perhaps a slight underestimate? Depends on the specifics of this model and the cross section, though\n",
    "'''"
   ]
  },
  {
   "cell_type": "code",
   "execution_count": null,
   "metadata": {},
   "outputs": [],
   "source": []
  }
 ],
 "metadata": {
  "kernelspec": {
   "display_name": "Python 3",
   "language": "python",
   "name": "python3"
  },
  "language_info": {
   "codemirror_mode": {
    "name": "ipython",
    "version": 3
   },
   "file_extension": ".py",
   "mimetype": "text/x-python",
   "name": "python",
   "nbconvert_exporter": "python",
   "pygments_lexer": "ipython3",
   "version": "3.8.5"
  }
 },
 "nbformat": 4,
 "nbformat_minor": 4
}
