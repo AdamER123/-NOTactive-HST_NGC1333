{
 "cells": [
  {
   "cell_type": "code",
   "execution_count": 1,
   "metadata": {},
   "outputs": [
    {
     "name": "stdout",
     "output_type": "stream",
     "text": [
      "3.8.5\n"
     ]
    }
   ],
   "source": [
    "#purpose is to take HST images and identify extended sources (namely HH objects)\n",
    "\n",
    "#just to check python version - should be 3.7.4\n",
    "from platform import python_version\n",
    "print(python_version())\n",
    "\n",
    "#importing libraries\n",
    "from astropy.io import fits\n",
    "from astropy.convolution import convolve, Gaussian2DKernel, Box2DKernel\n",
    "from astropy.nddata import Cutout2D\n",
    "from astropy.wcs import WCS\n",
    "from reproject import reproject_exact  #a package that can be added to astropy using anaconda or pip (see their docs pg)\n",
    "from reproject import reproject_interp\n",
    "\n",
    "import glob\n",
    "import itertools\n",
    "import matplotlib \n",
    "matplotlib.use('Agg') #invokved b/c just plain matplotlib was insufficient\n",
    "import matplotlib.pyplot as plt\n",
    "import numpy as np\n",
    "import pandas as pd\n",
    "import sys"
   ]
  },
  {
   "cell_type": "code",
   "execution_count": 2,
   "metadata": {},
   "outputs": [
    {
     "name": "stdout",
     "output_type": "stream",
     "text": [
      "0 ../../n1333_photometry_ds9.bck.dir/Frame1/n1333_lh_3_FeII_flag400_2_map_fixed.FIT\n",
      "1 ../../n1333_photometry_ds9.bck.dir/Frame10/n1333_sh_1_S32_map.fits\n",
      "2 ../../n1333_photometry_ds9.bck.dir/Frame11/n1333_sh_NeII_2_map.fits\n",
      "3 ../../n1333_photometry_ds9.bck.dir/Frame12/n1333_sh_S2_2_map.fits\n",
      "4 ../../n1333_photometry_ds9.bck.dir/Frame13/n1333_sl1_NeII_bksub_trim_2_map.fits\n",
      "5 ../../n1333_photometry_ds9.bck.dir/Frame14/n1333_sl1_S2_bksub_trim_2_map.fits\n",
      "6 ../../n1333_photometry_ds9.bck.dir/Frame15/n1333_sl1_S3_bksub_trim_2_map_fixed1.FIT\n",
      "7 ../../n1333_photometry_ds9.bck.dir/Frame16/n1333_sl1_S4_bksub_trim_3_map.fits\n",
      "8 ../../n1333_photometry_ds9.bck.dir/Frame17/n1333_sl2_S5_bksub_trim_2_map.fits\n",
      "9 ../../n1333_photometry_ds9.bck.dir/Frame18/n1333_sl2_S6_bksub_trim_3_map.fits\n",
      "10 ../../n1333_photometry_ds9.bck.dir/Frame19/n1333_sl2_S7_bksub_trim_2_map.fits\n",
      "11 ../../n1333_photometry_ds9.bck.dir/Frame2/n1333_lh_3_S0_flag400_2_map_fixed.FIT\n",
      "12 ../../n1333_photometry_ds9.bck.dir/Frame3/n1333_lh_3_SI_flag400_2_map_fixed.FIT\n",
      "13 ../../n1333_photometry_ds9.bck.dir/Frame4/n1333_lh_3_SiII_flag400_2_map_fixed.FIT\n",
      "14 ../../n1333_photometry_ds9.bck.dir/Frame5/n1333_ll1_FeII_bksub_trim_3_map_fixed2.FIT\n",
      "15 ../../n1333_photometry_ds9.bck.dir/Frame6/n1333_ll1_S0_bksub_trim_3_map.fits\n",
      "16 ../../n1333_photometry_ds9.bck.dir/Frame7/n1333_ll1_SiII_bksub_trim_2_map_fixed1.FIT\n",
      "17 ../../n1333_photometry_ds9.bck.dir/Frame8/n1333_ll2_S1_bksub_trim_2_map_fixed1.FIT\n",
      "18 ../../n1333_photometry_ds9.bck.dir/Frame9/n1333_ll2_FeII_bksub_trim_3_map.fits\n",
      "4.9291532e-19 339.31592\n",
      "4.2779222e-19 357.43805\n",
      "2.7760207e-19 700.0654299999999\n",
      "loaded data!\n"
     ]
    }
   ],
   "source": [
    "# #finding the path to every fits images in a directory\n",
    "def im_name_finder(path, file_type):\n",
    "    #Using glob (it's a unix command similar to ls)\n",
    "    #WARNING: using recursive=True...depending how many images you use this could be very slow, it's recommended not to have too many subfolders\n",
    "    #if needed, some example code is commented towards the latter half of this code that could help make an alternative\n",
    "    all_names = glob.glob(path, recursive=True)\n",
    "\n",
    "    #IMPORTANT: Using \"fit\" here because it is inclusive of both fits and FIT...some files end in \"FIT\" and need to be included\n",
    "    #can edit this accordingly or edit your file names\n",
    "    #using s.lower() includes uppercase extensions like FIT\n",
    "    im_names = [s for s in all_names if 'fit' in s.lower()]\n",
    "\n",
    "    return im_names\n",
    "\n",
    "# #EX: grabbing all the fits image paths in a directory, #so they can be looped through and their data opened\n",
    "# #set your path to some directory with images # (the images can be in subdirectories)\n",
    "#the spitzer images\n",
    "path = '../../n1333_photometry_ds9.bck.dir/**' # #using ** will grab all files even in subdirectories WARNING takes longer\n",
    "im_names_spitz = im_name_finder(path, 'fit') #im_finder is basically glob.glob\n",
    "im_names_spitz = [i.replace('\\\\', '/') for i in im_names_spitz]\n",
    "im_names_spitz.remove('../../n1333_photometry_ds9.bck.dir/Frame20/n1333_band2_300_300_residual_hdrswap.fits')\n",
    "\n",
    "\n",
    "#the hubble images\n",
    "files_units = ['../../ngc1333_fits/126build_shift_2_drz.fits', \n",
    "                '../../ngc1333_fits/128build_shift_2_drz.fits', \n",
    "                '../../ngc1333_fits/164build_shift_2_drz.fits']\n",
    "\n",
    "files_data = ['../../ngc1333_fits/126build_shift_2_drz.fits', \n",
    "                '../../ngc1333_fits/128build_shift_2_drz.fits', \n",
    "                '../../ngc1333_fits/164build_shift_2_drz.fits']\n",
    "\n",
    "#initializing some lists to be used\n",
    "hdu_pix_list = []\n",
    "hdu_pixtorad_list = []\n",
    "hdu_fnu_list = []\n",
    "hdu_flam_list = []\n",
    "hdu_bw_list = []\n",
    "hdu_data_list = []\n",
    "hdu_header_list = []\n",
    "# we ignore throughput since it is included (?) in the other conversion values I'm told\n",
    "# throughput_list = [1., 1., 1., 1., 1., 1.] # [0.242, 1., 0.246, 0.496, 0.521, 0.470] #also has to be done by hand, not in the headers?\n",
    "\n",
    "files_units = im_names_spitz + files_units\n",
    "files_data = im_names_spitz + files_data\n",
    "\n",
    "#opening data and headers\n",
    "hdu_list_units = [fits.open(i) for i in files_units]\n",
    "hdu_list = [fits.open(i) for i in files_data]\n",
    "\n",
    "    \n",
    "#I'm using count here just to point to specific indices that I've set up...unfortunately some have different headers...\n",
    "#the only diff between the if and else cases are the indexing of the hdu's, some need 1 and some need 0\n",
    "#I've tried to group it for convience, so the the first two have the same headers, the last 3 have the same headers\n",
    "count = 0\n",
    "for (hdu_units,hdu_data) in zip(hdu_list_units, hdu_list):\n",
    "    if count < len(hdu_list)-3: #the spitzer ones\n",
    "        #reading in conversions\n",
    "        print(count, files_units[count])\n",
    "        hdu_pix_list.append(hdu_units[0].header['CDELT2'])  #CDELT2 is the keyword for Spitzer images, in arcsec\n",
    "        hdu_pixtorad_list.append(hdu_pix_list[count] * np.pi / 180.) #convert to radians\n",
    "        # hdu_fnu_list.append(hdu_units[0].header['PHOTFNU'])\n",
    "        # hdu_flam_list.append(hdu_units[0].header['PHOTFLAM'])\n",
    "#         hdu_bw_list.append(hdu_units[0].header['PHOTBW'])\n",
    "\n",
    "        #reading in datafor general use  and header for wcs\n",
    "        #the spiter data is in MJy / sr, so let's convert out the MJy to Flam units, times by bw/calscale from earlier\n",
    "        #this gets units of erg/cm^2/sec - we also times by 1 rad^2 - 1 sr!  \n",
    "        hdu_data_list.append(hdu_data[0].data * 1e6 * 1e-23 * hdu_pixtorad_list[count]**2.)  \n",
    "        hdu_header_list.append(hdu_data[0].header)\n",
    "        \n",
    "    else: #the hubble ones\n",
    "        #reading in conversions\n",
    "        hdu_pix_list.append(hdu_units[0].header['D001SCAL'])  #D001SCAL is the keyword for Hubble images, in sr\n",
    "        hdu_pixtorad_list.append(hdu_pix_list[count] / 206265.)\n",
    "        # hdu_fnu_list.append(hdu_units[0].header['PHOTFNU'])\n",
    "        hdu_flam_list.append(hdu_units[0].header['PHOTFLAM'])\n",
    "        hdu_bw_list.append(hdu_units[0].header['PHOTBW'])\n",
    "\n",
    "        #reading in data for general use  and header for wcs\n",
    "        #converting by times by flam * bw from e-/sec...should get units of erg/cm^2/sec as above\n",
    "        hdu_data_list.append(hdu_data[1].data * hdu_units[0].header['PHOTFLAM'] * hdu_units[0].header['PHOTBW'])\n",
    "        print(hdu_units[0].header['PHOTFLAM'], hdu_units[0].header['PHOTBW'])\n",
    "        hdu_header_list.append(hdu_data[1].header)\n",
    "\n",
    "    count += 1\n",
    "\n",
    "print('loaded data!')"
   ]
  },
  {
   "cell_type": "code",
   "execution_count": 3,
   "metadata": {},
   "outputs": [
    {
     "data": {
      "text/plain": [
       "[[<astropy.io.fits.hdu.image.PrimaryHDU object at 0x0000013273BD3FA0>],\n",
       " [<astropy.io.fits.hdu.image.PrimaryHDU object at 0x0000013273BD3EB0>],\n",
       " [<astropy.io.fits.hdu.image.PrimaryHDU object at 0x0000013273C6C340>],\n",
       " [<astropy.io.fits.hdu.image.PrimaryHDU object at 0x0000013273C90250>],\n",
       " [<astropy.io.fits.hdu.image.PrimaryHDU object at 0x0000013273CBE160>],\n",
       " [<astropy.io.fits.hdu.image.PrimaryHDU object at 0x0000013273CB86A0>],\n",
       " [<astropy.io.fits.hdu.image.PrimaryHDU object at 0x0000013273CDDBE0>],\n",
       " [<astropy.io.fits.hdu.image.PrimaryHDU object at 0x0000013273D01280>],\n",
       " [<astropy.io.fits.hdu.image.PrimaryHDU object at 0x0000013273D3DA00>],\n",
       " [<astropy.io.fits.hdu.image.PrimaryHDU object at 0x0000013273D6FF40>],\n",
       " [<astropy.io.fits.hdu.image.PrimaryHDU object at 0x0000013273D4C4C0>],\n",
       " [<astropy.io.fits.hdu.image.PrimaryHDU object at 0x0000013273DA2A00>],\n",
       " [<astropy.io.fits.hdu.image.PrimaryHDU object at 0x0000013273DDCE50>],\n",
       " [<astropy.io.fits.hdu.image.PrimaryHDU object at 0x0000013273E092E0>],\n",
       " [<astropy.io.fits.hdu.image.PrimaryHDU object at 0x0000013273E3A940>],\n",
       " [<astropy.io.fits.hdu.image.PrimaryHDU object at 0x0000013273E3A880>],\n",
       " [<astropy.io.fits.hdu.image.PrimaryHDU object at 0x0000013273E8C400>],\n",
       " [<astropy.io.fits.hdu.image.PrimaryHDU object at 0x0000013273E3A970>],\n",
       " [<astropy.io.fits.hdu.image.PrimaryHDU object at 0x0000013273E3A760>],\n",
       " [<astropy.io.fits.hdu.image.PrimaryHDU object at 0x0000013273ED2AC0>, <astropy.io.fits.hdu.image.ImageHDU object at 0x00000132741F4220>, <astropy.io.fits.hdu.image.ImageHDU object at 0x0000013271A27460>, <astropy.io.fits.hdu.image.ImageHDU object at 0x000001326DDB7550>, <astropy.io.fits.hdu.table.BinTableHDU object at 0x000001326DDC2430>],\n",
       " [<astropy.io.fits.hdu.image.PrimaryHDU object at 0x0000013273F977F0>, <astropy.io.fits.hdu.image.ImageHDU object at 0x00000132742082E0>, <astropy.io.fits.hdu.image.ImageHDU object at 0x000001327360E250>, <astropy.io.fits.hdu.image.ImageHDU object at 0x000001327360E430>, <astropy.io.fits.hdu.table.BinTableHDU object at 0x000001327360E670>],\n",
       " [<astropy.io.fits.hdu.image.PrimaryHDU object at 0x00000132740A3520>, <astropy.io.fits.hdu.image.ImageHDU object at 0x00000132742080A0>, <astropy.io.fits.hdu.image.ImageHDU object at 0x0000013274214D30>, <astropy.io.fits.hdu.image.ImageHDU object at 0x0000013274214F70>, <astropy.io.fits.hdu.table.BinTableHDU object at 0x000001327488F220>]]"
      ]
     },
     "execution_count": 3,
     "metadata": {},
     "output_type": "execute_result"
    }
   ],
   "source": [
    "%matplotlib inline\n",
    "hdu_list"
   ]
  },
  {
   "cell_type": "code",
   "execution_count": null,
   "metadata": {},
   "outputs": [],
   "source": [
    "flux- or snr based conditional on astropy segmentation maps or surrounding local maxes\n",
    "\n",
    "https://photutils.readthedocs.io/en/stable/isophote.html\n",
    "    \n",
    "https://stackoverflow.com/questions/5666056/matplotlib-extracting-data-from-contour-lines\n",
    "\n",
    "https://stackoverflow.com/questions/36399381/whats-the-fastest-way-of-checking-if-a-point-is-inside-a-polygon-in-python"
   ]
  }
 ],
 "metadata": {
  "kernelspec": {
   "display_name": "Python 3",
   "language": "python",
   "name": "python3"
  },
  "language_info": {
   "codemirror_mode": {
    "name": "ipython",
    "version": 3
   },
   "file_extension": ".py",
   "mimetype": "text/x-python",
   "name": "python",
   "nbconvert_exporter": "python",
   "pygments_lexer": "ipython3",
   "version": "3.8.5"
  }
 },
 "nbformat": 4,
 "nbformat_minor": 4
}
