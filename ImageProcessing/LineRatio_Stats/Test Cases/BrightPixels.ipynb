{
 "cells": [
  {
   "cell_type": "code",
   "execution_count": 6,
   "metadata": {},
   "outputs": [],
   "source": [
    "from astropy.io import fits\n",
    "from astropy.wcs import WCS\n",
    "import matplotlib.pyplot as plt\n",
    "import numpy as np\n",
    "import pandas as pd\n",
    "import itertools"
   ]
  },
  {
   "cell_type": "code",
   "execution_count": null,
   "metadata": {
    "scrolled": false
   },
   "outputs": [],
   "source": [
    "hst126 = fits.open('FITS_images/Deextincted/deext_lamflam_126_dash_filled_final.fits')\n",
    "\n",
    "data126 = hst126[0].data\n",
    "\n",
    "for y,x in itertools.product(range(data126.shape[0]),range(data126.shape[1])):\n",
    "    pixel = data126[y,x]\n",
    "    \n",
    "    if (y+1 == 3253) or (x+1 == 3492): # this number falls out of range for the array so just picking different neighbors       \n",
    "        n1 = data126[y-1,x]\n",
    "        n2 = data126[y,x-1]\n",
    "        n3 = data126[y-1,x-1]\n",
    "        if (pixel == np.nan) and (n1 == np.nan) and (n2 == np.nan) and (n3 == np.nan): #np.nanmean/median doesn't seem to like all nans\n",
    "            continue\n",
    "        else:\n",
    "            navg = np.nanmedian([n1,n2,n3]) # taking the median of the 3 nearest neighbors\n",
    "            if pixel > 10**(7)*navg: # if the pixel is 10^7 times brighter than median its set to median, could change cutoff\n",
    "                data126[y,x] = navg\n",
    "            else:\n",
    "                continue\n",
    "    \n",
    "    elif (y-1 == -1) or (x-1 == -1): # this would send it to the other end of the image so not actually near the pixel\n",
    "        n1 = data126[y+1,x]\n",
    "        n2 = data126[y,x+1]\n",
    "        n3 = data126[y+1, x+1]\n",
    "        if (pixel == np.nan) and (n1 == np.nan) and (n2 == np.nan) and (n3 == np.nan):\n",
    "            continue\n",
    "        else:\n",
    "            navg = np.nanmedian([n1,n2,n3])\n",
    "            if pixel > 10**(7)*navg:\n",
    "                data126[y,x] = navg\n",
    "            else:\n",
    "                continue\n",
    "    \n",
    "    else:\n",
    "        n1 = data126[y-1,x]\n",
    "        n2 = data126[y,x-1]\n",
    "        n3 = data126[y+1,x]\n",
    "        n4 = data126[y,x+1]\n",
    "        if (pixel == np.nan) and (n1 == np.nan) and (n2 == np.nan) and (n3 == np.nan) and (n4 == np.nan):\n",
    "            continue\n",
    "        else:\n",
    "            navg = np.nanmedian([n1,n2,n3,n4])\n",
    "            if pixel > 10**(7)*navg:\n",
    "                data126[y,x] = navg\n",
    "            else:\n",
    "                continue\n",
    "    \n",
    "    \n",
    "hst126.writeto(\"FITS_images/BrightPixelTest16.fits\")\n"
   ]
  },
  {
   "cell_type": "code",
   "execution_count": null,
   "metadata": {},
   "outputs": [],
   "source": [
    "plt.imshow(data126, vmin=-2.48*10**(-15), vmax=3.07*10**(-15))"
   ]
  },
  {
   "cell_type": "code",
   "execution_count": null,
   "metadata": {},
   "outputs": [],
   "source": []
  }
 ],
 "metadata": {
  "kernelspec": {
   "display_name": "Python 3",
   "language": "python",
   "name": "python3"
  },
  "language_info": {
   "codemirror_mode": {
    "name": "ipython",
    "version": 3
   },
   "file_extension": ".py",
   "mimetype": "text/x-python",
   "name": "python",
   "nbconvert_exporter": "python",
   "pygments_lexer": "ipython3",
   "version": "3.8.5"
  }
 },
 "nbformat": 4,
 "nbformat_minor": 4
}
